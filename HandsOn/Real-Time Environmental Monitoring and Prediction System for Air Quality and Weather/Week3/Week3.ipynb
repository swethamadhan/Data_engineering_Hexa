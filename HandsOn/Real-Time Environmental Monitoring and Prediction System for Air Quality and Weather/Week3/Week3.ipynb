{
  "nbformat": 4,
  "nbformat_minor": 0,
  "metadata": {
    "colab": {
      "provenance": []
    },
    "kernelspec": {
      "name": "python3",
      "display_name": "Python 3"
    },
    "language_info": {
      "name": "python"
    }
  },
  "cells": [
    {
      "cell_type": "code",
      "execution_count": 1,
      "metadata": {
        "colab": {
          "base_uri": "https://localhost:8080/"
        },
        "id": "FYHbB8xDBjjt",
        "outputId": "3ab7923e-78c7-4cf2-ea83-241d81bfbfd5"
      },
      "outputs": [
        {
          "output_type": "stream",
          "name": "stdout",
          "text": [
            "Collecting pyspark\n",
            "  Downloading pyspark-3.5.2.tar.gz (317.3 MB)\n",
            "\u001b[2K     \u001b[90m━━━━━━━━━━━━━━━━━━━━━━━━━━━━━━━━━━━━━━━━\u001b[0m \u001b[32m317.3/317.3 MB\u001b[0m \u001b[31m4.5 MB/s\u001b[0m eta \u001b[36m0:00:00\u001b[0m\n",
            "\u001b[?25h  Preparing metadata (setup.py) ... \u001b[?25l\u001b[?25hdone\n",
            "Requirement already satisfied: py4j==0.10.9.7 in /usr/local/lib/python3.10/dist-packages (from pyspark) (0.10.9.7)\n",
            "Building wheels for collected packages: pyspark\n",
            "  Building wheel for pyspark (setup.py) ... \u001b[?25l\u001b[?25hdone\n",
            "  Created wheel for pyspark: filename=pyspark-3.5.2-py2.py3-none-any.whl size=317812365 sha256=d36c22c07189f3759fd6d46e7821b692736431e09ca2418e8a3df7ac54ad899a\n",
            "  Stored in directory: /root/.cache/pip/wheels/34/34/bd/03944534c44b677cd5859f248090daa9fb27b3c8f8e5f49574\n",
            "Successfully built pyspark\n",
            "Installing collected packages: pyspark\n",
            "Successfully installed pyspark-3.5.2\n"
          ]
        }
      ],
      "source": [
        "!pip install pyspark"
      ]
    },
    {
      "cell_type": "code",
      "source": [
        "from pyspark.sql import SparkSession\n",
        "from pyspark.sql.functions import col"
      ],
      "metadata": {
        "id": "90WyhMjXCEqv"
      },
      "execution_count": 3,
      "outputs": []
    },
    {
      "cell_type": "markdown",
      "source": [
        "# Task 1: Set Up Spark Streaming"
      ],
      "metadata": {
        "id": "TA9kdwxOCGoq"
      }
    },
    {
      "cell_type": "code",
      "source": [
        "# Create a Spark session for streaming environmental data\n",
        "spark = SparkSession.builder \\\n",
        "    .appName(\"EnvironmentalMonitoring\") \\\n",
        "    .getOrCreate()"
      ],
      "metadata": {
        "id": "A0_c4yjUCI9U"
      },
      "execution_count": 4,
      "outputs": []
    },
    {
      "cell_type": "code",
      "source": [
        "# Set log level to reduce verbosity\n",
        "spark.sparkContext.setLogLevel(\"WARN\")"
      ],
      "metadata": {
        "id": "wbkygBmLCMkr"
      },
      "execution_count": 5,
      "outputs": []
    },
    {
      "cell_type": "code",
      "source": [
        "# Read data from the CSV file (replace real-time streaming with batch data processing)\n",
        "# Load environmental data from the CSV file (replace the file path with the actual path to your CSV file)\n",
        "environment_stream = spark.read.option(\"header\", \"true\").csv(\"environmental_data_anomalies.csv\")\n"
      ],
      "metadata": {
        "id": "58JsLATMCdkj"
      },
      "execution_count": 18,
      "outputs": []
    },
    {
      "cell_type": "code",
      "source": [
        "# Convert columns to appropriate data types\n",
        "environment_stream = environment_stream.withColumn(\"pm25\", col(\"pm25\").cast(\"float\")) \\\n",
        "    .withColumn(\"pm10\", col(\"pm10\").cast(\"float\")) \\\n",
        "    .withColumn(\"co2\", col(\"co2\").cast(\"float\")) \\\n",
        "    .withColumn(\"temperature\", col(\"temperature\").cast(\"float\")) \\\n",
        "    .withColumn(\"humidity\", col(\"humidity\").cast(\"float\")) \\\n",
        "    .withColumn(\"wind_speed\", col(\"wind_speed\").cast(\"float\"))"
      ],
      "metadata": {
        "id": "Z6DfK4H2Cinh"
      },
      "execution_count": 19,
      "outputs": []
    },
    {
      "cell_type": "markdown",
      "source": [
        "# Task 2: Anomaly Detection"
      ],
      "metadata": {
        "id": "yMPOEmQ3Dalr"
      }
    },
    {
      "cell_type": "code",
      "source": [
        "# Detect anomalies: Identify pollution spikes or extreme weather conditions\n",
        "anomalies = environment_stream.filter(\n",
        "    (col(\"pm25\") > 150) |  # PM2.5 pollution spike\n",
        "    (col(\"temperature\") > 40) |  # Extremely high temperature\n",
        "    (col(\"temperature\") < 0) |  # Extremely low temperature\n",
        "    (col(\"humidity\") > 90) |  # Extremely high humidity\n",
        "    (col(\"wind_speed\") > 20)  # High wind speed\n",
        ")"
      ],
      "metadata": {
        "id": "8EyV7EhCDQta"
      },
      "execution_count": 20,
      "outputs": []
    },
    {
      "cell_type": "code",
      "source": [
        "anomalies.show()"
      ],
      "metadata": {
        "colab": {
          "base_uri": "https://localhost:8080/"
        },
        "id": "SuA2mXwpDdLc",
        "outputId": "6856ec45-3b87-4272-8b20-2dd043127d86"
      },
      "execution_count": 21,
      "outputs": [
        {
          "output_type": "stream",
          "name": "stdout",
          "text": [
            "+---------+-----+-----+-----+-----------+--------+----------+--------------------+\n",
            "|sensor_id| pm25| pm10|  co2|temperature|humidity|wind_speed|           timestamp|\n",
            "+---------+-----+-----+-----+-----------+--------+----------+--------------------+\n",
            "|        2|162.0| 80.2|450.0|       42.0|    55.0|       6.0|2024-09-01 12:05:...|\n",
            "|        5|140.2|100.0|420.0|       28.0|    90.5|       8.0|2024-09-01 12:20:...|\n",
            "|        6| 85.0|120.0|480.0|       35.5|    60.0|      22.5|2024-09-01 12:25:...|\n",
            "|        7| 10.5| 15.0|350.0|       40.5|    40.0|      15.0| 2024-09-01 12:30:00|\n",
            "|        8|  5.0| 10.0|340.0|       38.0|    95.0|      10.0|2024-09-01 12:35:...|\n",
            "|        9| 12.0| 20.0|360.0|       -5.0|    30.0|       5.0|2024-09-01 12:40:...|\n",
            "|       10|155.0| 75.0|410.0|       45.0|    85.0|      25.0|2024-09-01 12:45:...|\n",
            "+---------+-----+-----+-----+-----------+--------+----------+--------------------+\n",
            "\n"
          ]
        }
      ]
    },
    {
      "cell_type": "code",
      "source": [],
      "metadata": {
        "id": "ERd76mRmDlNd"
      },
      "execution_count": null,
      "outputs": []
    }
  ]
}