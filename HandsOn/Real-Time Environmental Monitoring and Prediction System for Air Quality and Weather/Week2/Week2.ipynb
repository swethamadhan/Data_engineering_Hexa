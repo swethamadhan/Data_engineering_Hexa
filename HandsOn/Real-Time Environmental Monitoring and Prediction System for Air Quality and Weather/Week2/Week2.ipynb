{
  "nbformat": 4,
  "nbformat_minor": 0,
  "metadata": {
    "colab": {
      "provenance": []
    },
    "kernelspec": {
      "name": "python3",
      "display_name": "Python 3"
    },
    "language_info": {
      "name": "python"
    }
  },
  "cells": [
    {
      "cell_type": "code",
      "execution_count": 1,
      "metadata": {
        "id": "EbcmhkTt_A3G"
      },
      "outputs": [],
      "source": [
        "import pandas as pd\n",
        "import requests\n",
        "from sklearn.preprocessing import MinMaxScaler, StandardScaler"
      ]
    },
    {
      "cell_type": "markdown",
      "source": [
        "# Task 1: Data Collection (from CSV file)"
      ],
      "metadata": {
        "id": "y-Xp4nSy_OV6"
      }
    },
    {
      "cell_type": "code",
      "source": [
        "# Load environmental data from a CSV file\n",
        "csv_file_path = \"/content/environmental_data.csv\"  # Replace with the actual path to your CSV file\n",
        "environmental_data = pd.read_csv(csv_file_path)"
      ],
      "metadata": {
        "id": "UpGIAXuO_G8O"
      },
      "execution_count": 2,
      "outputs": []
    },
    {
      "cell_type": "markdown",
      "source": [
        "# Task 2: Data Preprocessing"
      ],
      "metadata": {
        "id": "riHh8pUx_nLm"
      }
    },
    {
      "cell_type": "code",
      "source": [
        "# Handle missing values by filling with the mean value of the column\n",
        "environmental_data.fillna(environmental_data.mean(), inplace=True)"
      ],
      "metadata": {
        "id": "9r4_jzBu_G40"
      },
      "execution_count": 3,
      "outputs": []
    },
    {
      "cell_type": "code",
      "source": [
        "# Normalize pollution and weather readings (using MinMaxScaler for a range [0, 1])\n",
        "scaler = MinMaxScaler()\n",
        "environmental_data[['pm25', 'pm10', 'co2', 'temperature', 'humidity', 'wind_speed']] = scaler.fit_transform(\n",
        "    environmental_data[['pm25', 'pm10', 'co2', 'temperature', 'humidity', 'wind_speed']]\n",
        ")"
      ],
      "metadata": {
        "id": "CYOKFtFw_GvV"
      },
      "execution_count": 4,
      "outputs": []
    },
    {
      "cell_type": "markdown",
      "source": [
        "# Task 3: Feature Engineering"
      ],
      "metadata": {
        "id": "pdkbkBHl_viA"
      }
    },
    {
      "cell_type": "code",
      "source": [
        "# Create additional features for predictive modeling\n",
        "# Example: Moving averages for PM2.5 and temperature to capture trends\n",
        "environmental_data['pm25_ma'] = environmental_data['pm25'].rolling(window=3).mean()  # 3-period moving average\n",
        "environmental_data['temp_ma'] = environmental_data['temperature'].rolling(window=3).mean()"
      ],
      "metadata": {
        "id": "M_B1zz2w_x5B"
      },
      "execution_count": 5,
      "outputs": []
    },
    {
      "cell_type": "code",
      "source": [
        "# Example: Interaction term between humidity and temperature (might impact air quality)\n",
        "environmental_data['humidity_temp_interaction'] = environmental_data['humidity'] * environmental_data['temperature']"
      ],
      "metadata": {
        "id": "LPHv9Nin_1mA"
      },
      "execution_count": 6,
      "outputs": []
    },
    {
      "cell_type": "code",
      "source": [
        "# Example: Binary feature indicating whether wind speed is above a certain threshold (e.g., 5 m/s)\n",
        "environmental_data['high_wind_speed'] = (environmental_data['wind_speed'] > 0.5).astype(int)"
      ],
      "metadata": {
        "id": "ges0j6NQ_6S_"
      },
      "execution_count": 7,
      "outputs": []
    },
    {
      "cell_type": "code",
      "source": [
        "# Display the processed and engineered features\n",
        "print(environmental_data[['sensor_id', 'pm25', 'pm10', 'co2', 'temperature', 'humidity', 'wind_speed',\n",
        "                          'pm25_ma', 'temp_ma', 'humidity_temp_interaction', 'high_wind_speed']].head())"
      ],
      "metadata": {
        "colab": {
          "base_uri": "https://localhost:8080/"
        },
        "id": "131njWFc_8wX",
        "outputId": "3b30f082-5aec-456a-b232-749ee404b20b"
      },
      "execution_count": 8,
      "outputs": [
        {
          "output_type": "stream",
          "name": "stdout",
          "text": [
            "   sensor_id      pm25      pm10       co2  temperature  humidity  wind_speed  \\\n",
            "0          1  0.241758  0.253406  0.331126     0.425926  0.318182    0.277778   \n",
            "1          2  0.802198  0.801090  0.768212     0.777778  0.090909    0.416667   \n",
            "2          3  0.000000  0.000000  0.103753     0.129630  0.772727    0.000000   \n",
            "3          4  0.516484  0.452316  1.000000     0.370370  0.545455    0.138889   \n",
            "4          5  1.000000  1.000000  0.543046     0.685185  0.227273    0.750000   \n",
            "\n",
            "    pm25_ma   temp_ma  humidity_temp_interaction  high_wind_speed  \n",
            "0       NaN       NaN                   0.135522                0  \n",
            "1       NaN       NaN                   0.070707                0  \n",
            "2  0.347985  0.444444                   0.100168                0  \n",
            "3  0.439560  0.425926                   0.202020                0  \n",
            "4  0.505495  0.395062                   0.155724                1  \n"
          ]
        }
      ]
    },
    {
      "cell_type": "code",
      "source": [
        "# Save the preprocessed data to a CSV file for further use in modeling\n",
        "environmental_data.to_csv(\"preprocessed_environmental_data.csv\", index=False)"
      ],
      "metadata": {
        "id": "7ylsIOZm__1n"
      },
      "execution_count": 9,
      "outputs": []
    }
  ]
}