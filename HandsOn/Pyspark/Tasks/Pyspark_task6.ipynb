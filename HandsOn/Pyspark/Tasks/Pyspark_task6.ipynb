{
  "nbformat": 4,
  "nbformat_minor": 0,
  "metadata": {
    "colab": {
      "provenance": []
    },
    "kernelspec": {
      "name": "python3",
      "display_name": "Python 3"
    },
    "language_info": {
      "name": "python"
    }
  },
  "cells": [
    {
      "cell_type": "code",
      "execution_count": null,
      "metadata": {
        "colab": {
          "base_uri": "https://localhost:8080/"
        },
        "id": "rjges2D2A41P",
        "outputId": "f9cb73d7-f215-4177-a96e-7192d0334503"
      },
      "outputs": [
        {
          "output_type": "stream",
          "name": "stdout",
          "text": [
            "Collecting pyspark\n",
            "  Downloading pyspark-3.5.2.tar.gz (317.3 MB)\n",
            "\u001b[2K     \u001b[90m━━━━━━━━━━━━━━━━━━━━━━━━━━━━━━━━━━━━━━━━\u001b[0m \u001b[32m317.3/317.3 MB\u001b[0m \u001b[31m4.0 MB/s\u001b[0m eta \u001b[36m0:00:00\u001b[0m\n",
            "\u001b[?25h  Preparing metadata (setup.py) ... \u001b[?25l\u001b[?25hdone\n",
            "Requirement already satisfied: py4j==0.10.9.7 in /usr/local/lib/python3.10/dist-packages (from pyspark) (0.10.9.7)\n",
            "Building wheels for collected packages: pyspark\n",
            "  Building wheel for pyspark (setup.py) ... \u001b[?25l\u001b[?25hdone\n",
            "  Created wheel for pyspark: filename=pyspark-3.5.2-py2.py3-none-any.whl size=317812365 sha256=b09bc87fc8e6f519965311001ad7ddd734a8c770ebad1e36bc5f576ff02b2d24\n",
            "  Stored in directory: /root/.cache/pip/wheels/34/34/bd/03944534c44b677cd5859f248090daa9fb27b3c8f8e5f49574\n",
            "Successfully built pyspark\n",
            "Installing collected packages: pyspark\n",
            "Successfully installed pyspark-3.5.2\n"
          ]
        }
      ],
      "source": [
        "!pip install pyspark"
      ]
    },
    {
      "cell_type": "markdown",
      "source": [
        "**Extract**"
      ],
      "metadata": {
        "id": "e-jWFOBlBbu-"
      }
    },
    {
      "cell_type": "code",
      "source": [
        "from pyspark.sql import SparkSession\n",
        "\n",
        "# Initialize SparkSession\n",
        "spark = SparkSession.builder \\\n",
        "    .appName(\"EmployeeSalaryETL\") \\\n",
        "    .getOrCreate()\n",
        "\n",
        "# Load data from CSV\n",
        "file_path = '/content/sample_data/employee.csv'\n",
        "df = spark.read.csv(file_path, header=True, inferSchema=True)\n",
        "\n",
        "# Show the initial DataFrame\n",
        "df.show()\n"
      ],
      "metadata": {
        "colab": {
          "base_uri": "https://localhost:8080/"
        },
        "id": "Jz5LncXRBYuW",
        "outputId": "8168f3d2-42f7-4986-9af1-a49d9dfecbeb"
      },
      "execution_count": null,
      "outputs": [
        {
          "output_type": "stream",
          "name": "stdout",
          "text": [
            "+-------+------+--------+---------+\n",
            "|  name | age  | gender | salary  |\n",
            "+-------+------+--------+---------+\n",
            "| John  |  28.0| Male   |  60000.0|\n",
            "| Jane  |  32.0| Female |  72000.0|\n",
            "| Mike  |  45.0| Male   |  84000.0|\n",
            "| Emily |  23.0| Female |  52000.0|\n",
            "| Alex  |  36.0| Male   |  67000.0|\n",
            "+-------+------+--------+---------+\n",
            "\n"
          ]
        }
      ]
    },
    {
      "cell_type": "markdown",
      "source": [
        "**Transform**"
      ],
      "metadata": {
        "id": "7S-_b9btBhlU"
      }
    },
    {
      "cell_type": "code",
      "source": [
        "from pyspark.sql.functions import col\n",
        "\n",
        "# Filter employees aged 30 and above\n",
        "# Check for case sensitivity or typos in the column name\n",
        "filtered_df = df.filter(col(' age  ') >= 30)  # Adjust the column name if needed\n"
      ],
      "metadata": {
        "id": "SBPAj6VWBks6"
      },
      "execution_count": null,
      "outputs": []
    },
    {
      "cell_type": "code",
      "source": [
        "from pyspark.sql.functions import expr, trim\n",
        "\n",
        "# Add a new column 'salary_with_bonus' with 10% bonus\n",
        "# Use the correct column name with spaces\n",
        "transformed_df = filtered_df.withColumn('salary_with_bonus', trim(col(' salary  ')) * 1.10)"
      ],
      "metadata": {
        "id": "a5jHLagTBnMU"
      },
      "execution_count": null,
      "outputs": []
    },
    {
      "cell_type": "code",
      "source": [
        "# Group by 'gender' and calculate the average salary, accounting for potential spaces\n",
        "average_salary_by_gender = transformed_df.groupBy(' gender ').agg(\n",
        "    expr('avg(` salary  `)').alias('average_salary'),  # Use the correct column name with spaces\n",
        "    expr('avg(salary_with_bonus)').alias('average_salary_with_bonus')\n",
        ")\n",
        "\n",
        "# Show the results\n",
        "average_salary_by_gender.show()"
      ],
      "metadata": {
        "colab": {
          "base_uri": "https://localhost:8080/"
        },
        "id": "4lc1MvGeB3Fm",
        "outputId": "66661179-f325-4c49-9e95-87d7ecc650ec"
      },
      "execution_count": null,
      "outputs": [
        {
          "output_type": "stream",
          "name": "stdout",
          "text": [
            "+--------+--------------+-------------------------+\n",
            "| gender |average_salary|average_salary_with_bonus|\n",
            "+--------+--------------+-------------------------+\n",
            "| Female |       72000.0|                  79200.0|\n",
            "| Male   |       75500.0|                  83050.0|\n",
            "+--------+--------------+-------------------------+\n",
            "\n"
          ]
        }
      ]
    },
    {
      "cell_type": "markdown",
      "source": [
        "**Load**"
      ],
      "metadata": {
        "id": "Fe-Ht-NsB5JT"
      }
    },
    {
      "cell_type": "code",
      "source": [
        "# Save the transformed DataFrame to Parquet format\n",
        "parquet_path = 'path/to/transformed_employee_data.parquet'\n",
        "transformed_df.write.parquet(parquet_path)\n"
      ],
      "metadata": {
        "id": "8eYnaUcJB7T9"
      },
      "execution_count": null,
      "outputs": []
    },
    {
      "cell_type": "markdown",
      "source": [
        "**Summary report**"
      ],
      "metadata": {
        "id": "93-sFyacB_Wh"
      }
    },
    {
      "cell_type": "code",
      "source": [
        "# Print the schema of the DataFrame to verify the column names\n",
        "transformed_df.printSchema()\n",
        "\n",
        "# Use the correct column name with spaces\n",
        "transformed_df.select(' age  ', ' gender ', ' salary  ', 'salary_with_bonus').show()"
      ],
      "metadata": {
        "colab": {
          "base_uri": "https://localhost:8080/"
        },
        "id": "57R_qWDqCBiU",
        "outputId": "f474c06b-b91d-43e9-acc9-c75b09b694d7"
      },
      "execution_count": null,
      "outputs": [
        {
          "output_type": "stream",
          "name": "stdout",
          "text": [
            "root\n",
            " |--  name : string (nullable = true)\n",
            " |--  age  : double (nullable = true)\n",
            " |--  gender : string (nullable = true)\n",
            " |--  salary  : double (nullable = true)\n",
            " |-- salary_with_bonus: double (nullable = true)\n",
            "\n",
            "+------+--------+---------+-----------------+\n",
            "| age  | gender | salary  |salary_with_bonus|\n",
            "+------+--------+---------+-----------------+\n",
            "|  32.0| Female |  72000.0|          79200.0|\n",
            "|  45.0| Male   |  84000.0|92400.00000000001|\n",
            "|  36.0| Male   |  67000.0|          73700.0|\n",
            "+------+--------+---------+-----------------+\n",
            "\n"
          ]
        }
      ]
    },
    {
      "cell_type": "code",
      "source": [
        "# Save the aggregated DataFrame to Parquet format\n",
        "aggregated_parquet_path = 'path/to/average_salary_by_gender.parquet'\n",
        "average_salary_by_gender.write.parquet(aggregated_parquet_path)\n"
      ],
      "metadata": {
        "id": "FQeH3k41EG3w"
      },
      "execution_count": null,
      "outputs": []
    }
  ]
}