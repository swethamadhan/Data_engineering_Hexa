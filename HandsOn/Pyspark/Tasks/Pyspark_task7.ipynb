{
  "nbformat": 4,
  "nbformat_minor": 0,
  "metadata": {
    "colab": {
      "provenance": []
    },
    "kernelspec": {
      "name": "python3",
      "display_name": "Python 3"
    },
    "language_info": {
      "name": "python"
    }
  },
  "cells": [
    {
      "cell_type": "markdown",
      "source": [
        "### **Tasks**:\n",
        "\n",
        "1. **Load the Dataset**:\n",
        "   - Read the CSV file into a PySpark DataFrame.\n",
        "\n",
        "2. **Filter Movies by Genre**:\n",
        "   - Find all movies in the \"Sci-Fi\" genre.\n",
        "\n",
        "3. **Top-Rated Movies**:\n",
        "   - Find the top 3 highest-rated movies.\n",
        "\n",
        "4. **Movies Released After 2010**:\n",
        "   - Filter out all movies released after the year 2010.\n",
        "\n",
        "5. **Calculate Average Box Office Collection by Genre**:\n",
        "   - Group the movies by genre and calculate the average box office collection for each genre.\n",
        "\n",
        "6. **Add a New Column for Box Office in Billions**:\n",
        "   - Add a new column that shows the box office collection in billions.\n",
        "\n",
        "7. **Sort Movies by Box Office Collection**:\n",
        "   - Sort the movies in descending order based on their box office collection.\n",
        "\n",
        "8. **Count the Number of Movies per Genre**:\n",
        "   - Count the number of movies in each genre."
      ],
      "metadata": {
        "id": "7teHVmG-AEuu"
      }
    },
    {
      "cell_type": "code",
      "execution_count": 1,
      "metadata": {
        "colab": {
          "base_uri": "https://localhost:8080/"
        },
        "id": "eyZ5EldI9ajD",
        "outputId": "cec0190f-05c9-4c8f-cdbd-bc3ba9e62578"
      },
      "outputs": [
        {
          "output_type": "stream",
          "name": "stdout",
          "text": [
            "Collecting pyspark\n",
            "  Downloading pyspark-3.5.2.tar.gz (317.3 MB)\n",
            "\u001b[2K     \u001b[90m━━━━━━━━━━━━━━━━━━━━━━━━━━━━━━━━━━━━━━━━\u001b[0m \u001b[32m317.3/317.3 MB\u001b[0m \u001b[31m3.6 MB/s\u001b[0m eta \u001b[36m0:00:00\u001b[0m\n",
            "\u001b[?25h  Preparing metadata (setup.py) ... \u001b[?25l\u001b[?25hdone\n",
            "Requirement already satisfied: py4j==0.10.9.7 in /usr/local/lib/python3.10/dist-packages (from pyspark) (0.10.9.7)\n",
            "Building wheels for collected packages: pyspark\n",
            "  Building wheel for pyspark (setup.py) ... \u001b[?25l\u001b[?25hdone\n",
            "  Created wheel for pyspark: filename=pyspark-3.5.2-py2.py3-none-any.whl size=317812365 sha256=d89fc7aba77efaaf49d008b1ec951b996a34a7ed1d83279b556d92e16295d74f\n",
            "  Stored in directory: /root/.cache/pip/wheels/34/34/bd/03944534c44b677cd5859f248090daa9fb27b3c8f8e5f49574\n",
            "Successfully built pyspark\n",
            "Installing collected packages: pyspark\n",
            "Successfully installed pyspark-3.5.2\n"
          ]
        }
      ],
      "source": [
        "!pip install pyspark"
      ]
    },
    {
      "cell_type": "markdown",
      "source": [
        "Setup"
      ],
      "metadata": {
        "id": "fYvBCELO_8TI"
      }
    },
    {
      "cell_type": "code",
      "source": [
        "from pyspark.sql import SparkSession\n",
        "\n",
        "# Initialize Spark session\n",
        "spark = SparkSession.builder \\\n",
        "    .appName(\"MovieDataTransformations\") \\\n",
        "    .getOrCreate()\n"
      ],
      "metadata": {
        "id": "hKFu47XB-H0K"
      },
      "execution_count": 2,
      "outputs": []
    },
    {
      "cell_type": "markdown",
      "source": [
        "1. Load the Dataset"
      ],
      "metadata": {
        "id": "P-vetxBc_6Ix"
      }
    },
    {
      "cell_type": "code",
      "source": [
        "# Load CSV file into DataFrame\n",
        "df = spark.read.csv(\"/content/movies.csv\", header=True, inferSchema=True)\n",
        "df.show()\n"
      ],
      "metadata": {
        "colab": {
          "base_uri": "https://localhost:8080/"
        },
        "id": "4_feM07v_AWV",
        "outputId": "db3cb3f2-2771-411e-9c35-5213ea1d3332"
      },
      "execution_count": 3,
      "outputs": [
        {
          "output_type": "stream",
          "name": "stdout",
          "text": [
            "+--------+-----------------+---------+------+----------+----------+\n",
            "|movie_id|            title|    genre|rating|box_office|      date|\n",
            "+--------+-----------------+---------+------+----------+----------+\n",
            "|       1|        Inception|   Sci-Fi|   8.8| 830000000|2010-07-16|\n",
            "|       2|  The Dark Knight|   Action|   9.0|1004000000|2008-07-18|\n",
            "|       3|     Interstellar|   Sci-Fi|   8.6| 677000000|2014-11-07|\n",
            "|       4|Avengers: Endgame|   Action|   8.4|2797000000|2019-04-26|\n",
            "|       5|    The Lion King|Animation|   8.5|1657000000|1994-06-15|\n",
            "|       6|      Toy Story 4|Animation|   7.8|1073000000|2019-06-21|\n",
            "|       7|        Frozen II|Animation|   7.0|1450000000|2019-11-22|\n",
            "|       8|            Joker|    Drama|   8.5|1074000000|2019-10-04|\n",
            "|       9|         Parasite|    Drama|   8.6| 258000000|2019-05-30|\n",
            "|     ```|             NULL|     NULL|  NULL|      NULL|      NULL|\n",
            "+--------+-----------------+---------+------+----------+----------+\n",
            "\n"
          ]
        }
      ]
    },
    {
      "cell_type": "markdown",
      "source": [
        "2. Filter Movies by Genre"
      ],
      "metadata": {
        "id": "0Vqa-Exc_2x0"
      }
    },
    {
      "cell_type": "code",
      "source": [
        "sci_fi_movies = df.filter(df.genre == \"Sci-Fi\")\n",
        "sci_fi_movies.show()\n"
      ],
      "metadata": {
        "colab": {
          "base_uri": "https://localhost:8080/"
        },
        "id": "UJqT_51Q_Vmh",
        "outputId": "c060f323-1e9a-48a8-d862-585b059a0d10"
      },
      "execution_count": 4,
      "outputs": [
        {
          "output_type": "stream",
          "name": "stdout",
          "text": [
            "+--------+------------+------+------+----------+----------+\n",
            "|movie_id|       title| genre|rating|box_office|      date|\n",
            "+--------+------------+------+------+----------+----------+\n",
            "|       1|   Inception|Sci-Fi|   8.8| 830000000|2010-07-16|\n",
            "|       3|Interstellar|Sci-Fi|   8.6| 677000000|2014-11-07|\n",
            "+--------+------------+------+------+----------+----------+\n",
            "\n"
          ]
        }
      ]
    },
    {
      "cell_type": "markdown",
      "source": [
        "3. Top-Rated Movies"
      ],
      "metadata": {
        "id": "5XsvMvnT_0ra"
      }
    },
    {
      "cell_type": "code",
      "source": [
        "top_rated_movies = df.orderBy(df.rating.desc()).limit(3)\n",
        "top_rated_movies.show()\n"
      ],
      "metadata": {
        "colab": {
          "base_uri": "https://localhost:8080/"
        },
        "id": "SSU58OvV_WNh",
        "outputId": "26b3e7ea-ccef-4f8c-dff9-f4ef12dbcbfc"
      },
      "execution_count": 5,
      "outputs": [
        {
          "output_type": "stream",
          "name": "stdout",
          "text": [
            "+--------+---------------+------+------+----------+----------+\n",
            "|movie_id|          title| genre|rating|box_office|      date|\n",
            "+--------+---------------+------+------+----------+----------+\n",
            "|       2|The Dark Knight|Action|   9.0|1004000000|2008-07-18|\n",
            "|       1|      Inception|Sci-Fi|   8.8| 830000000|2010-07-16|\n",
            "|       3|   Interstellar|Sci-Fi|   8.6| 677000000|2014-11-07|\n",
            "+--------+---------------+------+------+----------+----------+\n",
            "\n"
          ]
        }
      ]
    },
    {
      "cell_type": "markdown",
      "source": [
        "4. Movies Released After 2010"
      ],
      "metadata": {
        "id": "SX4isWCn_zy6"
      }
    },
    {
      "cell_type": "code",
      "source": [
        "from pyspark.sql.functions import year\n",
        "\n",
        "df_with_year = df.withColumn(\"year\", year(df.date))\n",
        "movies_after_2010 = df_with_year.filter(df_with_year.year > 2010)\n",
        "movies_after_2010.show()\n"
      ],
      "metadata": {
        "colab": {
          "base_uri": "https://localhost:8080/"
        },
        "id": "Qo2QMJ-4_Yau",
        "outputId": "2ec8171c-33ef-43db-a2f8-150d41ae5cc4"
      },
      "execution_count": 6,
      "outputs": [
        {
          "output_type": "stream",
          "name": "stdout",
          "text": [
            "+--------+-----------------+---------+------+----------+----------+----+\n",
            "|movie_id|            title|    genre|rating|box_office|      date|year|\n",
            "+--------+-----------------+---------+------+----------+----------+----+\n",
            "|       3|     Interstellar|   Sci-Fi|   8.6| 677000000|2014-11-07|2014|\n",
            "|       4|Avengers: Endgame|   Action|   8.4|2797000000|2019-04-26|2019|\n",
            "|       6|      Toy Story 4|Animation|   7.8|1073000000|2019-06-21|2019|\n",
            "|       7|        Frozen II|Animation|   7.0|1450000000|2019-11-22|2019|\n",
            "|       8|            Joker|    Drama|   8.5|1074000000|2019-10-04|2019|\n",
            "|       9|         Parasite|    Drama|   8.6| 258000000|2019-05-30|2019|\n",
            "+--------+-----------------+---------+------+----------+----------+----+\n",
            "\n"
          ]
        }
      ]
    },
    {
      "cell_type": "markdown",
      "source": [
        "5. Calculate Average Box Office Collection by Genre"
      ],
      "metadata": {
        "id": "YYmn6vK2_wV9"
      }
    },
    {
      "cell_type": "code",
      "source": [
        "from pyspark.sql.functions import avg\n",
        "\n",
        "average_box_office_by_genre = df.groupBy(\"genre\").agg(avg(\"box_office\").alias(\"average_box_office\"))\n",
        "average_box_office_by_genre.show()\n"
      ],
      "metadata": {
        "colab": {
          "base_uri": "https://localhost:8080/"
        },
        "id": "Q9dBdCMT_ajh",
        "outputId": "5979281c-1093-4b11-fa4a-2bc4d706580b"
      },
      "execution_count": 7,
      "outputs": [
        {
          "output_type": "stream",
          "name": "stdout",
          "text": [
            "+---------+--------------------+\n",
            "|    genre|  average_box_office|\n",
            "+---------+--------------------+\n",
            "|     NULL|                NULL|\n",
            "|    Drama|              6.66E8|\n",
            "|Animation|1.3933333333333333E9|\n",
            "|   Action|            1.9005E9|\n",
            "|   Sci-Fi|             7.535E8|\n",
            "+---------+--------------------+\n",
            "\n"
          ]
        }
      ]
    },
    {
      "cell_type": "markdown",
      "source": [
        "6. Add a New Column for Box Office in Billions"
      ],
      "metadata": {
        "id": "0K7ffWCp_trB"
      }
    },
    {
      "cell_type": "code",
      "source": [
        "from pyspark.sql.functions import col\n",
        "\n",
        "df_with_box_office_in_billions = df.withColumn(\"box_office_billions\", col(\"box_office\") / 1e9)\n",
        "df_with_box_office_in_billions.show()\n"
      ],
      "metadata": {
        "colab": {
          "base_uri": "https://localhost:8080/"
        },
        "id": "63ynHOQc_c2H",
        "outputId": "e4a519b2-44bc-474d-a084-e6868904ee15"
      },
      "execution_count": 8,
      "outputs": [
        {
          "output_type": "stream",
          "name": "stdout",
          "text": [
            "+--------+-----------------+---------+------+----------+----------+-------------------+\n",
            "|movie_id|            title|    genre|rating|box_office|      date|box_office_billions|\n",
            "+--------+-----------------+---------+------+----------+----------+-------------------+\n",
            "|       1|        Inception|   Sci-Fi|   8.8| 830000000|2010-07-16|               0.83|\n",
            "|       2|  The Dark Knight|   Action|   9.0|1004000000|2008-07-18|              1.004|\n",
            "|       3|     Interstellar|   Sci-Fi|   8.6| 677000000|2014-11-07|              0.677|\n",
            "|       4|Avengers: Endgame|   Action|   8.4|2797000000|2019-04-26|              2.797|\n",
            "|       5|    The Lion King|Animation|   8.5|1657000000|1994-06-15|              1.657|\n",
            "|       6|      Toy Story 4|Animation|   7.8|1073000000|2019-06-21|              1.073|\n",
            "|       7|        Frozen II|Animation|   7.0|1450000000|2019-11-22|               1.45|\n",
            "|       8|            Joker|    Drama|   8.5|1074000000|2019-10-04|              1.074|\n",
            "|       9|         Parasite|    Drama|   8.6| 258000000|2019-05-30|              0.258|\n",
            "|     ```|             NULL|     NULL|  NULL|      NULL|      NULL|               NULL|\n",
            "+--------+-----------------+---------+------+----------+----------+-------------------+\n",
            "\n"
          ]
        }
      ]
    },
    {
      "cell_type": "markdown",
      "source": [
        "7. Sort Movies by Box Office Collection"
      ],
      "metadata": {
        "id": "ZPkVlbZ5_rAh"
      }
    },
    {
      "cell_type": "code",
      "source": [
        "sorted_movies = df.orderBy(df.box_office.desc())\n",
        "sorted_movies.show()\n"
      ],
      "metadata": {
        "colab": {
          "base_uri": "https://localhost:8080/"
        },
        "id": "_8Dw_RxE_f78",
        "outputId": "68983ed4-981a-4ad0-da14-a50444dd9439"
      },
      "execution_count": 9,
      "outputs": [
        {
          "output_type": "stream",
          "name": "stdout",
          "text": [
            "+--------+-----------------+---------+------+----------+----------+\n",
            "|movie_id|            title|    genre|rating|box_office|      date|\n",
            "+--------+-----------------+---------+------+----------+----------+\n",
            "|       4|Avengers: Endgame|   Action|   8.4|2797000000|2019-04-26|\n",
            "|       5|    The Lion King|Animation|   8.5|1657000000|1994-06-15|\n",
            "|       7|        Frozen II|Animation|   7.0|1450000000|2019-11-22|\n",
            "|       8|            Joker|    Drama|   8.5|1074000000|2019-10-04|\n",
            "|       6|      Toy Story 4|Animation|   7.8|1073000000|2019-06-21|\n",
            "|       2|  The Dark Knight|   Action|   9.0|1004000000|2008-07-18|\n",
            "|       1|        Inception|   Sci-Fi|   8.8| 830000000|2010-07-16|\n",
            "|       3|     Interstellar|   Sci-Fi|   8.6| 677000000|2014-11-07|\n",
            "|       9|         Parasite|    Drama|   8.6| 258000000|2019-05-30|\n",
            "|     ```|             NULL|     NULL|  NULL|      NULL|      NULL|\n",
            "+--------+-----------------+---------+------+----------+----------+\n",
            "\n"
          ]
        }
      ]
    },
    {
      "cell_type": "markdown",
      "source": [
        "8. Count the Number of Movies per Genre"
      ],
      "metadata": {
        "id": "EEbx4opl_lmz"
      }
    },
    {
      "cell_type": "code",
      "source": [
        "movie_count_by_genre = df.groupBy(\"genre\").count()\n",
        "movie_count_by_genre.show()\n"
      ],
      "metadata": {
        "colab": {
          "base_uri": "https://localhost:8080/"
        },
        "id": "3MHkw4F0_iOB",
        "outputId": "1e908dbe-505b-479d-b032-55080dbf54a0"
      },
      "execution_count": 10,
      "outputs": [
        {
          "output_type": "stream",
          "name": "stdout",
          "text": [
            "+---------+-----+\n",
            "|    genre|count|\n",
            "+---------+-----+\n",
            "|     NULL|    1|\n",
            "|    Drama|    2|\n",
            "|Animation|    3|\n",
            "|   Action|    2|\n",
            "|   Sci-Fi|    2|\n",
            "+---------+-----+\n",
            "\n"
          ]
        }
      ]
    }
  ]
}