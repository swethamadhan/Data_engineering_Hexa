{
  "nbformat": 4,
  "nbformat_minor": 0,
  "metadata": {
    "colab": {
      "provenance": []
    },
    "kernelspec": {
      "name": "python3",
      "display_name": "Python 3"
    },
    "language_info": {
      "name": "python"
    }
  },
  "cells": [
    {
      "cell_type": "markdown",
      "source": [
        "**Exercise: Working with Key-Value Pair RDDs in PySpark**"
      ],
      "metadata": {
        "id": "AriT-F_XWBL6"
      }
    },
    {
      "cell_type": "markdown",
      "source": [
        "**Initialize SparkSession and SparkContext**"
      ],
      "metadata": {
        "id": "Q_ZO0O5PWLA4"
      }
    },
    {
      "cell_type": "code",
      "source": [
        "!pip install pyspark"
      ],
      "metadata": {
        "colab": {
          "base_uri": "https://localhost:8080/"
        },
        "id": "xyXHSEPqWPHy",
        "outputId": "0b14a010-18d8-4973-c251-2285b8e80875"
      },
      "execution_count": 2,
      "outputs": [
        {
          "output_type": "stream",
          "name": "stdout",
          "text": [
            "Collecting pyspark\n",
            "  Downloading pyspark-3.5.2.tar.gz (317.3 MB)\n",
            "\u001b[2K     \u001b[90m━━━━━━━━━━━━━━━━━━━━━━━━━━━━━━━━━━━━━━━━\u001b[0m \u001b[32m317.3/317.3 MB\u001b[0m \u001b[31m3.7 MB/s\u001b[0m eta \u001b[36m0:00:00\u001b[0m\n",
            "\u001b[?25h  Preparing metadata (setup.py) ... \u001b[?25l\u001b[?25hdone\n",
            "Requirement already satisfied: py4j==0.10.9.7 in /usr/local/lib/python3.10/dist-packages (from pyspark) (0.10.9.7)\n",
            "Building wheels for collected packages: pyspark\n",
            "  Building wheel for pyspark (setup.py) ... \u001b[?25l\u001b[?25hdone\n",
            "  Created wheel for pyspark: filename=pyspark-3.5.2-py2.py3-none-any.whl size=317812365 sha256=88eaeabbd672b502020b0029a674f3393d0c42d7ed718b7f15572006a9e9495a\n",
            "  Stored in directory: /root/.cache/pip/wheels/34/34/bd/03944534c44b677cd5859f248090daa9fb27b3c8f8e5f49574\n",
            "Successfully built pyspark\n",
            "Installing collected packages: pyspark\n",
            "Successfully installed pyspark-3.5.2\n"
          ]
        }
      ]
    },
    {
      "cell_type": "code",
      "execution_count": 3,
      "metadata": {
        "id": "V6fcGX_PV49h"
      },
      "outputs": [],
      "source": [
        "from pyspark.sql import SparkSession\n",
        "\n",
        "# Initialize SparkSession\n",
        "spark = SparkSession.builder \\\n",
        "    .appName(\"KeyValuePairRDDs\") \\\n",
        "    .getOrCreate()\n",
        "\n",
        "# Get the SparkContext from the SparkSession\n",
        "sc = spark.sparkContext\n"
      ]
    },
    {
      "cell_type": "markdown",
      "source": [
        "**Create and Explore the RDD**"
      ],
      "metadata": {
        "id": "rBq4Ua8_WiQx"
      }
    },
    {
      "cell_type": "markdown",
      "source": [
        "**Task 1: Create an RDD from the Sales Data**"
      ],
      "metadata": {
        "id": "MAP_pjVfWne0"
      }
    },
    {
      "cell_type": "code",
      "source": [
        "# Create an RDD from sales_data\n",
        "sales_data = [\n",
        "    (\"ProductA\", 100),\n",
        "    (\"ProductB\", 150),\n",
        "    (\"ProductA\", 200),\n",
        "    (\"ProductC\", 300),\n",
        "    (\"ProductB\", 250),\n",
        "    (\"ProductC\", 100)\n",
        "]\n",
        "\n",
        "rdd_sales = sc.parallelize(sales_data)\n",
        "\n",
        "# Print the first few elements of the RDD\n",
        "print(\"Sales RDD:\")\n",
        "print(rdd_sales.take(5))\n"
      ],
      "metadata": {
        "colab": {
          "base_uri": "https://localhost:8080/"
        },
        "id": "4BBRZvr-WqNj",
        "outputId": "a7fa2a2d-579e-425a-9b97-cb894eb89db6"
      },
      "execution_count": 4,
      "outputs": [
        {
          "output_type": "stream",
          "name": "stdout",
          "text": [
            "Sales RDD:\n",
            "[('ProductA', 100), ('ProductB', 150), ('ProductA', 200), ('ProductC', 300), ('ProductB', 250)]\n"
          ]
        }
      ]
    },
    {
      "cell_type": "markdown",
      "source": [
        "** Grouping and Aggregating Data**"
      ],
      "metadata": {
        "id": "A-P9fqhNWujC"
      }
    },
    {
      "cell_type": "markdown",
      "source": [
        "**Task 2: Group Data by Product Name**"
      ],
      "metadata": {
        "id": "CZuxMWGBWxAl"
      }
    },
    {
      "cell_type": "code",
      "source": [
        "# Group data by product name\n",
        "grouped_rdd = rdd_sales.groupByKey()\n",
        "\n",
        "# Print the grouped data\n",
        "print(\"Grouped Data:\")\n",
        "for product, sales in grouped_rdd.collect():\n",
        "    print(f\"{product}: {list(sales)}\")\n"
      ],
      "metadata": {
        "colab": {
          "base_uri": "https://localhost:8080/"
        },
        "id": "k8gjjfb2WzuE",
        "outputId": "33a43b72-77c2-4270-c4d3-c50c8ed12b4c"
      },
      "execution_count": 5,
      "outputs": [
        {
          "output_type": "stream",
          "name": "stdout",
          "text": [
            "Grouped Data:\n",
            "ProductA: [100, 200]\n",
            "ProductB: [150, 250]\n",
            "ProductC: [300, 100]\n"
          ]
        }
      ]
    },
    {
      "cell_type": "markdown",
      "source": [
        "**Task 3: Calculate Total Sales by Product**"
      ],
      "metadata": {
        "id": "xyEbdrlpW2mE"
      }
    },
    {
      "cell_type": "code",
      "source": [
        "# Calculate total sales by product using reduceByKey\n",
        "total_sales_rdd = rdd_sales.reduceByKey(lambda a, b: a + b)\n",
        "\n",
        "# Print total sales for each product\n",
        "print(\"Total Sales by Product:\")\n",
        "for product, total in total_sales_rdd.collect():\n",
        "    print(f\"{product}: {total}\")\n"
      ],
      "metadata": {
        "colab": {
          "base_uri": "https://localhost:8080/"
        },
        "id": "j0JXHXfmW2Aw",
        "outputId": "2e7aa8e6-7818-46e8-fd53-b587318f908a"
      },
      "execution_count": 6,
      "outputs": [
        {
          "output_type": "stream",
          "name": "stdout",
          "text": [
            "Total Sales by Product:\n",
            "ProductA: 300\n",
            "ProductB: 400\n",
            "ProductC: 400\n"
          ]
        }
      ]
    },
    {
      "cell_type": "markdown",
      "source": [
        "**Task 4: Sort Products by Total Sales**"
      ],
      "metadata": {
        "id": "50EErz5YW7wC"
      }
    },
    {
      "cell_type": "code",
      "source": [
        "# Sort products by total sales in descending order\n",
        "sorted_sales_rdd = total_sales_rdd.sortBy(lambda x: x[1], ascending=False)\n",
        "\n",
        "# Print sorted list of products and their sales amounts\n",
        "print(\"Sorted Products by Total Sales:\")\n",
        "for product, total in sorted_sales_rdd.collect():\n",
        "    print(f\"{product}: {total}\")\n"
      ],
      "metadata": {
        "colab": {
          "base_uri": "https://localhost:8080/"
        },
        "id": "oWVx9tbQW-HU",
        "outputId": "2fdd42b1-348f-45e2-9d36-30626d105464"
      },
      "execution_count": 7,
      "outputs": [
        {
          "output_type": "stream",
          "name": "stdout",
          "text": [
            "Sorted Products by Total Sales:\n",
            "ProductB: 400\n",
            "ProductC: 400\n",
            "ProductA: 300\n"
          ]
        }
      ]
    },
    {
      "cell_type": "markdown",
      "source": [
        "**Additional Transformations**"
      ],
      "metadata": {
        "id": "CKCjdpNZXFLX"
      }
    },
    {
      "cell_type": "markdown",
      "source": [
        "**Task 5: Filter Products with High Sales**"
      ],
      "metadata": {
        "id": "nzTE8ygjXFAk"
      }
    },
    {
      "cell_type": "code",
      "source": [
        "# Filter products with total sales greater than 200\n",
        "high_sales_rdd = total_sales_rdd.filter(lambda x: x[1] > 200)\n",
        "\n",
        "# Print products with high sales\n",
        "print(\"Products with Sales Greater Than 200:\")\n",
        "for product, total in high_sales_rdd.collect():\n",
        "    print(f\"{product}: {total}\")\n"
      ],
      "metadata": {
        "colab": {
          "base_uri": "https://localhost:8080/"
        },
        "id": "2UgZZDSfW_su",
        "outputId": "c8fbadd3-8e4f-4e73-cadf-6f7f878d699d"
      },
      "execution_count": 8,
      "outputs": [
        {
          "output_type": "stream",
          "name": "stdout",
          "text": [
            "Products with Sales Greater Than 200:\n",
            "ProductA: 300\n",
            "ProductB: 400\n",
            "ProductC: 400\n"
          ]
        }
      ]
    },
    {
      "cell_type": "markdown",
      "source": [
        "**Task 6: Combine Regional Sales Data**"
      ],
      "metadata": {
        "id": "PCHAm48bXPrG"
      }
    },
    {
      "cell_type": "code",
      "source": [
        "# Create an RDD from regional_sales_data\n",
        "regional_sales_data = [\n",
        "    (\"ProductA\", 50),\n",
        "    (\"ProductC\", 150)\n",
        "]\n",
        "\n",
        "rdd_regional = sc.parallelize(regional_sales_data)\n",
        "\n",
        "# Combine the original sales RDD with the regional sales RDD\n",
        "combined_rdd = rdd_sales.union(rdd_regional)\n",
        "\n",
        "# Calculate the new total sales for each product\n",
        "combined_total_sales_rdd = combined_rdd.reduceByKey(lambda a, b: a + b)\n",
        "\n",
        "# Print the combined sales data\n",
        "print(\"Combined Sales Data:\")\n",
        "for product, total in combined_total_sales_rdd.collect():\n",
        "    print(f\"{product}: {total}\")\n"
      ],
      "metadata": {
        "colab": {
          "base_uri": "https://localhost:8080/"
        },
        "id": "w3sR4FbbXSTx",
        "outputId": "b831414b-d26f-477b-bdd0-f68816675824"
      },
      "execution_count": 9,
      "outputs": [
        {
          "output_type": "stream",
          "name": "stdout",
          "text": [
            "Combined Sales Data:\n",
            "ProductA: 350\n",
            "ProductC: 550\n",
            "ProductB: 400\n"
          ]
        }
      ]
    },
    {
      "cell_type": "markdown",
      "source": [
        "**Perform Actions on the RDD**"
      ],
      "metadata": {
        "id": "H9-glRYlXW3B"
      }
    },
    {
      "cell_type": "markdown",
      "source": [
        "**Task 7: Count the Number of Distinct Products**"
      ],
      "metadata": {
        "id": "0wQAdZ3dXYcl"
      }
    },
    {
      "cell_type": "code",
      "source": [
        "# Count the number of distinct products\n",
        "distinct_products_count = rdd_sales.map(lambda x: x[0]).distinct().count()\n",
        "\n",
        "print(\"Number of Distinct Products:\")\n",
        "print(distinct_products_count)\n"
      ],
      "metadata": {
        "colab": {
          "base_uri": "https://localhost:8080/"
        },
        "id": "UT146LZqXbb2",
        "outputId": "e7ade462-b865-43ac-c84e-9d63cd999298"
      },
      "execution_count": 10,
      "outputs": [
        {
          "output_type": "stream",
          "name": "stdout",
          "text": [
            "Number of Distinct Products:\n",
            "3\n"
          ]
        }
      ]
    },
    {
      "cell_type": "markdown",
      "source": [
        "**Task 8: Identify the Product with Maximum Sales**"
      ],
      "metadata": {
        "id": "thr6Tt74Xevq"
      }
    },
    {
      "cell_type": "code",
      "source": [
        "# Find the product with the maximum total sales\n",
        "max_sales_product = total_sales_rdd.reduce(lambda a, b: a if a[1] > b[1] else b)\n",
        "\n",
        "print(\"Product with Maximum Sales:\")\n",
        "print(f\"{max_sales_product[0]}: {max_sales_product[1]}\")\n"
      ],
      "metadata": {
        "colab": {
          "base_uri": "https://localhost:8080/"
        },
        "id": "BD6TfPqvXgI1",
        "outputId": "03799ead-d326-45f7-f941-cdb049764a88"
      },
      "execution_count": 11,
      "outputs": [
        {
          "output_type": "stream",
          "name": "stdout",
          "text": [
            "Product with Maximum Sales:\n",
            "ProductC: 400\n"
          ]
        }
      ]
    },
    {
      "cell_type": "markdown",
      "source": [
        "**Challenge Task: Calculate the Average Sales per Product**"
      ],
      "metadata": {
        "id": "Ny0Y8vM3XlyR"
      }
    },
    {
      "cell_type": "code",
      "source": [
        "# Calculate the average sales per product\n",
        "sales_count_rdd = rdd_sales.mapValues(lambda x: (x, 1)).reduceByKey(lambda a, b: (a[0] + b[0], a[1] + b[1]))\n",
        "average_sales_rdd = sales_count_rdd.mapValues(lambda x: x[0] / x[1])\n",
        "\n",
        "# Print the average sales for each product\n",
        "print(\"Average Sales per Product:\")\n",
        "for product, avg in average_sales_rdd.collect():\n",
        "    print(f\"{product}: {avg:.2f}\")\n"
      ],
      "metadata": {
        "colab": {
          "base_uri": "https://localhost:8080/"
        },
        "id": "mc3IFJ0-XpQm",
        "outputId": "8512a639-d7ba-4e41-f3d6-4636cd58a152"
      },
      "execution_count": 12,
      "outputs": [
        {
          "output_type": "stream",
          "name": "stdout",
          "text": [
            "Average Sales per Product:\n",
            "ProductA: 150.00\n",
            "ProductB: 200.00\n",
            "ProductC: 200.00\n"
          ]
        }
      ]
    }
  ]
}