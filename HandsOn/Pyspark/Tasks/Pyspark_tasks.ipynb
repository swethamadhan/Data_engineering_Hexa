{
  "nbformat": 4,
  "nbformat_minor": 0,
  "metadata": {
    "colab": {
      "provenance": []
    },
    "kernelspec": {
      "name": "python3",
      "display_name": "Python 3"
    },
    "language_info": {
      "name": "python"
    }
  },
  "cells": [
    {
      "cell_type": "code",
      "execution_count": 1,
      "metadata": {
        "colab": {
          "base_uri": "https://localhost:8080/"
        },
        "id": "i1WHdoYCSaVk",
        "outputId": "01ce09a0-2f3d-4e62-8932-8a17fda44bd4"
      },
      "outputs": [
        {
          "output_type": "stream",
          "name": "stdout",
          "text": [
            "Collecting pyspark\n",
            "  Downloading pyspark-3.5.2.tar.gz (317.3 MB)\n",
            "\u001b[2K     \u001b[90m━━━━━━━━━━━━━━━━━━━━━━━━━━━━━━━━━━━━━━━━\u001b[0m \u001b[32m317.3/317.3 MB\u001b[0m \u001b[31m4.5 MB/s\u001b[0m eta \u001b[36m0:00:00\u001b[0m\n",
            "\u001b[?25h  Preparing metadata (setup.py) ... \u001b[?25l\u001b[?25hdone\n",
            "Requirement already satisfied: py4j==0.10.9.7 in /usr/local/lib/python3.10/dist-packages (from pyspark) (0.10.9.7)\n",
            "Building wheels for collected packages: pyspark\n",
            "  Building wheel for pyspark (setup.py) ... \u001b[?25l\u001b[?25hdone\n",
            "  Created wheel for pyspark: filename=pyspark-3.5.2-py2.py3-none-any.whl size=317812365 sha256=33382f8b763fb2a9cc106baedf706b2eb00e753aa266f72bda5c1f48eb7c805a\n",
            "  Stored in directory: /root/.cache/pip/wheels/34/34/bd/03944534c44b677cd5859f248090daa9fb27b3c8f8e5f49574\n",
            "Successfully built pyspark\n",
            "Installing collected packages: pyspark\n",
            "Successfully installed pyspark-3.5.2\n"
          ]
        }
      ],
      "source": [
        "!pip install pyspark"
      ]
    },
    {
      "cell_type": "code",
      "source": [
        "from pyspark.sql import SparkSession\n",
        "from pyspark.sql.functions import col\n",
        "\n",
        "# Initialize SparkSession\n",
        "spark = SparkSession.builder \\\n",
        "    .appName(\"Product Sales Analysis\") \\\n",
        "    .getOrCreate()\n",
        "\n",
        "# Sample data for products\n",
        "products = [\n",
        "    (1, \"Laptop\", \"Electronics\", 50000),\n",
        "    (2, \"Smartphone\", \"Electronics\", 30000),\n",
        "    (3, \"Table\", \"Furniture\", 15000),\n",
        "    (4, \"Chair\", \"Furniture\", 5000),\n",
        "    (5, \"Headphones\", \"Electronics\", 2000),\n",
        "]\n",
        "\n",
        "# Sample data for sales transactions\n",
        "sales = [\n",
        "    (1, 1, 2),\n",
        "    (2, 2, 1),\n",
        "    (3, 3, 3),\n",
        "    (4, 1, 1),\n",
        "    (5, 4, 5),\n",
        "    (6, 2, 2),\n",
        "    (7, 5, 10),\n",
        "    (8, 3, 1),\n",
        "]\n",
        "\n",
        "# Define schema for DataFrames\n",
        "product_columns = [\"ProductID\", \"ProductName\", \"Category\", \"Price\"]\n",
        "sales_columns = [\"SaleID\", \"ProductID\", \"Quantity\"]\n",
        "\n",
        "# Create DataFrames\n",
        "product_df = spark.createDataFrame(products, schema=product_columns)\n",
        "sales_df = spark.createDataFrame(sales, schema=sales_columns)\n",
        "\n",
        "# Show the DataFrames\n",
        "print(\"Products DataFrame:\")\n",
        "product_df.show()\n",
        "\n",
        "print(\"Sales DataFrame:\")\n",
        "sales_df.show()\n"
      ],
      "metadata": {
        "colab": {
          "base_uri": "https://localhost:8080/"
        },
        "id": "iOtUsImHS6WH",
        "outputId": "b0a28e2b-c427-4492-fc24-d763f2030b2b"
      },
      "execution_count": 9,
      "outputs": [
        {
          "output_type": "stream",
          "name": "stdout",
          "text": [
            "Products DataFrame:\n",
            "+---------+-----------+-----------+-----+\n",
            "|ProductID|ProductName|   Category|Price|\n",
            "+---------+-----------+-----------+-----+\n",
            "|        1|     Laptop|Electronics|50000|\n",
            "|        2| Smartphone|Electronics|30000|\n",
            "|        3|      Table|  Furniture|15000|\n",
            "|        4|      Chair|  Furniture| 5000|\n",
            "|        5| Headphones|Electronics| 2000|\n",
            "+---------+-----------+-----------+-----+\n",
            "\n",
            "Sales DataFrame:\n",
            "+------+---------+--------+\n",
            "|SaleID|ProductID|Quantity|\n",
            "+------+---------+--------+\n",
            "|     1|        1|       2|\n",
            "|     2|        2|       1|\n",
            "|     3|        3|       3|\n",
            "|     4|        1|       1|\n",
            "|     5|        4|       5|\n",
            "|     6|        2|       2|\n",
            "|     7|        5|      10|\n",
            "|     8|        3|       1|\n",
            "+------+---------+--------+\n",
            "\n"
          ]
        }
      ]
    },
    {
      "cell_type": "code",
      "source": [
        "# Join product_df and sales_df on ProductID\n",
        "joined_df = product_df.join(sales_df, on=\"ProductID\")\n",
        "joined_df.show()\n"
      ],
      "metadata": {
        "colab": {
          "base_uri": "https://localhost:8080/"
        },
        "id": "paslGhgCTLyw",
        "outputId": "328580c9-701b-424c-9020-b85444c746b3"
      },
      "execution_count": 10,
      "outputs": [
        {
          "output_type": "stream",
          "name": "stdout",
          "text": [
            "+---------+-----------+-----------+-----+------+--------+\n",
            "|ProductID|ProductName|   Category|Price|SaleID|Quantity|\n",
            "+---------+-----------+-----------+-----+------+--------+\n",
            "|        1|     Laptop|Electronics|50000|     1|       2|\n",
            "|        1|     Laptop|Electronics|50000|     4|       1|\n",
            "|        2| Smartphone|Electronics|30000|     2|       1|\n",
            "|        2| Smartphone|Electronics|30000|     6|       2|\n",
            "|        3|      Table|  Furniture|15000|     3|       3|\n",
            "|        3|      Table|  Furniture|15000|     8|       1|\n",
            "|        4|      Chair|  Furniture| 5000|     5|       5|\n",
            "|        5| Headphones|Electronics| 2000|     7|      10|\n",
            "+---------+-----------+-----------+-----+------+--------+\n",
            "\n"
          ]
        }
      ]
    },
    {
      "cell_type": "code",
      "source": [
        "# Calculate total sales value\n",
        "joined_df = joined_df.withColumn(\"TotalSalesValue\", col(\"Price\") * col(\"Quantity\"))\n",
        "joined_df.show()\n"
      ],
      "metadata": {
        "colab": {
          "base_uri": "https://localhost:8080/"
        },
        "id": "f4RXFU4eUhqX",
        "outputId": "a3a9294a-e8fb-4a53-b7b5-e2c61bb37188"
      },
      "execution_count": 11,
      "outputs": [
        {
          "output_type": "stream",
          "name": "stdout",
          "text": [
            "+---------+-----------+-----------+-----+------+--------+---------------+\n",
            "|ProductID|ProductName|   Category|Price|SaleID|Quantity|TotalSalesValue|\n",
            "+---------+-----------+-----------+-----+------+--------+---------------+\n",
            "|        1|     Laptop|Electronics|50000|     1|       2|         100000|\n",
            "|        1|     Laptop|Electronics|50000|     4|       1|          50000|\n",
            "|        2| Smartphone|Electronics|30000|     2|       1|          30000|\n",
            "|        2| Smartphone|Electronics|30000|     6|       2|          60000|\n",
            "|        3|      Table|  Furniture|15000|     3|       3|          45000|\n",
            "|        3|      Table|  Furniture|15000|     8|       1|          15000|\n",
            "|        4|      Chair|  Furniture| 5000|     5|       5|          25000|\n",
            "|        5| Headphones|Electronics| 2000|     7|      10|          20000|\n",
            "+---------+-----------+-----------+-----+------+--------+---------------+\n",
            "\n"
          ]
        }
      ]
    },
    {
      "cell_type": "code",
      "source": [
        "# Group by category and calculate total sales value\n",
        "category_sales_df = joined_df.groupBy(\"Category\").agg(\n",
        "    {\"TotalSalesValue\": \"sum\"}\n",
        ").withColumnRenamed(\"sum(TotalSalesValue)\", \"TotalSalesValue\")\n",
        "\n",
        "category_sales_df.show()\n"
      ],
      "metadata": {
        "colab": {
          "base_uri": "https://localhost:8080/"
        },
        "id": "Wiv_M1x7UjqV",
        "outputId": "7ba636b8-1b46-43da-9e94-9317e66f9de6"
      },
      "execution_count": 12,
      "outputs": [
        {
          "output_type": "stream",
          "name": "stdout",
          "text": [
            "+-----------+---------------+\n",
            "|   Category|TotalSalesValue|\n",
            "+-----------+---------------+\n",
            "|Electronics|         260000|\n",
            "|  Furniture|          85000|\n",
            "+-----------+---------------+\n",
            "\n"
          ]
        }
      ]
    },
    {
      "cell_type": "code",
      "source": [
        "# Group by product and calculate total sales value, then find the top-selling product\n",
        "product_sales_df = joined_df.groupBy(\"ProductName\").agg(\n",
        "    {\"TotalSalesValue\": \"sum\"}\n",
        ").withColumnRenamed(\"sum(TotalSalesValue)\", \"TotalSalesValue\")\n",
        "\n",
        "top_selling_product_df = product_sales_df.orderBy(col(\"TotalSalesValue\").desc()).limit(1)\n",
        "top_selling_product_df.show()\n"
      ],
      "metadata": {
        "colab": {
          "base_uri": "https://localhost:8080/"
        },
        "id": "khtbyRntUnfx",
        "outputId": "f8d3c4b3-29c8-49f8-f55d-40d4fae8efca"
      },
      "execution_count": 13,
      "outputs": [
        {
          "output_type": "stream",
          "name": "stdout",
          "text": [
            "+-----------+---------------+\n",
            "|ProductName|TotalSalesValue|\n",
            "+-----------+---------------+\n",
            "|     Laptop|         150000|\n",
            "+-----------+---------------+\n",
            "\n"
          ]
        }
      ]
    },
    {
      "cell_type": "code",
      "source": [
        "# Sort products by total sales value\n",
        "sorted_products_df = product_sales_df.orderBy(col(\"TotalSalesValue\").desc())\n",
        "sorted_products_df.show()\n"
      ],
      "metadata": {
        "colab": {
          "base_uri": "https://localhost:8080/"
        },
        "id": "27A98HydUrGE",
        "outputId": "70c9439e-6c8c-45f8-9bdc-272b2777000f"
      },
      "execution_count": 14,
      "outputs": [
        {
          "output_type": "stream",
          "name": "stdout",
          "text": [
            "+-----------+---------------+\n",
            "|ProductName|TotalSalesValue|\n",
            "+-----------+---------------+\n",
            "|     Laptop|         150000|\n",
            "| Smartphone|          90000|\n",
            "|      Table|          60000|\n",
            "|      Chair|          25000|\n",
            "| Headphones|          20000|\n",
            "+-----------+---------------+\n",
            "\n"
          ]
        }
      ]
    },
    {
      "cell_type": "code",
      "source": [
        "# Count the number of sales transactions for each product\n",
        "sales_count_df = sales_df.groupBy(\"ProductID\").count().withColumnRenamed(\"count\", \"NumberOfSales\")\n",
        "\n",
        "# Join with product_df to get product details\n",
        "product_sales_count_df = product_df.join(sales_count_df, on=\"ProductID\")\n",
        "product_sales_count_df.show()\n"
      ],
      "metadata": {
        "colab": {
          "base_uri": "https://localhost:8080/"
        },
        "id": "C6PZB4V3UuFs",
        "outputId": "9d726543-4c6b-4799-bf1d-1c4253ff9eb3"
      },
      "execution_count": 15,
      "outputs": [
        {
          "output_type": "stream",
          "name": "stdout",
          "text": [
            "+---------+-----------+-----------+-----+-------------+\n",
            "|ProductID|ProductName|   Category|Price|NumberOfSales|\n",
            "+---------+-----------+-----------+-----+-------------+\n",
            "|        1|     Laptop|Electronics|50000|            2|\n",
            "|        2| Smartphone|Electronics|30000|            2|\n",
            "|        5| Headphones|Electronics| 2000|            1|\n",
            "|        3|      Table|  Furniture|15000|            2|\n",
            "|        4|      Chair|  Furniture| 5000|            1|\n",
            "+---------+-----------+-----------+-----+-------------+\n",
            "\n"
          ]
        }
      ]
    },
    {
      "cell_type": "code",
      "source": [
        "# Filter the products with total sales value greater than 50000\n",
        "high_sales_df = product_sales_df.filter(col(\"TotalSalesValue\") > 50000)\n",
        "high_sales_df.show()\n"
      ],
      "metadata": {
        "colab": {
          "base_uri": "https://localhost:8080/"
        },
        "id": "TGr5k9D_U09l",
        "outputId": "e2c98386-dce1-4d1f-8c80-243e8a7c7643"
      },
      "execution_count": 16,
      "outputs": [
        {
          "output_type": "stream",
          "name": "stdout",
          "text": [
            "+-----------+---------------+\n",
            "|ProductName|TotalSalesValue|\n",
            "+-----------+---------------+\n",
            "|     Laptop|         150000|\n",
            "|      Table|          60000|\n",
            "| Smartphone|          90000|\n",
            "+-----------+---------------+\n",
            "\n"
          ]
        }
      ]
    }
  ]
}