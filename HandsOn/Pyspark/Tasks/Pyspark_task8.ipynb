{
  "nbformat": 4,
  "nbformat_minor": 0,
  "metadata": {
    "colab": {
      "provenance": [],
      "collapsed_sections": [
        "-1iYLdow-1wB",
        "Ds8kDDWnDeXL",
        "xWLIJ1DXHBhJ"
      ]
    },
    "kernelspec": {
      "name": "python3",
      "display_name": "Python 3"
    },
    "language_info": {
      "name": "python"
    }
  },
  "cells": [
    {
      "cell_type": "markdown",
      "source": [
        "Sept 6 assignment\n"
      ],
      "metadata": {
        "id": "smSKWXIQlsME"
      }
    },
    {
      "cell_type": "code",
      "execution_count": null,
      "metadata": {
        "colab": {
          "base_uri": "https://localhost:8080/"
        },
        "id": "bUL2Um0b3cMd",
        "outputId": "ef740d13-fcab-43f9-8214-abef5540ae17"
      },
      "outputs": [
        {
          "output_type": "stream",
          "name": "stdout",
          "text": [
            "Collecting pyspark\n",
            "  Downloading pyspark-3.5.2.tar.gz (317.3 MB)\n",
            "\u001b[2K     \u001b[90m━━━━━━━━━━━━━━━━━━━━━━━━━━━━━━━━━━━━━━━━\u001b[0m \u001b[32m317.3/317.3 MB\u001b[0m \u001b[31m4.8 MB/s\u001b[0m eta \u001b[36m0:00:00\u001b[0m\n",
            "\u001b[?25h  Preparing metadata (setup.py) ... \u001b[?25l\u001b[?25hdone\n",
            "Requirement already satisfied: py4j==0.10.9.7 in /usr/local/lib/python3.10/dist-packages (from pyspark) (0.10.9.7)\n",
            "Building wheels for collected packages: pyspark\n",
            "  Building wheel for pyspark (setup.py) ... \u001b[?25l\u001b[?25hdone\n",
            "  Created wheel for pyspark: filename=pyspark-3.5.2-py2.py3-none-any.whl size=317812365 sha256=11b84c040d8b1f761225a79f59e8b392fe13e31deb36b47638401dc1b7e5ab04\n",
            "  Stored in directory: /root/.cache/pip/wheels/34/34/bd/03944534c44b677cd5859f248090daa9fb27b3c8f8e5f49574\n",
            "Successfully built pyspark\n",
            "Installing collected packages: pyspark\n",
            "Successfully installed pyspark-3.5.2\n"
          ]
        }
      ],
      "source": [
        "! pip install pyspark\n"
      ]
    },
    {
      "cell_type": "code",
      "source": [
        "from pyspark.sql import SparkSession\n"
      ],
      "metadata": {
        "id": "qXSNoTrY375W"
      },
      "execution_count": null,
      "outputs": []
    },
    {
      "cell_type": "markdown",
      "source": [
        "\n",
        "\n",
        " # **Fitness Tracker Data**"
      ],
      "metadata": {
        "id": "C0GpxQxz3863"
      }
    },
    {
      "cell_type": "code",
      "source": [
        "spark = SparkSession.builder.appName(\"FitnessTrackerAnalysis\").getOrCreate()"
      ],
      "metadata": {
        "id": "9lNCwJQx4hfz"
      },
      "execution_count": null,
      "outputs": []
    },
    {
      "cell_type": "code",
      "source": [
        "csv_file_path = \"/content/sample_data/FitnessTrackerData.csv\"\n",
        "\n",
        "#Now you can read it with pyspark\n",
        "fitness_df = spark.read.format(\"csv\").option(\"header\", \"true\").load(csv_file_path)\n",
        "fitness_df.show()"
      ],
      "metadata": {
        "colab": {
          "base_uri": "https://localhost:8080/"
        },
        "id": "Z2GpA1RX5L_-",
        "outputId": "3b165d0f-68ce-4971-a5d9-0700c7da0f7d"
      },
      "execution_count": null,
      "outputs": [
        {
          "output_type": "stream",
          "name": "stdout",
          "text": [
            "+-------+----------+-----+--------+-----------+--------------+\n",
            "|user_id|      date|steps|calories|distance_km|active_minutes|\n",
            "+-------+----------+-----+--------+-----------+--------------+\n",
            "|      1|2023-07-01|12000|     500|        8.5|            90|\n",
            "|      2|2023-07-01| 8000|     350|        5.6|            60|\n",
            "|      3|2023-07-01|15000|     600|       10.2|           120|\n",
            "|      1|2023-07-02|11000|     480|        7.9|            85|\n",
            "|      2|2023-07-02| 9000|     400|        6.2|            70|\n",
            "|      3|2023-07-02|13000|     520|        9.0|           100|\n",
            "|      1|2023-07-03|10000|     450|        7.1|            80|\n",
            "|      2|2023-07-03| 7000|     320|        4.9|            55|\n",
            "|      3|2023-07-03|16000|     620|       11.0|           130|\n",
            "+-------+----------+-----+--------+-----------+--------------+\n",
            "\n"
          ]
        }
      ]
    },
    {
      "cell_type": "code",
      "source": [
        "#Find the Total Steps Taken by Each User\n",
        "total_steps_by_user = fitness_df.groupBy(\"User_ID\").agg(sum(\"steps\").alias(\"Total_Steps\"))\n",
        "total_steps_by_user.show()"
      ],
      "metadata": {
        "colab": {
          "base_uri": "https://localhost:8080/"
        },
        "id": "u5U9lNGL6H8U",
        "outputId": "e54bc7f3-1aa9-44b0-bce1-f8ecb9eda922"
      },
      "execution_count": null,
      "outputs": [
        {
          "output_type": "stream",
          "name": "stdout",
          "text": [
            "+-------+-----------+\n",
            "|User_ID|Total_Steps|\n",
            "+-------+-----------+\n",
            "|      3|    44000.0|\n",
            "|      1|    33000.0|\n",
            "|      2|    24000.0|\n",
            "+-------+-----------+\n",
            "\n"
          ]
        }
      ]
    },
    {
      "cell_type": "code",
      "source": [
        " #Filter Days Where a User Burned More Than 500 Calories\n",
        "high_calorie_days = fitness_df.filter(col(\"calories\") > 500)\n",
        "high_calorie_days.show()"
      ],
      "metadata": {
        "colab": {
          "base_uri": "https://localhost:8080/"
        },
        "id": "6Osj1d7f7EH6",
        "outputId": "573351b6-e045-4d92-e5f5-a1ca8f644dd5"
      },
      "execution_count": null,
      "outputs": [
        {
          "output_type": "stream",
          "name": "stdout",
          "text": [
            "+-------+----------+-----+--------+-----------+--------------+\n",
            "|user_id|      date|steps|calories|distance_km|active_minutes|\n",
            "+-------+----------+-----+--------+-----------+--------------+\n",
            "|      3|2023-07-01|15000|     600|       10.2|           120|\n",
            "|      3|2023-07-02|13000|     520|        9.0|           100|\n",
            "|      3|2023-07-03|16000|     620|       11.0|           130|\n",
            "+-------+----------+-----+--------+-----------+--------------+\n",
            "\n"
          ]
        }
      ]
    },
    {
      "cell_type": "code",
      "source": [
        "# 3. Calculate the Average Distance Traveled by Each User\n",
        "from pyspark.sql.functions import round\n",
        "avg_distance_df = fitness_df.groupBy(\"user_id\").agg(round(avg(\"distance_km\"),3).alias(\"avg_distance\"))\n",
        "avg_distance_df.show()\n",
        "\n"
      ],
      "metadata": {
        "colab": {
          "base_uri": "https://localhost:8080/"
        },
        "id": "YZ2V6QL-7VeH",
        "outputId": "2dfeeecd-f98a-45d5-90a9-ff0962860b0c"
      },
      "execution_count": null,
      "outputs": [
        {
          "output_type": "stream",
          "name": "stdout",
          "text": [
            "+-------+------------+\n",
            "|user_id|avg_distance|\n",
            "+-------+------------+\n",
            "|      3|      10.067|\n",
            "|      1|       7.833|\n",
            "|      2|       5.567|\n",
            "+-------+------------+\n",
            "\n"
          ]
        }
      ]
    },
    {
      "cell_type": "code",
      "source": [
        "# 4. dentify the Day with the Maximum Steps for Each User\n",
        "from pyspark.sql.functions import max\n",
        "\n",
        "max_steps_df = fitness_df.groupBy(\"user_id\").agg(max(\"steps\").alias(\"max_steps\"), max(\"date\").alias(\"max_steps_date\"))\n",
        "max_steps_df.show()\n",
        "\n"
      ],
      "metadata": {
        "colab": {
          "base_uri": "https://localhost:8080/"
        },
        "id": "Q-hkgXow7a7M",
        "outputId": "fda126f9-5c8c-4cac-eade-9ba31bf67a47"
      },
      "execution_count": null,
      "outputs": [
        {
          "output_type": "stream",
          "name": "stdout",
          "text": [
            "+-------+---------+--------------+\n",
            "|user_id|max_steps|max_steps_date|\n",
            "+-------+---------+--------------+\n",
            "|      1|    12000|    2023-07-03|\n",
            "|      2|     9000|    2023-07-03|\n",
            "|      3|    16000|    2023-07-03|\n",
            "+-------+---------+--------------+\n",
            "\n"
          ]
        }
      ]
    },
    {
      "cell_type": "code",
      "source": [
        "# 5. Find Users Who Were Active for More Than 100 Minutes on Any Day\n",
        "active_users_df = fitness_df.filter(fitness_df.active_minutes > 100).select(\"user_id\").distinct()\n",
        "active_users_df.show()\n"
      ],
      "metadata": {
        "colab": {
          "base_uri": "https://localhost:8080/"
        },
        "id": "lVTlnb7H8geP",
        "outputId": "d7c6460a-9bd0-4816-cff3-53dbde602d2a"
      },
      "execution_count": null,
      "outputs": [
        {
          "output_type": "stream",
          "name": "stdout",
          "text": [
            "+-------+\n",
            "|user_id|\n",
            "+-------+\n",
            "|      3|\n",
            "+-------+\n",
            "\n"
          ]
        }
      ]
    },
    {
      "cell_type": "code",
      "source": [
        "# 6. Calculate the Total Calories Burned per Day\n",
        "from pyspark.sql.functions import sum\n",
        "\n",
        "total_calories_per_day_df = fitness_df.groupBy(\"date\").agg(sum(\"calories\").alias(\"total_calories\"))\n",
        "total_calories_per_day_df.show()"
      ],
      "metadata": {
        "colab": {
          "base_uri": "https://localhost:8080/"
        },
        "id": "uSK1cQFA8_jl",
        "outputId": "7de44dbf-7264-4cb6-e3a8-13154e5f21dd"
      },
      "execution_count": null,
      "outputs": [
        {
          "output_type": "stream",
          "name": "stdout",
          "text": [
            "+----------+--------------+\n",
            "|      date|total_calories|\n",
            "+----------+--------------+\n",
            "|2023-07-03|        1390.0|\n",
            "|2023-07-02|        1400.0|\n",
            "|2023-07-01|        1450.0|\n",
            "+----------+--------------+\n",
            "\n"
          ]
        }
      ]
    },
    {
      "cell_type": "code",
      "source": [
        "# 7. Calculate the Average Steps per Day\n",
        "from pyspark.sql.functions import avg\n",
        "\n",
        "avg_steps_per_day_df = fitness_df.groupBy(\"date\").agg(round(avg(\"steps\"),3).alias(\"avg_steps\"))\n",
        "avg_steps_per_day_df.show()\n"
      ],
      "metadata": {
        "colab": {
          "base_uri": "https://localhost:8080/"
        },
        "id": "m1P_Ehr39JRY",
        "outputId": "314f3d69-df40-44d1-8545-f3decf8028ca"
      },
      "execution_count": null,
      "outputs": [
        {
          "output_type": "stream",
          "name": "stdout",
          "text": [
            "+----------+---------+\n",
            "|      date|avg_steps|\n",
            "+----------+---------+\n",
            "|2023-07-03|  11000.0|\n",
            "|2023-07-02|  11000.0|\n",
            "|2023-07-01|11666.667|\n",
            "+----------+---------+\n",
            "\n"
          ]
        }
      ]
    },
    {
      "cell_type": "code",
      "source": [
        "# 8. Rank Users by Total Distance Traveled\n",
        "from pyspark.sql.functions import sum\n",
        "\n",
        "total_distance_df = fitness_df.groupBy(\"user_id\").agg(round(sum(\"distance_km\"),2).alias(\"total_distance\"))\n",
        "ranked_df = total_distance_df.orderBy(\"total_distance\", ascending=False)\n",
        "ranked_df.show()\n"
      ],
      "metadata": {
        "colab": {
          "base_uri": "https://localhost:8080/"
        },
        "id": "7cnK4CUf9XG5",
        "outputId": "e3efcf4d-3fe9-415c-e0df-a74102f2a523"
      },
      "execution_count": null,
      "outputs": [
        {
          "output_type": "stream",
          "name": "stdout",
          "text": [
            "+-------+--------------+\n",
            "|user_id|total_distance|\n",
            "+-------+--------------+\n",
            "|      3|          30.2|\n",
            "|      1|          23.5|\n",
            "|      2|          16.7|\n",
            "+-------+--------------+\n",
            "\n"
          ]
        }
      ]
    },
    {
      "cell_type": "code",
      "source": [
        "# 9. Find the Most Active User by Total Active Minutes\n",
        "from pyspark.sql.functions import sum\n",
        "\n",
        "most_active_user_df = fitness_df.groupBy(\"user_id\").agg(sum(\"active_minutes\").alias(\"total_active_minutes\"))\n",
        "most_active_user_df.orderBy(\"total_active_minutes\", ascending=False).limit(1).show()\n"
      ],
      "metadata": {
        "colab": {
          "base_uri": "https://localhost:8080/"
        },
        "id": "AzEmFjYv94Av",
        "outputId": "5ac88a91-bf32-42e2-f4c7-0cf5897e7cd0"
      },
      "execution_count": null,
      "outputs": [
        {
          "output_type": "stream",
          "name": "stdout",
          "text": [
            "+-------+--------------------+\n",
            "|user_id|total_active_minutes|\n",
            "+-------+--------------------+\n",
            "|      3|               350.0|\n",
            "+-------+--------------------+\n",
            "\n"
          ]
        }
      ]
    },
    {
      "cell_type": "code",
      "source": [
        "# 10. Create a New Column for Calories Burned per Kilometer\n",
        "from pyspark.sql.functions import col\n",
        "fitness_data = fitness_df.withColumn(\"calories_per_km\", round(col(\"calories\") / col(\"distance_km\"),2))\n",
        "fitness_data.show()"
      ],
      "metadata": {
        "colab": {
          "base_uri": "https://localhost:8080/"
        },
        "id": "_KLmo94x-DcO",
        "outputId": "e2b4e622-4cd2-4673-8369-7745e26b0501"
      },
      "execution_count": null,
      "outputs": [
        {
          "output_type": "stream",
          "name": "stdout",
          "text": [
            "+-------+----------+-----+--------+-----------+--------------+---------------+\n",
            "|user_id|      date|steps|calories|distance_km|active_minutes|calories_per_km|\n",
            "+-------+----------+-----+--------+-----------+--------------+---------------+\n",
            "|      1|2023-07-01|12000|     500|        8.5|            90|          58.82|\n",
            "|      2|2023-07-01| 8000|     350|        5.6|            60|           62.5|\n",
            "|      3|2023-07-01|15000|     600|       10.2|           120|          58.82|\n",
            "|      1|2023-07-02|11000|     480|        7.9|            85|          60.76|\n",
            "|      2|2023-07-02| 9000|     400|        6.2|            70|          64.52|\n",
            "|      3|2023-07-02|13000|     520|        9.0|           100|          57.78|\n",
            "|      1|2023-07-03|10000|     450|        7.1|            80|          63.38|\n",
            "|      2|2023-07-03| 7000|     320|        4.9|            55|          65.31|\n",
            "|      3|2023-07-03|16000|     620|       11.0|           130|          56.36|\n",
            "+-------+----------+-----+--------+-----------+--------------+---------------+\n",
            "\n"
          ]
        }
      ]
    },
    {
      "cell_type": "markdown",
      "source": [
        " # **Book Sales Data**"
      ],
      "metadata": {
        "id": "-1iYLdow-1wB"
      }
    },
    {
      "cell_type": "code",
      "source": [
        "\n",
        "spark = SparkSession.builder.appName(\"BookSalesAnalysis\").getOrCreate()\n",
        "\n",
        "booksales_data = \"/content/sample_data/BookSalesData.csv\"\n",
        "\n",
        "booksales_df = spark.read.csv(booksales_data, header=True, inferSchema=True)\n",
        "booksales_df.show()"
      ],
      "metadata": {
        "colab": {
          "base_uri": "https://localhost:8080/"
        },
        "id": "YDE17FrL-_By",
        "outputId": "a1a756d4-42b0-4eee-dc81-f6ec08888592"
      },
      "execution_count": null,
      "outputs": [
        {
          "output_type": "stream",
          "name": "stdout",
          "text": [
            "+-------+--------------------+-------------------+---------------+----------+--------+----------+\n",
            "|sale_id|          book_title|             author|          genre|sale_price|quantity|      date|\n",
            "+-------+--------------------+-------------------+---------------+----------+--------+----------+\n",
            "|      1|The Catcher in th...|      J.D. Salinger|        Fiction|     15.99|       2|2023-01-05|\n",
            "|      2|To Kill a Mocking...|         Harper Lee|        Fiction|     18.99|       1|2023-01-10|\n",
            "|      3|            Becoming|     Michelle Obama|      Biography|      20.0|       3|2023-02-12|\n",
            "|      4|             Sapiens|  Yuval Noah Harari|    Non-Fiction|      22.5|       1|2023-02-15|\n",
            "|      5|            Educated|      Tara Westover|      Biography|     17.99|       2|2023-03-10|\n",
            "|      6|    The Great Gatsby|F. Scott Fitzgerald|        Fiction|     10.99|       5|2023-03-15|\n",
            "|      7|       Atomic Habits|        James Clear|      Self-Help|     16.99|       3|2023-04-01|\n",
            "|      8|                Dune|      Frank Herbert|Science Fiction|     25.99|       1|2023-04-10|\n",
            "|      9|                1984|      George Orwell|        Fiction|     14.99|       2|2023-04-12|\n",
            "|     10|  The Power of Habit|     Charles Duhigg|      Self-Help|      18.0|       1|2023-05-01|\n",
            "+-------+--------------------+-------------------+---------------+----------+--------+----------+\n",
            "\n"
          ]
        }
      ]
    },
    {
      "cell_type": "code",
      "source": [
        "# 1. Find Total Sales Revenue per Genre\n",
        "book_sales_df = booksales_df.withColumn(\"total_sales\", col(\"sale_price\") * col(\"quantity\"))\n",
        "total_revenue_by_genre = book_sales_df.groupBy(\"genre\").agg(round(sum(\"total_sales\"),2).alias(\"total_revenue\"))\n",
        "total_revenue_by_genre.show()"
      ],
      "metadata": {
        "colab": {
          "base_uri": "https://localhost:8080/"
        },
        "id": "Y5bu5NTXAWez",
        "outputId": "ceb4b0ab-fe91-48f9-bf78-f7d711a07b0b"
      },
      "execution_count": null,
      "outputs": [
        {
          "output_type": "stream",
          "name": "stdout",
          "text": [
            "+---------------+-------------+\n",
            "|          genre|total_revenue|\n",
            "+---------------+-------------+\n",
            "|        Fiction|        135.9|\n",
            "|      Self-Help|        68.97|\n",
            "|Science Fiction|        25.99|\n",
            "|    Non-Fiction|         22.5|\n",
            "|      Biography|        95.98|\n",
            "+---------------+-------------+\n",
            "\n"
          ]
        }
      ]
    },
    {
      "cell_type": "code",
      "source": [
        "# 2. Filter Books Sold in the \"Fiction\" Genre\n",
        "fiction_books_df = booksales_df.filter(book_sales_df.genre == \"Fiction\")\n",
        "fiction_books_df.show()\n"
      ],
      "metadata": {
        "colab": {
          "base_uri": "https://localhost:8080/"
        },
        "id": "sLNQTz8RBIyP",
        "outputId": "131562e0-d364-4545-c98e-3a5ae7e79d9d"
      },
      "execution_count": null,
      "outputs": [
        {
          "output_type": "stream",
          "name": "stdout",
          "text": [
            "+-------+--------------------+-------------------+-------+----------+--------+----------+\n",
            "|sale_id|          book_title|             author|  genre|sale_price|quantity|      date|\n",
            "+-------+--------------------+-------------------+-------+----------+--------+----------+\n",
            "|      1|The Catcher in th...|      J.D. Salinger|Fiction|     15.99|       2|2023-01-05|\n",
            "|      2|To Kill a Mocking...|         Harper Lee|Fiction|     18.99|       1|2023-01-10|\n",
            "|      6|    The Great Gatsby|F. Scott Fitzgerald|Fiction|     10.99|       5|2023-03-15|\n",
            "|      9|                1984|      George Orwell|Fiction|     14.99|       2|2023-04-12|\n",
            "+-------+--------------------+-------------------+-------+----------+--------+----------+\n",
            "\n"
          ]
        }
      ]
    },
    {
      "cell_type": "code",
      "source": [
        "# 3. Find the Book with the Highest Sale Price\n",
        "highest_sale_price_df = booksales_df.orderBy(\"sale_price\", ascending=False).limit(1)\n",
        "highest_sale_price_df.show()\n"
      ],
      "metadata": {
        "colab": {
          "base_uri": "https://localhost:8080/"
        },
        "id": "Tia2j-Q_BWlI",
        "outputId": "5d19c7fc-2bb7-46c1-c90a-b6c3d9b90d46"
      },
      "execution_count": null,
      "outputs": [
        {
          "output_type": "stream",
          "name": "stdout",
          "text": [
            "+-------+----------+-------------+---------------+----------+--------+----------+\n",
            "|sale_id|book_title|       author|          genre|sale_price|quantity|      date|\n",
            "+-------+----------+-------------+---------------+----------+--------+----------+\n",
            "|      8|      Dune|Frank Herbert|Science Fiction|     25.99|       1|2023-04-10|\n",
            "+-------+----------+-------------+---------------+----------+--------+----------+\n",
            "\n"
          ]
        }
      ]
    },
    {
      "cell_type": "code",
      "source": [
        "# 4. Calculate Total Quantity of Books Sold by Author\n",
        "from pyspark.sql.functions import sum\n",
        "\n",
        "total_quantity_by_author = booksales_df.groupBy(\"author\").agg(sum(\"quantity\").alias(\"total_quantity_sold\"))\n",
        "total_quantity_by_author.show()\n"
      ],
      "metadata": {
        "colab": {
          "base_uri": "https://localhost:8080/"
        },
        "id": "7aOfLseeBfF5",
        "outputId": "3a8c3357-99e6-419c-ae82-456870922816"
      },
      "execution_count": null,
      "outputs": [
        {
          "output_type": "stream",
          "name": "stdout",
          "text": [
            "+-------------------+-------------------+\n",
            "|             author|total_quantity_sold|\n",
            "+-------------------+-------------------+\n",
            "|      Frank Herbert|                  1|\n",
            "|         Harper Lee|                  1|\n",
            "|      George Orwell|                  2|\n",
            "|F. Scott Fitzgerald|                  5|\n",
            "|     Michelle Obama|                  3|\n",
            "|      J.D. Salinger|                  2|\n",
            "|     Charles Duhigg|                  1|\n",
            "|  Yuval Noah Harari|                  1|\n",
            "|        James Clear|                  3|\n",
            "|      Tara Westover|                  2|\n",
            "+-------------------+-------------------+\n",
            "\n"
          ]
        }
      ]
    },
    {
      "cell_type": "code",
      "source": [
        "# 5. Identify Sales Transactions Worth More Than $50\n",
        "\n",
        "high_value_sales = book_sales_df.filter(col(\"total_sales\") > 50)\n",
        "high_value_sales.show()"
      ],
      "metadata": {
        "colab": {
          "base_uri": "https://localhost:8080/"
        },
        "id": "UdvUOjO5BnCs",
        "outputId": "02be4992-1b05-4775-dad3-528523280a12"
      },
      "execution_count": null,
      "outputs": [
        {
          "output_type": "stream",
          "name": "stdout",
          "text": [
            "+-------+----------------+-------------------+---------+----------+--------+----------+-----------+\n",
            "|sale_id|      book_title|             author|    genre|sale_price|quantity|      date|total_sales|\n",
            "+-------+----------------+-------------------+---------+----------+--------+----------+-----------+\n",
            "|      3|        Becoming|     Michelle Obama|Biography|      20.0|       3|2023-02-12|       60.0|\n",
            "|      6|The Great Gatsby|F. Scott Fitzgerald|  Fiction|     10.99|       5|2023-03-15|      54.95|\n",
            "|      7|   Atomic Habits|        James Clear|Self-Help|     16.99|       3|2023-04-01|      50.97|\n",
            "+-------+----------------+-------------------+---------+----------+--------+----------+-----------+\n",
            "\n"
          ]
        }
      ]
    },
    {
      "cell_type": "code",
      "source": [
        "# 6. Find the Average Sale Price per Genre\n",
        "avg_price_by_genre = book_sales_df.groupBy(\"genre\").agg(round(avg(\"sale_price\"),2).alias(\"avg_price\"))\n",
        "avg_price_by_genre.show()"
      ],
      "metadata": {
        "colab": {
          "base_uri": "https://localhost:8080/"
        },
        "id": "a2w2MS8FBzJ-",
        "outputId": "9c882b6a-89f4-4bbc-cf75-7840e109c21f"
      },
      "execution_count": null,
      "outputs": [
        {
          "output_type": "stream",
          "name": "stdout",
          "text": [
            "+---------------+---------+\n",
            "|          genre|avg_price|\n",
            "+---------------+---------+\n",
            "|        Fiction|    15.24|\n",
            "|      Self-Help|    17.49|\n",
            "|Science Fiction|    25.99|\n",
            "|    Non-Fiction|     22.5|\n",
            "|      Biography|    18.99|\n",
            "+---------------+---------+\n",
            "\n"
          ]
        }
      ]
    },
    {
      "cell_type": "code",
      "source": [
        "# 7. Count the Number of Unique Authors in the Dataset\n",
        "unique_authors_count = booksales_df.select(\"author\").distinct().count()\n",
        "print(f\"Number of unique authors: {unique_authors_count}\")\n"
      ],
      "metadata": {
        "colab": {
          "base_uri": "https://localhost:8080/"
        },
        "id": "aySw-rlxB3BH",
        "outputId": "888dc650-7c01-4275-ab5a-1b53bebfdd34"
      },
      "execution_count": null,
      "outputs": [
        {
          "output_type": "stream",
          "name": "stdout",
          "text": [
            "Number of unique authors: 10\n"
          ]
        }
      ]
    },
    {
      "cell_type": "code",
      "source": [
        "# 8. Find the Top 3 Best-Selling Books by Quantity\n",
        "top_selling_books = booksales_df.groupBy(\"book_title\").agg(sum(\"quantity\").alias(\"total_quantity_sold\"))\n",
        "top_selling_books.orderBy(\"total_quantity_sold\", ascending=False).limit(3).show()\n"
      ],
      "metadata": {
        "colab": {
          "base_uri": "https://localhost:8080/"
        },
        "id": "SWLp01GWB_lC",
        "outputId": "4cbfdaa6-deb4-4b1b-f94f-490eb5532a6e"
      },
      "execution_count": null,
      "outputs": [
        {
          "output_type": "stream",
          "name": "stdout",
          "text": [
            "+----------------+-------------------+\n",
            "|      book_title|total_quantity_sold|\n",
            "+----------------+-------------------+\n",
            "|The Great Gatsby|                  5|\n",
            "|   Atomic Habits|                  3|\n",
            "|        Becoming|                  3|\n",
            "+----------------+-------------------+\n",
            "\n"
          ]
        }
      ]
    },
    {
      "cell_type": "code",
      "source": [
        "# 9. Calculate Total Sales for Each Month\n",
        "from pyspark.sql.functions import sum, month, col, expr\n",
        "\n",
        "\n",
        "booksales_df_with_total_sales = booksales_df.withColumn(\"total_sales\", expr(\"sale_price * quantity\"))\n",
        "total_sales_by_month = booksales_df_with_total_sales.groupBy(month(col(\"date\")).alias(\"month\")).agg(\n",
        "    sum(\"total_sales\").alias(\"total_sales\")\n",
        ")\n",
        "\n",
        "total_sales_by_month.show()\n"
      ],
      "metadata": {
        "colab": {
          "base_uri": "https://localhost:8080/"
        },
        "id": "MpW5IUwnCJVt",
        "outputId": "1f984261-49a1-4e41-a377-dd3ed3667442"
      },
      "execution_count": null,
      "outputs": [
        {
          "output_type": "stream",
          "name": "stdout",
          "text": [
            "+-----+-----------+\n",
            "|month|total_sales|\n",
            "+-----+-----------+\n",
            "|    1|      50.97|\n",
            "|    3|      90.93|\n",
            "|    5|       18.0|\n",
            "|    4|     106.94|\n",
            "|    2|       82.5|\n",
            "+-----+-----------+\n",
            "\n"
          ]
        }
      ]
    },
    {
      "cell_type": "code",
      "source": [
        " # 10. Create a New Column for Total Sales Amount\n",
        "booksales_df_with_total_sales = booksales_df.withColumn(\"total_sales\", expr(\"sale_price * quantity\"))\n",
        "booksales_df_with_total_sales.show()\n"
      ],
      "metadata": {
        "colab": {
          "base_uri": "https://localhost:8080/"
        },
        "id": "RF5ZCa7dDKet",
        "outputId": "4c78bc4b-38d1-4b2d-8210-f42b56efc0d1"
      },
      "execution_count": null,
      "outputs": [
        {
          "output_type": "stream",
          "name": "stdout",
          "text": [
            "+-------+--------------------+-------------------+---------------+----------+--------+----------+-----------+\n",
            "|sale_id|          book_title|             author|          genre|sale_price|quantity|      date|total_sales|\n",
            "+-------+--------------------+-------------------+---------------+----------+--------+----------+-----------+\n",
            "|      1|The Catcher in th...|      J.D. Salinger|        Fiction|     15.99|       2|2023-01-05|      31.98|\n",
            "|      2|To Kill a Mocking...|         Harper Lee|        Fiction|     18.99|       1|2023-01-10|      18.99|\n",
            "|      3|            Becoming|     Michelle Obama|      Biography|      20.0|       3|2023-02-12|       60.0|\n",
            "|      4|             Sapiens|  Yuval Noah Harari|    Non-Fiction|      22.5|       1|2023-02-15|       22.5|\n",
            "|      5|            Educated|      Tara Westover|      Biography|     17.99|       2|2023-03-10|      35.98|\n",
            "|      6|    The Great Gatsby|F. Scott Fitzgerald|        Fiction|     10.99|       5|2023-03-15|      54.95|\n",
            "|      7|       Atomic Habits|        James Clear|      Self-Help|     16.99|       3|2023-04-01|      50.97|\n",
            "|      8|                Dune|      Frank Herbert|Science Fiction|     25.99|       1|2023-04-10|      25.99|\n",
            "|      9|                1984|      George Orwell|        Fiction|     14.99|       2|2023-04-12|      29.98|\n",
            "|     10|  The Power of Habit|     Charles Duhigg|      Self-Help|      18.0|       1|2023-05-01|       18.0|\n",
            "+-------+--------------------+-------------------+---------------+----------+--------+----------+-----------+\n",
            "\n"
          ]
        }
      ]
    },
    {
      "cell_type": "markdown",
      "source": [
        " # **Food Delivery Orders**"
      ],
      "metadata": {
        "id": "Ds8kDDWnDeXL"
      }
    },
    {
      "cell_type": "code",
      "source": [
        "spark = SparkSession.builder.appName(\"/FoodDeliveryAnalysis\").getOrCreate()\n",
        "\n",
        "FoodDelivery_Data = \"/content/sample_data/FoodDeliveryOrders.csv\"\n",
        "\n",
        "food_orders_df = spark.read.csv(booksales_data, header=True, inferSchema=True)\n",
        "food_orders_df.show()"
      ],
      "metadata": {
        "colab": {
          "base_uri": "https://localhost:8080/"
        },
        "id": "1u_9DhhnEVOK",
        "outputId": "88e51896-a0d9-4642-f580-eacbac16dd0b"
      },
      "execution_count": null,
      "outputs": [
        {
          "output_type": "stream",
          "name": "stdout",
          "text": [
            "+----------+-----------+-------------+--------+--------------+---------+\n",
            "|      date|       city|temperature_c|humidity|wind_speed_kph|condition|\n",
            "+----------+-----------+-------------+--------+--------------+---------+\n",
            "|2023-01-01|   New York|            5|      60|            20|   Cloudy|\n",
            "|2023-01-01|Los Angeles|           15|      40|            10|    Sunny|\n",
            "|2023-01-01|    Chicago|           -2|      75|            25|     Snow|\n",
            "|2023-01-02|   New York|            3|      65|            15|     Rain|\n",
            "|2023-01-02|Los Angeles|           18|      35|             8|    Sunny|\n",
            "|2023-01-02|    Chicago|           -5|      80|            30|     Snow|\n",
            "|2023-01-03|   New York|            6|      55|            22|    Sunny|\n",
            "|2023-01-03|Los Angeles|           20|      38|            12|    Sunny|\n",
            "|2023-01-03|    Chicago|           -1|      70|            18|   Cloudy|\n",
            "+----------+-----------+-------------+--------+--------------+---------+\n",
            "\n"
          ]
        }
      ]
    },
    {
      "cell_type": "code",
      "source": [
        "# Calculate Total Revenue per Restaurant\n",
        "total_revenue = food_orders_df.withColumn(\"total_revenue\", food_orders_df.price * food_orders_df.quantity)\n",
        "total_revenue.groupBy(\"restaurant_name\").sum(\"total_revenue\").show()\n"
      ],
      "metadata": {
        "colab": {
          "base_uri": "https://localhost:8080/"
        },
        "id": "FSlEeESFEu4U",
        "outputId": "1a61eaae-4858-4acc-d21c-59e0e02aa3d0"
      },
      "execution_count": null,
      "outputs": [
        {
          "output_type": "stream",
          "name": "stdout",
          "text": [
            "+---------------+------------------+\n",
            "|restaurant_name|sum(total_revenue)|\n",
            "+---------------+------------------+\n",
            "|         Subway|              13.0|\n",
            "|      Pizza Hut|             12.99|\n",
            "|    Burger King|              6.99|\n",
            "|            KFC|             35.96|\n",
            "|       Domino's|             23.98|\n",
            "|     McDonald's|20.950000000000003|\n",
            "|      Starbucks|              13.5|\n",
            "+---------------+------------------+\n",
            "\n"
          ]
        }
      ]
    },
    {
      "cell_type": "code",
      "source": [
        "# Find the Fastest Delivery:\n",
        "Fastest_delivery = food_orders_df.orderBy(\"delivery_time_mins\")\n",
        "\n",
        "Fastest_delivery.show(1)\n"
      ],
      "metadata": {
        "colab": {
          "base_uri": "https://localhost:8080/"
        },
        "id": "aUXN1J4XFwbd",
        "outputId": "307bc4df-46ad-47f6-86f0-139cd6fbd515"
      },
      "execution_count": null,
      "outputs": [
        {
          "output_type": "stream",
          "name": "stdout",
          "text": [
            "+--------+-----------+---------------+---------+--------+-----+------------------+----------+\n",
            "|order_id|customer_id|restaurant_name|food_item|quantity|price|delivery_time_mins|order_date|\n",
            "+--------+-----------+---------------+---------+--------+-----+------------------+----------+\n",
            "|       6|        205|      Starbucks|   Coffee|       1|  4.5|                15|2023-06-18|\n",
            "+--------+-----------+---------------+---------+--------+-----+------------------+----------+\n",
            "only showing top 1 row\n",
            "\n"
          ]
        }
      ]
    },
    {
      "cell_type": "code",
      "source": [
        "# Calculate Average Delivery Time per Restaurant:\n",
        "Avg_delivery = food_orders_df.groupBy(\"restaurant_name\").avg(\"delivery_time_mins\")\n",
        "Avg_delivery.show()"
      ],
      "metadata": {
        "colab": {
          "base_uri": "https://localhost:8080/"
        },
        "id": "BFKUtHEAGUOh",
        "outputId": "8c069f3c-a8ab-420c-ea6e-f8a0ecdd3376"
      },
      "execution_count": null,
      "outputs": [
        {
          "output_type": "stream",
          "name": "stdout",
          "text": [
            "+---------------+-----------------------+\n",
            "|restaurant_name|avg(delivery_time_mins)|\n",
            "+---------------+-----------------------+\n",
            "|         Subway|                   20.0|\n",
            "|      Pizza Hut|                   45.0|\n",
            "|    Burger King|                   30.0|\n",
            "|            KFC|                   25.0|\n",
            "|       Domino's|                   40.0|\n",
            "|     McDonald's|                   22.5|\n",
            "|      Starbucks|                   17.5|\n",
            "+---------------+-----------------------+\n",
            "\n"
          ]
        }
      ]
    },
    {
      "cell_type": "code",
      "source": [
        "# Filter Orders for a Specific Customer\n",
        "Specific_Customer = food_orders_df.filter(food_orders_df.customer_id == 201)\n",
        "Specific_Customer.show()\n"
      ],
      "metadata": {
        "colab": {
          "base_uri": "https://localhost:8080/"
        },
        "id": "2folcfvjGps5",
        "outputId": "87c4de9a-46ab-437d-ad6b-84bcfad1c5aa"
      },
      "execution_count": null,
      "outputs": [
        {
          "output_type": "stream",
          "name": "stdout",
          "text": [
            "+--------+-----------+---------------+---------+--------+-----+------------------+----------+\n",
            "|order_id|customer_id|restaurant_name|food_item|quantity|price|delivery_time_mins|order_date|\n",
            "+--------+-----------+---------------+---------+--------+-----+------------------+----------+\n",
            "|       1|        201|     McDonald's|   Burger|       2| 5.99|                30|2023-06-15|\n",
            "|       4|        201|         Subway| Sandwich|       2|  6.5|                20|2023-06-17|\n",
            "+--------+-----------+---------------+---------+--------+-----+------------------+----------+\n",
            "\n"
          ]
        }
      ]
    },
    {
      "cell_type": "code",
      "source": [
        "# Find Orders Where Total Amount Spent is Greater Than $20:\n",
        "food_orders_df.filter((food_orders_df.price * food_orders_df.quantity) > 20).show()\n"
      ],
      "metadata": {
        "colab": {
          "base_uri": "https://localhost:8080/"
        },
        "id": "bw9_seu5HxMg",
        "outputId": "89c0b6b8-9b94-4981-95ed-ec33083826c9"
      },
      "execution_count": null,
      "outputs": [
        {
          "output_type": "stream",
          "name": "stdout",
          "text": [
            "+--------+-----------+---------------+-------------+--------+-----+------------------+----------+\n",
            "|order_id|customer_id|restaurant_name|    food_item|quantity|price|delivery_time_mins|order_date|\n",
            "+--------+-----------+---------------+-------------+--------+-----+------------------+----------+\n",
            "|       3|        203|            KFC|Fried Chicken|       3| 8.99|                25|2023-06-17|\n",
            "|       5|        204|       Domino's|        Pizza|       2|11.99|                40|2023-06-18|\n",
            "+--------+-----------+---------------+-------------+--------+-----+------------------+----------+\n",
            "\n"
          ]
        }
      ]
    },
    {
      "cell_type": "code",
      "source": [
        "# Calculate the Total Quantity of Each Food Item Sold:\n",
        "total_quantity = food_orders_df.groupBy(\"food_item\").sum(\"quantity\")\n",
        "total_quantity.show()\n"
      ],
      "metadata": {
        "colab": {
          "base_uri": "https://localhost:8080/"
        },
        "id": "MVXXH0uPH7kJ",
        "outputId": "7a99ec12-f7cf-4901-cada-cb0dd2f92010"
      },
      "execution_count": null,
      "outputs": [
        {
          "output_type": "stream",
          "name": "stdout",
          "text": [
            "+-------------+-------------+\n",
            "|    food_item|sum(quantity)|\n",
            "+-------------+-------------+\n",
            "|        Fries|            3|\n",
            "|       Burger|            3|\n",
            "|     Sandwich|            2|\n",
            "|        Pizza|            3|\n",
            "|       Coffee|            3|\n",
            "|Fried Chicken|            4|\n",
            "+-------------+-------------+\n",
            "\n"
          ]
        }
      ]
    },
    {
      "cell_type": "code",
      "source": [
        "# Find the Top 3 Most Popular Restaurants by Number of Orders:\n",
        "top_three_restaurants = food_orders_df.groupBy(\"restaurant_name\").count().orderBy(\"count\", ascending=False)\n",
        "top_three_restaurants .show(3)\n"
      ],
      "metadata": {
        "colab": {
          "base_uri": "https://localhost:8080/"
        },
        "id": "-hqrZwTJIMp0",
        "outputId": "3b086bfa-fe92-4e77-c3b6-5cc903777358"
      },
      "execution_count": null,
      "outputs": [
        {
          "output_type": "stream",
          "name": "stdout",
          "text": [
            "+---------------+-----+\n",
            "|restaurant_name|count|\n",
            "+---------------+-----+\n",
            "|            KFC|    2|\n",
            "|     McDonald's|    2|\n",
            "|      Starbucks|    2|\n",
            "+---------------+-----+\n",
            "only showing top 3 rows\n",
            "\n"
          ]
        }
      ]
    },
    {
      "cell_type": "code",
      "source": [
        "# Calculate Total Revenue per Day:\n",
        "Total_Revenue_per_Day = food_orders_df.withColumn(\"total_revenue\", food_orders_df.price * food_orders_df.quantity).groupBy(\"order_date\").sum(\"total_revenue\")\n",
        "Total_Revenue_per_Day.show()"
      ],
      "metadata": {
        "colab": {
          "base_uri": "https://localhost:8080/"
        },
        "id": "xoOZd5L3Idmn",
        "outputId": "cf406ead-8cec-4172-8910-917c0fabf150"
      },
      "execution_count": null,
      "outputs": [
        {
          "output_type": "stream",
          "name": "stdout",
          "text": [
            "+----------+------------------+\n",
            "|order_date|sum(total_revenue)|\n",
            "+----------+------------------+\n",
            "|2023-06-18|             28.48|\n",
            "|2023-06-16|             12.99|\n",
            "|2023-06-15|             11.98|\n",
            "|2023-06-17|             39.97|\n",
            "|2023-06-20|             15.99|\n",
            "|2023-06-19|             17.96|\n",
            "+----------+------------------+\n",
            "\n"
          ]
        }
      ]
    },
    {
      "cell_type": "code",
      "source": [
        "# Find the Longest Delivery Time for Each Restaurant\n",
        "food_orders_df.groupBy(\"restaurant_name\").max(\"delivery_time_mins\").show()\n"
      ],
      "metadata": {
        "colab": {
          "base_uri": "https://localhost:8080/"
        },
        "id": "wpY1hc_hIzt7",
        "outputId": "d146c9ce-a825-4547-aea1-cefc88054714"
      },
      "execution_count": null,
      "outputs": [
        {
          "output_type": "stream",
          "name": "stdout",
          "text": [
            "+---------------+-----------------------+\n",
            "|restaurant_name|max(delivery_time_mins)|\n",
            "+---------------+-----------------------+\n",
            "|         Subway|                     20|\n",
            "|      Pizza Hut|                     45|\n",
            "|    Burger King|                     30|\n",
            "|            KFC|                     25|\n",
            "|       Domino's|                     40|\n",
            "|     McDonald's|                     30|\n",
            "|      Starbucks|                     20|\n",
            "+---------------+-----------------------+\n",
            "\n"
          ]
        }
      ]
    },
    {
      "cell_type": "code",
      "source": [
        "# Create a New Column for Total Order Value\n",
        "food_orders_df.withColumn(\"total_order_value\", food_orders_df.price * food_orders_df.quantity).show()\n"
      ],
      "metadata": {
        "colab": {
          "base_uri": "https://localhost:8080/"
        },
        "id": "fjGXvUavI774",
        "outputId": "1a36588a-eb59-4765-9c5e-1fef6a902fd1"
      },
      "execution_count": null,
      "outputs": [
        {
          "output_type": "stream",
          "name": "stdout",
          "text": [
            "+--------+-----------+---------------+-------------+--------+-----+------------------+----------+-----------------+\n",
            "|order_id|customer_id|restaurant_name|    food_item|quantity|price|delivery_time_mins|order_date|total_order_value|\n",
            "+--------+-----------+---------------+-------------+--------+-----+------------------+----------+-----------------+\n",
            "|       1|        201|     McDonald's|       Burger|       2| 5.99|                30|2023-06-15|            11.98|\n",
            "|       2|        202|      Pizza Hut|        Pizza|       1|12.99|                45|2023-06-16|            12.99|\n",
            "|       3|        203|            KFC|Fried Chicken|       3| 8.99|                25|2023-06-17|            26.97|\n",
            "|       4|        201|         Subway|     Sandwich|       2|  6.5|                20|2023-06-17|             13.0|\n",
            "|       5|        204|       Domino's|        Pizza|       2|11.99|                40|2023-06-18|            23.98|\n",
            "|       6|        205|      Starbucks|       Coffee|       1|  4.5|                15|2023-06-18|              4.5|\n",
            "|       7|        202|            KFC|Fried Chicken|       1| 8.99|                25|2023-06-19|             8.99|\n",
            "|       8|        206|     McDonald's|        Fries|       3| 2.99|                15|2023-06-19|             8.97|\n",
            "|       9|        207|    Burger King|       Burger|       1| 6.99|                30|2023-06-20|             6.99|\n",
            "|      10|        203|      Starbucks|       Coffee|       2|  4.5|                20|2023-06-20|              9.0|\n",
            "+--------+-----------+---------------+-------------+--------+-----+------------------+----------+-----------------+\n",
            "\n"
          ]
        }
      ]
    },
    {
      "cell_type": "markdown",
      "source": [
        "# **Weather Data**"
      ],
      "metadata": {
        "id": "xWLIJ1DXHBhJ"
      }
    },
    {
      "cell_type": "code",
      "source": [
        "spark = SparkSession.builder.appName(\"/WeatherDataAnalysis\").getOrCreate()\n",
        "\n",
        "weatherAnalysis_data = \"/content/sample_data/WeatherData.csv\"\n",
        "\n",
        "weather_data = spark.read.csv(booksales_data, header=True, inferSchema=True)\n",
        "weather_data.show()"
      ],
      "metadata": {
        "colab": {
          "base_uri": "https://localhost:8080/"
        },
        "id": "sQZ18cKHHyhh",
        "outputId": "205a5905-8eb0-4a51-e104-c2c643a6aa0d"
      },
      "execution_count": null,
      "outputs": [
        {
          "output_type": "stream",
          "name": "stdout",
          "text": [
            "+----------+-----------+-------------+--------+--------------+---------+\n",
            "|      date|       city|temperature_c|humidity|wind_speed_kph|condition|\n",
            "+----------+-----------+-------------+--------+--------------+---------+\n",
            "|2023-01-01|   New York|            5|      60|            20|   Cloudy|\n",
            "|2023-01-01|Los Angeles|           15|      40|            10|    Sunny|\n",
            "|2023-01-01|    Chicago|           -2|      75|            25|     Snow|\n",
            "|2023-01-02|   New York|            3|      65|            15|     Rain|\n",
            "|2023-01-02|Los Angeles|           18|      35|             8|    Sunny|\n",
            "|2023-01-02|    Chicago|           -5|      80|            30|     Snow|\n",
            "|2023-01-03|   New York|            6|      55|            22|    Sunny|\n",
            "|2023-01-03|Los Angeles|           20|      38|            12|    Sunny|\n",
            "|2023-01-03|    Chicago|           -1|      70|            18|   Cloudy|\n",
            "+----------+-----------+-------------+--------+--------------+---------+\n",
            "\n"
          ]
        }
      ]
    },
    {
      "cell_type": "code",
      "source": [
        "# Find the Average Temperature for Each City\n",
        "\n",
        "Avg_Temperature = weather_data.groupBy(\"city\").avg(\"temperature_c\")\n",
        "Avg_Temperature.show()\n"
      ],
      "metadata": {
        "colab": {
          "base_uri": "https://localhost:8080/"
        },
        "id": "XYk2zexOIYW1",
        "outputId": "9c86aad6-3eae-4976-ae89-7e886c377c67"
      },
      "execution_count": null,
      "outputs": [
        {
          "output_type": "stream",
          "name": "stdout",
          "text": [
            "+-----------+-------------------+\n",
            "|       city| avg(temperature_c)|\n",
            "+-----------+-------------------+\n",
            "|Los Angeles| 17.666666666666668|\n",
            "|    Chicago|-2.6666666666666665|\n",
            "|   New York|  4.666666666666667|\n",
            "+-----------+-------------------+\n",
            "\n"
          ]
        }
      ]
    },
    {
      "cell_type": "code",
      "source": [
        "# Filter Days with Temperature Below Freezing\n",
        "\n",
        "Freezing_temp_days = weather_data.filter(\"temperature_c < 0\")\n",
        "Freezing_temp_days.show()\n"
      ],
      "metadata": {
        "colab": {
          "base_uri": "https://localhost:8080/"
        },
        "id": "3kxfudRaKm-6",
        "outputId": "f3576c35-9a03-4896-dad3-39e8102a8991"
      },
      "execution_count": null,
      "outputs": [
        {
          "output_type": "stream",
          "name": "stdout",
          "text": [
            "+----------+-------+-------------+--------+--------------+---------+\n",
            "|      date|   city|temperature_c|humidity|wind_speed_kph|condition|\n",
            "+----------+-------+-------------+--------+--------------+---------+\n",
            "|2023-01-01|Chicago|           -2|      75|            25|     Snow|\n",
            "|2023-01-02|Chicago|           -5|      80|            30|     Snow|\n",
            "|2023-01-03|Chicago|           -1|      70|            18|   Cloudy|\n",
            "+----------+-------+-------------+--------+--------------+---------+\n",
            "\n"
          ]
        }
      ]
    },
    {
      "cell_type": "code",
      "source": [
        "# Find the City with the Highest Wind Speed on a Specific Day\n",
        "weather_data.filter(\"date == '2023-01-02'\").orderBy(\"wind_speed_kph\", ascending=False).show(1)\n"
      ],
      "metadata": {
        "colab": {
          "base_uri": "https://localhost:8080/"
        },
        "id": "hHgBk1vQLKvY",
        "outputId": "b3a5bb43-adb5-48d5-8f43-44f8d7dfa09f"
      },
      "execution_count": null,
      "outputs": [
        {
          "output_type": "stream",
          "name": "stdout",
          "text": [
            "+----------+-------+-------------+--------+--------------+---------+\n",
            "|      date|   city|temperature_c|humidity|wind_speed_kph|condition|\n",
            "+----------+-------+-------------+--------+--------------+---------+\n",
            "|2023-01-02|Chicago|           -5|      80|            30|     Snow|\n",
            "+----------+-------+-------------+--------+--------------+---------+\n",
            "only showing top 1 row\n",
            "\n"
          ]
        }
      ]
    },
    {
      "cell_type": "code",
      "source": [
        "# Calculate the Total Number of Days with Rainy Weather\n",
        "Rainy_Weather = weather_data.filter(\"condition == 'Rain'\")\n",
        "Rainy_Weather.count()\n"
      ],
      "metadata": {
        "colab": {
          "base_uri": "https://localhost:8080/"
        },
        "id": "2xgkXGpmLTMh",
        "outputId": "84db4c48-9dd1-42ec-d373-827c59592210"
      },
      "execution_count": null,
      "outputs": [
        {
          "output_type": "execute_result",
          "data": {
            "text/plain": [
              "1"
            ]
          },
          "metadata": {},
          "execution_count": 13
        }
      ]
    },
    {
      "cell_type": "code",
      "source": [
        "# Calculate the Average Humidity for Each Weather Condition\n",
        "Avg_Humidity = weather_data.groupBy(\"condition\").avg(\"humidity\")\n",
        "Avg_Humidity.show()\n"
      ],
      "metadata": {
        "colab": {
          "base_uri": "https://localhost:8080/"
        },
        "id": "eEH-BewWLjEB",
        "outputId": "ad45a33f-e719-4249-ee14-e7283bbaab96"
      },
      "execution_count": null,
      "outputs": [
        {
          "output_type": "stream",
          "name": "stdout",
          "text": [
            "+---------+-------------+\n",
            "|condition|avg(humidity)|\n",
            "+---------+-------------+\n",
            "|   Cloudy|         65.0|\n",
            "|    Sunny|         42.0|\n",
            "|     Snow|         77.5|\n",
            "|     Rain|         65.0|\n",
            "+---------+-------------+\n",
            "\n"
          ]
        }
      ]
    },
    {
      "cell_type": "code",
      "source": [
        "# Find the Hottest Day in Each City\n",
        "Hottest_Day = weather_data.groupBy(\"city\").agg({\"temperature_c\": \"max\"})\n",
        "Hottest_Day.show()\n"
      ],
      "metadata": {
        "colab": {
          "base_uri": "https://localhost:8080/"
        },
        "id": "WXi3c-y7MDbu",
        "outputId": "d71cdff7-343d-41c9-b37d-997c993d8ff6"
      },
      "execution_count": null,
      "outputs": [
        {
          "output_type": "stream",
          "name": "stdout",
          "text": [
            "+-----------+------------------+\n",
            "|       city|max(temperature_c)|\n",
            "+-----------+------------------+\n",
            "|Los Angeles|                20|\n",
            "|    Chicago|                -1|\n",
            "|   New York|                 6|\n",
            "+-----------+------------------+\n",
            "\n"
          ]
        }
      ]
    },
    {
      "cell_type": "code",
      "source": [
        " # Identify Cities That Experienced Snow\n",
        "Snow_city = weather_data.filter(\"condition == 'Snow'\").select(\"city\").distinct()\n",
        "Snow_city.show()\n"
      ],
      "metadata": {
        "colab": {
          "base_uri": "https://localhost:8080/"
        },
        "id": "btWwdfjeNOBb",
        "outputId": "bcf08e8e-e526-468e-f656-ccf05429ae7c"
      },
      "execution_count": null,
      "outputs": [
        {
          "output_type": "stream",
          "name": "stdout",
          "text": [
            "+-------+\n",
            "|   city|\n",
            "+-------+\n",
            "|Chicago|\n",
            "+-------+\n",
            "\n"
          ]
        }
      ]
    },
    {
      "cell_type": "code",
      "source": [
        "# Calculate the Average Wind Speed for Days When the Condition was Sunny\n",
        "weather_data.filter(\"condition == 'Sunny'\").agg({\"wind_speed_kph\": \"avg\"}).show()\n"
      ],
      "metadata": {
        "colab": {
          "base_uri": "https://localhost:8080/"
        },
        "id": "sw51ojizNcN5",
        "outputId": "84767a83-3eb0-4a63-cb9d-c6468aa30002"
      },
      "execution_count": null,
      "outputs": [
        {
          "output_type": "stream",
          "name": "stdout",
          "text": [
            "+-------------------+\n",
            "|avg(wind_speed_kph)|\n",
            "+-------------------+\n",
            "|               13.0|\n",
            "+-------------------+\n",
            "\n"
          ]
        }
      ]
    },
    {
      "cell_type": "code",
      "source": [
        "# Find the Coldest Day Across All Cities\n",
        "Coldest_day = weather_data.orderBy(\"temperature_c\")\n",
        "Coldest_day.show(1)\n"
      ],
      "metadata": {
        "colab": {
          "base_uri": "https://localhost:8080/"
        },
        "id": "jcFzMAJtNkcw",
        "outputId": "261f6323-9a07-4989-a509-71f86484f297"
      },
      "execution_count": null,
      "outputs": [
        {
          "output_type": "stream",
          "name": "stdout",
          "text": [
            "+----------+-------+-------------+--------+--------------+---------+\n",
            "|      date|   city|temperature_c|humidity|wind_speed_kph|condition|\n",
            "+----------+-------+-------------+--------+--------------+---------+\n",
            "|2023-01-02|Chicago|           -5|      80|            30|     Snow|\n",
            "+----------+-------+-------------+--------+--------------+---------+\n",
            "only showing top 1 row\n",
            "\n"
          ]
        }
      ]
    },
    {
      "cell_type": "code",
      "source": [
        " # Create a New Column for Wind Chill\n",
        "from pyspark.sql.functions import col, pow\n",
        "weather_data_with_wind_chill = weather_data.withColumn(\n",
        "    \"wind_chill\",\n",
        "    13.12 + 0.6215 * col(\"temperature_c\") - 11.37 * pow(col(\"wind_speed_kph\"), 0.16) +\n",
        "    0.3965 * col(\"temperature_c\") * pow(col(\"wind_speed_kph\"), 0.16)\n",
        ")\n",
        "\n",
        "weather_data_with_wind_chill.show()\n",
        "\n"
      ],
      "metadata": {
        "colab": {
          "base_uri": "https://localhost:8080/"
        },
        "id": "DDHkcA24N0IF",
        "outputId": "3bc8abaf-90f7-4331-9834-c8b2cb71f71d"
      },
      "execution_count": null,
      "outputs": [
        {
          "output_type": "stream",
          "name": "stdout",
          "text": [
            "+----------+-----------+-------------+--------+--------------+---------+-------------------+\n",
            "|      date|       city|temperature_c|humidity|wind_speed_kph|condition|         wind_chill|\n",
            "+----------+-----------+-------------+--------+--------------+---------+-------------------+\n",
            "|2023-01-01|   New York|            5|      60|            20|   Cloudy| 1.0669572525115663|\n",
            "|2023-01-01|Los Angeles|           15|      40|            10|    Sunny| 14.604602843130213|\n",
            "|2023-01-01|    Chicago|           -2|      75|            25|     Snow| -8.479874917414646|\n",
            "|2023-01-02|   New York|            3|      65|            15|     Rain|-0.7170927775232809|\n",
            "|2023-01-02|Los Angeles|           18|      35|             8|    Sunny| 18.403050060338735|\n",
            "|2023-01-02|    Chicago|           -5|      80|            30|     Snow|-12.996724811921073|\n",
            "|2023-01-03|   New York|            6|      55|            22|    Sunny| 2.1056686374397366|\n",
            "|2023-01-03|Los Angeles|           20|      38|            12|    Sunny|  20.43050124240701|\n",
            "|2023-01-03|    Chicago|           -1|      70|            18|   Cloudy| -6.186405252170635|\n",
            "+----------+-----------+-------------+--------+--------------+---------+-------------------+\n",
            "\n"
          ]
        }
      ]
    },
    {
      "cell_type": "markdown",
      "source": [
        "# **Airline Flight Data**"
      ],
      "metadata": {
        "id": "bJHVQTaOOoXP"
      }
    },
    {
      "cell_type": "code",
      "source": [
        "spark = SparkSession.builder.appName(\"AirlinesAnalysis\").getOrCreate()\n",
        "csv_file_path = \"/content/sample_data/AirlineFlightData.csv\"\n",
        "\n",
        "#Now you can read it with pyspark\n",
        "airline_data = spark.read.format(\"csv\").option(\"header\", \"true\").load(csv_file_path)\n",
        "airline_data.show()"
      ],
      "metadata": {
        "id": "Owj5eH_1VtvG",
        "colab": {
          "base_uri": "https://localhost:8080/"
        },
        "outputId": "c2dd3f6d-536f-4bc9-c3ad-fbec8c2652b2"
      },
      "execution_count": null,
      "outputs": [
        {
          "output_type": "stream",
          "name": "stdout",
          "text": [
            "+---------+---------+-------------+------+-----------+--------------+------------+---------+-----------------+----------+\n",
            "|flight_id|  airline|flight_number|origin|destination|departure_time|arrival_time|delay_min|distance_traveled|      date|\n",
            "+---------+---------+-------------+------+-----------+--------------+------------+---------+-----------------+----------+\n",
            "|        1|    Delta|        DL123|   JFK|        LAX|         08:00|       11:00|       30|             3970|2023-07-01|\n",
            "|        2|   United|        UA456|   SFO|        ORD|         09:30|       15:00|       45|             2960|2023-07-01|\n",
            "|        3|Southwest|        SW789|   DAL|        ATL|         06:00|       08:30|        0|             1150|2023-07-01|\n",
            "|        4|    Delta|        DL124|   LAX|        JFK|         12:00|       20:00|       20|             3970|2023-07-02|\n",
            "|        5| American|        AA101|   MIA|        DEN|         07:00|       10:00|       15|             2770|2023-07-02|\n",
            "|        6|   United|        UA457|   ORD|        SFO|         11:00|       14:30|        0|             2960|2023-07-02|\n",
            "|        7|  JetBlue|        JB302|   BOS|        LAX|         06:30|       09:45|       10|             4180|2023-07-03|\n",
            "|        8| American|        AA102|   DEN|        MIA|         11:00|       14:00|       25|             2770|2023-07-03|\n",
            "|        9|Southwest|        SW790|   ATL|        DAL|         09:00|       11:00|        5|             1150|2023-07-03|\n",
            "|       10|    Delta|        DL125|   JFK|        SEA|         13:00|       17:00|        0|             3900|2023-07-04|\n",
            "+---------+---------+-------------+------+-----------+--------------+------------+---------+-----------------+----------+\n",
            "\n"
          ]
        }
      ]
    },
    {
      "cell_type": "code",
      "source": [
        "# Find the Total Distance Traveled by Each Airline\n",
        "Total_Distance_traveled = airline_data.groupBy(\"airline\").agg({\"distance_traveled\": \"sum\"})\n",
        "Total_Distance_traveled.show()"
      ],
      "metadata": {
        "colab": {
          "base_uri": "https://localhost:8080/"
        },
        "id": "3YOb9KH7WqBY",
        "outputId": "38a5cd87-1fe4-4971-bbf3-c52bc4f31048"
      },
      "execution_count": null,
      "outputs": [
        {
          "output_type": "stream",
          "name": "stdout",
          "text": [
            "+---------+----------------------+\n",
            "|  airline|sum(distance_traveled)|\n",
            "+---------+----------------------+\n",
            "|    Delta|               11840.0|\n",
            "|   United|                5920.0|\n",
            "|  JetBlue|                4180.0|\n",
            "|Southwest|                2300.0|\n",
            "| American|                5540.0|\n",
            "+---------+----------------------+\n",
            "\n"
          ]
        }
      ]
    },
    {
      "cell_type": "code",
      "source": [
        "# Filter Flights with Delays Greater than 30 Minutes\n",
        "Flight_delay = airline_data.filter(\"delay_min > 30\")\n",
        "Flight_delay.show()\n"
      ],
      "metadata": {
        "colab": {
          "base_uri": "https://localhost:8080/"
        },
        "id": "XPVdGlJyW9Gu",
        "outputId": "a940073f-b9ef-4195-d871-0af984adf2b3"
      },
      "execution_count": null,
      "outputs": [
        {
          "output_type": "stream",
          "name": "stdout",
          "text": [
            "+---------+-------+-------------+------+-----------+--------------+------------+---------+-----------------+----------+\n",
            "|flight_id|airline|flight_number|origin|destination|departure_time|arrival_time|delay_min|distance_traveled|      date|\n",
            "+---------+-------+-------------+------+-----------+--------------+------------+---------+-----------------+----------+\n",
            "|        2| United|        UA456|   SFO|        ORD|         09:30|       15:00|       45|             2960|2023-07-01|\n",
            "+---------+-------+-------------+------+-----------+--------------+------------+---------+-----------------+----------+\n",
            "\n"
          ]
        }
      ]
    },
    {
      "cell_type": "code",
      "source": [
        " # Find the Flight with the Longest Distance\n",
        "Longest_Distance_flight = airline_data.orderBy(\"distance_traveled\", ascending=False)\n",
        "Longest_Distance_flight.show(1)\n"
      ],
      "metadata": {
        "colab": {
          "base_uri": "https://localhost:8080/"
        },
        "id": "1f2AwGCYX2yv",
        "outputId": "6559167b-12e0-454f-f580-8e48b29568aa"
      },
      "execution_count": null,
      "outputs": [
        {
          "output_type": "stream",
          "name": "stdout",
          "text": [
            "+---------+-------+-------------+------+-----------+--------------+------------+---------+-----------------+----------+\n",
            "|flight_id|airline|flight_number|origin|destination|departure_time|arrival_time|delay_min|distance_traveled|      date|\n",
            "+---------+-------+-------------+------+-----------+--------------+------------+---------+-----------------+----------+\n",
            "|        7|JetBlue|        JB302|   BOS|        LAX|         06:30|       09:45|       10|             4180|2023-07-03|\n",
            "+---------+-------+-------------+------+-----------+--------------+------------+---------+-----------------+----------+\n",
            "only showing top 1 row\n",
            "\n"
          ]
        }
      ]
    },
    {
      "cell_type": "code",
      "source": [
        "# Calculate the Average Delay Time for Each Airline\n",
        "Avg_Delay = airline_data.groupBy(\"airline\").agg({\"delay_min\": \"avg\"})\n",
        "Avg_Delay.show()\n"
      ],
      "metadata": {
        "colab": {
          "base_uri": "https://localhost:8080/"
        },
        "id": "GivrEi9eYNuq",
        "outputId": "a53c31ae-6fc8-42fc-f845-0068b3f80d07"
      },
      "execution_count": null,
      "outputs": [
        {
          "output_type": "stream",
          "name": "stdout",
          "text": [
            "+---------+------------------+\n",
            "|  airline|    avg(delay_min)|\n",
            "+---------+------------------+\n",
            "|    Delta|16.666666666666668|\n",
            "|   United|              22.5|\n",
            "|  JetBlue|              10.0|\n",
            "|Southwest|               2.5|\n",
            "| American|              20.0|\n",
            "+---------+------------------+\n",
            "\n"
          ]
        }
      ]
    },
    {
      "cell_type": "code",
      "source": [
        "# Identify Flights That Were Not Delayed\n",
        "airline_data.filter(\"delay_min == 0\").show()"
      ],
      "metadata": {
        "colab": {
          "base_uri": "https://localhost:8080/"
        },
        "id": "Nsl4vJolYcsD",
        "outputId": "c409d1e7-8634-455c-db0d-a93f2539190c"
      },
      "execution_count": null,
      "outputs": [
        {
          "output_type": "stream",
          "name": "stdout",
          "text": [
            "+---------+---------+-------------+------+-----------+--------------+------------+---------+-----------------+----------+\n",
            "|flight_id|  airline|flight_number|origin|destination|departure_time|arrival_time|delay_min|distance_traveled|      date|\n",
            "+---------+---------+-------------+------+-----------+--------------+------------+---------+-----------------+----------+\n",
            "|        3|Southwest|        SW789|   DAL|        ATL|         06:00|       08:30|        0|             1150|2023-07-01|\n",
            "|        6|   United|        UA457|   ORD|        SFO|         11:00|       14:30|        0|             2960|2023-07-02|\n",
            "|       10|    Delta|        DL125|   JFK|        SEA|         13:00|       17:00|        0|             3900|2023-07-04|\n",
            "+---------+---------+-------------+------+-----------+--------------+------------+---------+-----------------+----------+\n",
            "\n"
          ]
        }
      ]
    },
    {
      "cell_type": "code",
      "source": [
        "# Find the Top 3 Most Frequent Routes\n",
        "Frequent_Routes = airline_data.groupBy(\"origin\", \"destination\").count().orderBy(\"count\", ascending=False)\n",
        "Frequent_Routes.show(3)\n"
      ],
      "metadata": {
        "colab": {
          "base_uri": "https://localhost:8080/"
        },
        "id": "iPQ5z1BdYnZg",
        "outputId": "284dfe71-218c-48fd-a7af-f2bfdbc71eef"
      },
      "execution_count": null,
      "outputs": [
        {
          "output_type": "stream",
          "name": "stdout",
          "text": [
            "+------+-----------+-----+\n",
            "|origin|destination|count|\n",
            "+------+-----------+-----+\n",
            "|   SFO|        ORD|    1|\n",
            "|   LAX|        JFK|    1|\n",
            "|   DEN|        MIA|    1|\n",
            "+------+-----------+-----+\n",
            "only showing top 3 rows\n",
            "\n"
          ]
        }
      ]
    },
    {
      "cell_type": "code",
      "source": [
        "# Calculate the Total Number of Flights per Day\n",
        "Total_flights_perday = airline_data.groupBy(\"date\").count()\n",
        "Total_flights_perday.show()\n"
      ],
      "metadata": {
        "colab": {
          "base_uri": "https://localhost:8080/"
        },
        "id": "bNAbXMsDY2p9",
        "outputId": "6b2cb84d-1d26-4b57-ac3c-bbeb2a0a8850"
      },
      "execution_count": null,
      "outputs": [
        {
          "output_type": "stream",
          "name": "stdout",
          "text": [
            "+----------+-----+\n",
            "|      date|count|\n",
            "+----------+-----+\n",
            "|2023-07-04|    1|\n",
            "|2023-07-03|    3|\n",
            "|2023-07-02|    3|\n",
            "|2023-07-01|    3|\n",
            "+----------+-----+\n",
            "\n"
          ]
        }
      ]
    },
    {
      "cell_type": "code",
      "source": [
        "# Find the Airline with the Most Flights\n",
        "Airline_with_most_Flights = airline_data.groupBy(\"airline\").count().orderBy(\"count\", ascending=False)\n",
        "Airline_with_most_Flights .show(1)\n"
      ],
      "metadata": {
        "colab": {
          "base_uri": "https://localhost:8080/"
        },
        "id": "88imzhJlZHww",
        "outputId": "b7fdfbda-50e5-40b5-e441-862caa488434"
      },
      "execution_count": null,
      "outputs": [
        {
          "output_type": "stream",
          "name": "stdout",
          "text": [
            "+-------+-----+\n",
            "|airline|count|\n",
            "+-------+-----+\n",
            "|  Delta|    3|\n",
            "+-------+-----+\n",
            "only showing top 1 row\n",
            "\n"
          ]
        }
      ]
    },
    {
      "cell_type": "code",
      "source": [
        "# Calculate the Average Flight Distance per Day\n",
        "airline_data.groupBy(\"date\").agg({\"distance_traveled\": \"avg\"}).show()\n"
      ],
      "metadata": {
        "colab": {
          "base_uri": "https://localhost:8080/"
        },
        "id": "Xi3T5I9BaAgw",
        "outputId": "c68ca9e1-e1e7-40f0-ec3d-80515fad41ea"
      },
      "execution_count": null,
      "outputs": [
        {
          "output_type": "stream",
          "name": "stdout",
          "text": [
            "+----------+----------------------+\n",
            "|      date|avg(distance_traveled)|\n",
            "+----------+----------------------+\n",
            "|2023-07-04|                3900.0|\n",
            "|2023-07-03|                2700.0|\n",
            "|2023-07-02|    3233.3333333333335|\n",
            "|2023-07-01|    2693.3333333333335|\n",
            "+----------+----------------------+\n",
            "\n"
          ]
        }
      ]
    },
    {
      "cell_type": "code",
      "source": [
        "# Create a New Column for On-Time Status\n",
        "from pyspark.sql.functions import when\n",
        "\n",
        "airline_data = airline_data.withColumn(\"on_time\", when(airline_data.delay_min == 0, True).otherwise(False))\n",
        "airline_data.show()\n"
      ],
      "metadata": {
        "colab": {
          "base_uri": "https://localhost:8080/"
        },
        "id": "r4dPcul3aTpf",
        "outputId": "70ffdd76-92fd-4c75-b203-f162ed8bebbd"
      },
      "execution_count": null,
      "outputs": [
        {
          "output_type": "stream",
          "name": "stdout",
          "text": [
            "+---------+---------+-------------+------+-----------+--------------+------------+---------+-----------------+----------+-------+\n",
            "|flight_id|  airline|flight_number|origin|destination|departure_time|arrival_time|delay_min|distance_traveled|      date|on_time|\n",
            "+---------+---------+-------------+------+-----------+--------------+------------+---------+-----------------+----------+-------+\n",
            "|        1|    Delta|        DL123|   JFK|        LAX|         08:00|       11:00|       30|             3970|2023-07-01|  false|\n",
            "|        2|   United|        UA456|   SFO|        ORD|         09:30|       15:00|       45|             2960|2023-07-01|  false|\n",
            "|        3|Southwest|        SW789|   DAL|        ATL|         06:00|       08:30|        0|             1150|2023-07-01|   true|\n",
            "|        4|    Delta|        DL124|   LAX|        JFK|         12:00|       20:00|       20|             3970|2023-07-02|  false|\n",
            "|        5| American|        AA101|   MIA|        DEN|         07:00|       10:00|       15|             2770|2023-07-02|  false|\n",
            "|        6|   United|        UA457|   ORD|        SFO|         11:00|       14:30|        0|             2960|2023-07-02|   true|\n",
            "|        7|  JetBlue|        JB302|   BOS|        LAX|         06:30|       09:45|       10|             4180|2023-07-03|  false|\n",
            "|        8| American|        AA102|   DEN|        MIA|         11:00|       14:00|       25|             2770|2023-07-03|  false|\n",
            "|        9|Southwest|        SW790|   ATL|        DAL|         09:00|       11:00|        5|             1150|2023-07-03|  false|\n",
            "|       10|    Delta|        DL125|   JFK|        SEA|         13:00|       17:00|        0|             3900|2023-07-04|   true|\n",
            "+---------+---------+-------------+------+-----------+--------------+------------+---------+-----------------+----------+-------+\n",
            "\n"
          ]
        }
      ]
    }
  ]
}