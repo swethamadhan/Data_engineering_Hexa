{
  "nbformat": 4,
  "nbformat_minor": 0,
  "metadata": {
    "colab": {
      "provenance": []
    },
    "kernelspec": {
      "name": "python3",
      "display_name": "Python 3"
    },
    "language_info": {
      "name": "python"
    }
  },
  "cells": [
    {
      "cell_type": "markdown",
      "source": [
        "**Dataset Preparation**"
      ],
      "metadata": {
        "id": "T9PPg7rrrH0C"
      }
    },
    {
      "cell_type": "code",
      "execution_count": 1,
      "metadata": {
        "colab": {
          "base_uri": "https://localhost:8080/"
        },
        "id": "AC5OmPeunMtb",
        "outputId": "d0b7d2ef-b054-4647-87c9-0a7b7022228f"
      },
      "outputs": [
        {
          "output_type": "stream",
          "name": "stdout",
          "text": [
            "Sample sales dataset has been created and saved as 'sales_data.csv'.\n"
          ]
        }
      ],
      "source": [
        "import pandas as pd\n",
        "from datetime import datetime\n",
        "\n",
        "# Sample sales data\n",
        "data = {\n",
        "    \"TransactionID\": [1, 2, 3, 4, 5, 6, 7, 8, 9, 10],\n",
        "    \"CustomerID\": [101, 102, 103, 101, 104, 102, 103, 104, 101, 105],\n",
        "    \"ProductID\": [501, 502, 501, 503, 504, 502, 503, 504, 501, 505],\n",
        "    \"Quantity\": [2, 1, 4, 3, 1, 2, 5, 1, 2, 1],\n",
        "    \"Price\": [150.0, 250.0, 150.0, 300.0, 450.0, 250.0, 300.0, 450.0, 150.0, 550.0],\n",
        "    \"Date\": [\n",
        "        datetime(2024, 9, 1),\n",
        "        datetime(2024, 9, 1),\n",
        "        datetime(2024, 9, 2),\n",
        "        datetime(2024, 9, 2),\n",
        "        datetime(2024, 9, 3),\n",
        "        datetime(2024, 9, 3),\n",
        "        datetime(2024, 9, 4),\n",
        "        datetime(2024, 9, 4),\n",
        "        datetime(2024, 9, 5),\n",
        "        datetime(2024, 9, 5)\n",
        "    ]\n",
        "}\n",
        "\n",
        "# Create a DataFrame\n",
        "df = pd.DataFrame(data)\n",
        "\n",
        "# Save the DataFrame to a CSV file\n",
        "df.to_csv('sales_data.csv', index=False)\n",
        "\n",
        "print(\"Sample sales dataset has been created and saved as 'sales_data.csv'.\")\n"
      ]
    },
    {
      "cell_type": "code",
      "source": [
        "!pip install pyspark"
      ],
      "metadata": {
        "colab": {
          "base_uri": "https://localhost:8080/"
        },
        "id": "AP1bXLlzoKlV",
        "outputId": "81cbe274-773d-4714-e8d4-60587178b3cf"
      },
      "execution_count": 3,
      "outputs": [
        {
          "output_type": "stream",
          "name": "stdout",
          "text": [
            "Collecting pyspark\n",
            "  Downloading pyspark-3.5.2.tar.gz (317.3 MB)\n",
            "\u001b[2K     \u001b[90m━━━━━━━━━━━━━━━━━━━━━━━━━━━━━━━━━━━━━━━━\u001b[0m \u001b[32m317.3/317.3 MB\u001b[0m \u001b[31m5.1 MB/s\u001b[0m eta \u001b[36m0:00:00\u001b[0m\n",
            "\u001b[?25h  Preparing metadata (setup.py) ... \u001b[?25l\u001b[?25hdone\n",
            "Requirement already satisfied: py4j==0.10.9.7 in /usr/local/lib/python3.10/dist-packages (from pyspark) (0.10.9.7)\n",
            "Building wheels for collected packages: pyspark\n",
            "  Building wheel for pyspark (setup.py) ... \u001b[?25l\u001b[?25hdone\n",
            "  Created wheel for pyspark: filename=pyspark-3.5.2-py2.py3-none-any.whl size=317812365 sha256=f57e00357d3ac1e5bdb4ffc125e90983417b08155ecfca2b8c807f87164cc5e2\n",
            "  Stored in directory: /root/.cache/pip/wheels/34/34/bd/03944534c44b677cd5859f248090daa9fb27b3c8f8e5f49574\n",
            "Successfully built pyspark\n",
            "Installing collected packages: pyspark\n",
            "Successfully installed pyspark-3.5.2\n"
          ]
        }
      ]
    },
    {
      "cell_type": "markdown",
      "source": [
        "**Load the Dataset into PySpark**"
      ],
      "metadata": {
        "id": "vuz42v3trQq5"
      }
    },
    {
      "cell_type": "code",
      "source": [
        "\n",
        "from pyspark.sql import SparkSession\n",
        "from pyspark.sql.functions import col, sum as pyspark_sum\n",
        "\n",
        "# Initialize the SparkSession\n",
        "spark = SparkSession.builder \\\n",
        "    .appName(\"Sales Dataset Analysis\") \\\n",
        "    .getOrCreate()\n",
        "\n",
        "# Load the CSV file into a DataFrame\n",
        "df = spark.read.csv('sales_data.csv', header=True, inferSchema=True)\n",
        "\n",
        "# Display the first few rows\n",
        "df.show()\n"
      ],
      "metadata": {
        "colab": {
          "base_uri": "https://localhost:8080/"
        },
        "id": "hl90o3XCoGGy",
        "outputId": "57b21689-3547-48df-93e1-e26b87a7f203"
      },
      "execution_count": 4,
      "outputs": [
        {
          "output_type": "stream",
          "name": "stdout",
          "text": [
            "+-------------+----------+---------+--------+-----+----------+\n",
            "|TransactionID|CustomerID|ProductID|Quantity|Price|      Date|\n",
            "+-------------+----------+---------+--------+-----+----------+\n",
            "|            1|       101|      501|       2|150.0|2024-09-01|\n",
            "|            2|       102|      502|       1|250.0|2024-09-01|\n",
            "|            3|       103|      501|       4|150.0|2024-09-02|\n",
            "|            4|       101|      503|       3|300.0|2024-09-02|\n",
            "|            5|       104|      504|       1|450.0|2024-09-03|\n",
            "|            6|       102|      502|       2|250.0|2024-09-03|\n",
            "|            7|       103|      503|       5|300.0|2024-09-04|\n",
            "|            8|       104|      504|       1|450.0|2024-09-04|\n",
            "|            9|       101|      501|       2|150.0|2024-09-05|\n",
            "|           10|       105|      505|       1|550.0|2024-09-05|\n",
            "+-------------+----------+---------+--------+-----+----------+\n",
            "\n"
          ]
        }
      ]
    },
    {
      "cell_type": "markdown",
      "source": [
        "**Explore the Data**\n"
      ],
      "metadata": {
        "id": "mYdgT3Bmra4A"
      }
    },
    {
      "cell_type": "code",
      "source": [
        "#Print the Schema:\n",
        "df.printSchema()\n",
        "\n",
        "#Show the First Few Rows:\n",
        "df.show(5)\n",
        "\n",
        "#Get Summary Statistics:\n",
        "df.describe([\"Quantity\", \"Price\"]).show()\n"
      ],
      "metadata": {
        "colab": {
          "base_uri": "https://localhost:8080/"
        },
        "id": "QX4-PrcKolWR",
        "outputId": "26cf392f-aa41-4981-a6c1-ce7fe1d499f3"
      },
      "execution_count": 6,
      "outputs": [
        {
          "output_type": "stream",
          "name": "stdout",
          "text": [
            "root\n",
            " |-- TransactionID: integer (nullable = true)\n",
            " |-- CustomerID: integer (nullable = true)\n",
            " |-- ProductID: integer (nullable = true)\n",
            " |-- Quantity: integer (nullable = true)\n",
            " |-- Price: double (nullable = true)\n",
            " |-- Date: date (nullable = true)\n",
            "\n",
            "+-------------+----------+---------+--------+-----+----------+\n",
            "|TransactionID|CustomerID|ProductID|Quantity|Price|      Date|\n",
            "+-------------+----------+---------+--------+-----+----------+\n",
            "|            1|       101|      501|       2|150.0|2024-09-01|\n",
            "|            2|       102|      502|       1|250.0|2024-09-01|\n",
            "|            3|       103|      501|       4|150.0|2024-09-02|\n",
            "|            4|       101|      503|       3|300.0|2024-09-02|\n",
            "|            5|       104|      504|       1|450.0|2024-09-03|\n",
            "+-------------+----------+---------+--------+-----+----------+\n",
            "only showing top 5 rows\n",
            "\n",
            "+-------+-----------------+-----------------+\n",
            "|summary|         Quantity|            Price|\n",
            "+-------+-----------------+-----------------+\n",
            "|  count|               10|               10|\n",
            "|   mean|              2.2|            300.0|\n",
            "| stddev|1.398411797560202|141.4213562373095|\n",
            "|    min|                1|            150.0|\n",
            "|    max|                5|            550.0|\n",
            "+-------+-----------------+-----------------+\n",
            "\n"
          ]
        }
      ]
    },
    {
      "cell_type": "markdown",
      "source": [
        "**Perform Data Transformations and Analysis**"
      ],
      "metadata": {
        "id": "OqP9YCdbrjta"
      }
    },
    {
      "cell_type": "code",
      "source": [
        "# 1.Calculate the Total Sales Value for Each Transaction\n",
        "df = df.withColumn(\"TotalSales\", col(\"Quantity\") * col(\"Price\"))\n",
        "df.show()\n"
      ],
      "metadata": {
        "colab": {
          "base_uri": "https://localhost:8080/"
        },
        "id": "dBTV-0nsp7Oo",
        "outputId": "616732a7-7705-4b35-daf7-bbc1d4e497d6"
      },
      "execution_count": 7,
      "outputs": [
        {
          "output_type": "stream",
          "name": "stdout",
          "text": [
            "+-------------+----------+---------+--------+-----+----------+----------+\n",
            "|TransactionID|CustomerID|ProductID|Quantity|Price|      Date|TotalSales|\n",
            "+-------------+----------+---------+--------+-----+----------+----------+\n",
            "|            1|       101|      501|       2|150.0|2024-09-01|     300.0|\n",
            "|            2|       102|      502|       1|250.0|2024-09-01|     250.0|\n",
            "|            3|       103|      501|       4|150.0|2024-09-02|     600.0|\n",
            "|            4|       101|      503|       3|300.0|2024-09-02|     900.0|\n",
            "|            5|       104|      504|       1|450.0|2024-09-03|     450.0|\n",
            "|            6|       102|      502|       2|250.0|2024-09-03|     500.0|\n",
            "|            7|       103|      503|       5|300.0|2024-09-04|    1500.0|\n",
            "|            8|       104|      504|       1|450.0|2024-09-04|     450.0|\n",
            "|            9|       101|      501|       2|150.0|2024-09-05|     300.0|\n",
            "|           10|       105|      505|       1|550.0|2024-09-05|     550.0|\n",
            "+-------------+----------+---------+--------+-----+----------+----------+\n",
            "\n"
          ]
        }
      ]
    },
    {
      "cell_type": "code",
      "source": [
        "#2.Group By ProductID and Calculate Total Sales Per Product:\n",
        "\n",
        "sales_per_product = df.groupBy(\"ProductID\").agg(pyspark_sum(\"TotalSales\").alias(\"TotalSales\"))\n",
        "sales_per_product.show()\n"
      ],
      "metadata": {
        "colab": {
          "base_uri": "https://localhost:8080/"
        },
        "id": "_z5VUUzWqLeM",
        "outputId": "b58f3179-cff9-419d-c4f6-6e5695e0bce0"
      },
      "execution_count": 8,
      "outputs": [
        {
          "output_type": "stream",
          "name": "stdout",
          "text": [
            "+---------+----------+\n",
            "|ProductID|TotalSales|\n",
            "+---------+----------+\n",
            "|      501|    1200.0|\n",
            "|      504|     900.0|\n",
            "|      502|     750.0|\n",
            "|      505|     550.0|\n",
            "|      503|    2400.0|\n",
            "+---------+----------+\n",
            "\n"
          ]
        }
      ]
    },
    {
      "cell_type": "code",
      "source": [
        "#3. Identify the Top-Selling Product:\n",
        "\n",
        "top_selling_product = sales_per_product.orderBy(col(\"TotalSales\").desc()).first()\n",
        "print(\"Top-Selling Product ID:\", top_selling_product[\"ProductID\"])\n",
        "print(\"Total Sales for Top-Selling Product:\", top_selling_product[\"TotalSales\"])\n"
      ],
      "metadata": {
        "colab": {
          "base_uri": "https://localhost:8080/"
        },
        "id": "SzQo675uqRTd",
        "outputId": "b6c4d3e2-80c7-42a7-aba5-8d4b02eac3db"
      },
      "execution_count": 9,
      "outputs": [
        {
          "output_type": "stream",
          "name": "stdout",
          "text": [
            "Top-Selling Product ID: 503\n",
            "Total Sales for Top-Selling Product: 2400.0\n"
          ]
        }
      ]
    },
    {
      "cell_type": "code",
      "source": [
        "#4. Calculate the Total Sales by Date:\n",
        "\n",
        "sales_by_date = df.groupBy(\"Date\").agg(pyspark_sum(\"TotalSales\").alias(\"TotalSales\"))\n",
        "sales_by_date.show()\n"
      ],
      "metadata": {
        "colab": {
          "base_uri": "https://localhost:8080/"
        },
        "id": "5CWirxD8qWSA",
        "outputId": "8ae23e6b-22db-41fd-b955-fc95beff70d1"
      },
      "execution_count": 10,
      "outputs": [
        {
          "output_type": "stream",
          "name": "stdout",
          "text": [
            "+----------+----------+\n",
            "|      Date|TotalSales|\n",
            "+----------+----------+\n",
            "|2024-09-03|     950.0|\n",
            "|2024-09-01|     550.0|\n",
            "|2024-09-02|    1500.0|\n",
            "|2024-09-05|     850.0|\n",
            "|2024-09-04|    1950.0|\n",
            "+----------+----------+\n",
            "\n"
          ]
        }
      ]
    },
    {
      "cell_type": "code",
      "source": [
        "#5. Filter High-Value Transactions:\n",
        "\n",
        "high_value_transactions = df.filter(col(\"TotalSales\") > 500)\n",
        "high_value_transactions.show()\n"
      ],
      "metadata": {
        "colab": {
          "base_uri": "https://localhost:8080/"
        },
        "id": "1_8jlr7Yqb8f",
        "outputId": "a3e97774-84d5-4022-d74e-fbb88e414483"
      },
      "execution_count": 11,
      "outputs": [
        {
          "output_type": "stream",
          "name": "stdout",
          "text": [
            "+-------------+----------+---------+--------+-----+----------+----------+\n",
            "|TransactionID|CustomerID|ProductID|Quantity|Price|      Date|TotalSales|\n",
            "+-------------+----------+---------+--------+-----+----------+----------+\n",
            "|            3|       103|      501|       4|150.0|2024-09-02|     600.0|\n",
            "|            4|       101|      503|       3|300.0|2024-09-02|     900.0|\n",
            "|            7|       103|      503|       5|300.0|2024-09-04|    1500.0|\n",
            "|           10|       105|      505|       1|550.0|2024-09-05|     550.0|\n",
            "+-------------+----------+---------+--------+-----+----------+----------+\n",
            "\n"
          ]
        }
      ]
    },
    {
      "cell_type": "markdown",
      "source": [
        "**Additional challenge**"
      ],
      "metadata": {
        "id": "QpPheDeZqkyW"
      }
    },
    {
      "cell_type": "code",
      "source": [
        "#1.Identify repeat customers\n",
        "\n",
        "repeat_customers = df.groupBy(\"CustomerID\").count().filter(col(\"count\") > 1)\n",
        "repeat_customers.show()\n"
      ],
      "metadata": {
        "colab": {
          "base_uri": "https://localhost:8080/"
        },
        "id": "mSwYFSa2qh_D",
        "outputId": "437127c8-69df-4460-f2a9-20887de0bf80"
      },
      "execution_count": 12,
      "outputs": [
        {
          "output_type": "stream",
          "name": "stdout",
          "text": [
            "+----------+-----+\n",
            "|CustomerID|count|\n",
            "+----------+-----+\n",
            "|       101|    3|\n",
            "|       103|    2|\n",
            "|       102|    2|\n",
            "|       104|    2|\n",
            "+----------+-----+\n",
            "\n"
          ]
        }
      ]
    },
    {
      "cell_type": "code",
      "source": [
        "#2.Calculate the Average Sale Price Per Product:\n",
        "\n",
        "average_price_per_product = df.groupBy(\"ProductID\").agg(\n",
        "    (pyspark_sum(\"Price\") / pyspark_sum(\"Quantity\")).alias(\"AveragePricePerUnit\")\n",
        ")\n",
        "average_price_per_product.show()\n"
      ],
      "metadata": {
        "colab": {
          "base_uri": "https://localhost:8080/"
        },
        "id": "TVjl_BmsqyUm",
        "outputId": "d9104ddc-ce2f-4cca-b277-2b15882a28f1"
      },
      "execution_count": 14,
      "outputs": [
        {
          "output_type": "stream",
          "name": "stdout",
          "text": [
            "+---------+-------------------+\n",
            "|ProductID|AveragePricePerUnit|\n",
            "+---------+-------------------+\n",
            "|      501|              56.25|\n",
            "|      504|              450.0|\n",
            "|      502| 166.66666666666666|\n",
            "|      505|              550.0|\n",
            "|      503|               75.0|\n",
            "+---------+-------------------+\n",
            "\n"
          ]
        }
      ]
    }
  ]
}