{
  "nbformat": 4,
  "nbformat_minor": 0,
  "metadata": {
    "colab": {
      "provenance": []
    },
    "kernelspec": {
      "name": "python3",
      "display_name": "Python 3"
    },
    "language_info": {
      "name": "python"
    }
  },
  "cells": [
    {
      "cell_type": "code",
      "execution_count": 1,
      "metadata": {
        "colab": {
          "base_uri": "https://localhost:8080/"
        },
        "id": "-4h5sqtgJCze",
        "outputId": "7f4c6913-8b3f-40c0-a5b2-77637ed64f54"
      },
      "outputs": [
        {
          "output_type": "stream",
          "name": "stdout",
          "text": [
            "Collecting pyspark\n",
            "  Downloading pyspark-3.5.2.tar.gz (317.3 MB)\n",
            "\u001b[2K     \u001b[90m━━━━━━━━━━━━━━━━━━━━━━━━━━━━━━━━━━━━━━━━\u001b[0m \u001b[32m317.3/317.3 MB\u001b[0m \u001b[31m3.3 MB/s\u001b[0m eta \u001b[36m0:00:00\u001b[0m\n",
            "\u001b[?25h  Preparing metadata (setup.py) ... \u001b[?25l\u001b[?25hdone\n",
            "Requirement already satisfied: py4j==0.10.9.7 in /usr/local/lib/python3.10/dist-packages (from pyspark) (0.10.9.7)\n",
            "Building wheels for collected packages: pyspark\n",
            "  Building wheel for pyspark (setup.py) ... \u001b[?25l\u001b[?25hdone\n",
            "  Created wheel for pyspark: filename=pyspark-3.5.2-py2.py3-none-any.whl size=317812365 sha256=91987410ab516eb43718fe11aed7d60a14d06800e37bbd3a07c28e57505441c7\n",
            "  Stored in directory: /root/.cache/pip/wheels/34/34/bd/03944534c44b677cd5859f248090daa9fb27b3c8f8e5f49574\n",
            "Successfully built pyspark\n",
            "Installing collected packages: pyspark\n",
            "Successfully installed pyspark-3.5.2\n"
          ]
        }
      ],
      "source": [
        "!pip install pyspark"
      ]
    },
    {
      "cell_type": "markdown",
      "source": [
        "# E-commerce Transactions\n"
      ],
      "metadata": {
        "id": "4IePaA7IJY_O"
      }
    },
    {
      "cell_type": "code",
      "source": [
        "import pyspark\n",
        "from pyspark.sql import SparkSession\n",
        "\n",
        "# Create a SparkSession\n",
        "spark = SparkSession.builder.appName(\"E-commerce Analysis\").getOrCreate()"
      ],
      "metadata": {
        "id": "03QyvcqULcrD"
      },
      "execution_count": 14,
      "outputs": []
    },
    {
      "cell_type": "code",
      "source": [
        "# Load the data into a DataFrame\n",
        "df = spark.read.csv(\"ecommerce_data.csv\", header=True, inferSchema=True)"
      ],
      "metadata": {
        "id": "qs7qhdEWLmje"
      },
      "execution_count": 15,
      "outputs": []
    },
    {
      "cell_type": "markdown",
      "source": [
        "**1. Calculate the Total Revenue per Category**"
      ],
      "metadata": {
        "id": "QE6dLdxVMIxl"
      }
    },
    {
      "cell_type": "code",
      "source": [
        "from pyspark.sql.functions import col, sum, when\n",
        "\n",
        "# Calculate the actual revenue considering discount\n",
        "df = df.withColumn(\"actual_revenue\", (col(\"price\") * col(\"quantity\")) * (1 - (col(\"discount_percentage\") / 100)))\n",
        "\n",
        "# Group by category and sum the actual revenue\n",
        "total_revenue_by_category = df.groupBy(\"category\").agg(sum(\"actual_revenue\").alias(\"total_revenue\"))\n",
        "\n",
        "total_revenue_by_category.show()"
      ],
      "metadata": {
        "id": "TqnYoSmeMDkn"
      },
      "execution_count": null,
      "outputs": []
    },
    {
      "cell_type": "markdown",
      "source": [
        "**2. Filter Transactions with a Discount Greater Than 10%**"
      ],
      "metadata": {
        "id": "DppQQ9_jMMzZ"
      }
    },
    {
      "cell_type": "code",
      "source": [
        "from pyspark.sql.functions import col, sum, when # Make sure to import the col function from pyspark.sql.functions\n",
        "\n",
        "filtered_df = df.filter(col(\"discount_percentage\") > 10)\n",
        "filtered_df.show()"
      ],
      "metadata": {
        "colab": {
          "base_uri": "https://localhost:8080/"
        },
        "id": "V8SepXOsMR0m",
        "outputId": "ecfaab5b-2b15-4881-98bd-c2635abf5cd7"
      },
      "execution_count": 17,
      "outputs": [
        {
          "output_type": "stream",
          "name": "stdout",
          "text": [
            "+--------------+-----------+------------+--------------+-----+--------+-------------------+-------------------+\n",
            "|transaction_id|customer_id|     product|      category|price|quantity|discount_percentage|         transacti |\n",
            "+--------------+-----------+------------+--------------+-----+--------+-------------------+-------------------+\n",
            "|             4|        104|     Blender|Home Appliance|  150|       1|                 15|2023-08-03 00:00:00|\n",
            "|             6|        105|       Shoes|       Fashion|   60|       1|                 20|2023-08-04 00:00:00|\n",
            "|             7|        106|Refrigerator|Home Appliance|  800|       1|                 25|2023-08-05 00:00:00|\n",
            "+--------------+-----------+------------+--------------+-----+--------+-------------------+-------------------+\n",
            "\n"
          ]
        }
      ]
    },
    {
      "cell_type": "markdown",
      "source": [
        "**3. Find the Most Expensive Product Sold**"
      ],
      "metadata": {
        "id": "S54YV_lsMi38"
      }
    },
    {
      "cell_type": "code",
      "source": [
        "most_expensive_product = df.orderBy(col(\"price\").desc()).select(\"product\", \"price\").first()\n",
        "print(\"Most expensive product:\", most_expensive_product)"
      ],
      "metadata": {
        "colab": {
          "base_uri": "https://localhost:8080/"
        },
        "id": "6derIWwQMT3k",
        "outputId": "1225ce47-528d-4ea3-ea62-e44a5a599a00"
      },
      "execution_count": 18,
      "outputs": [
        {
          "output_type": "stream",
          "name": "stdout",
          "text": [
            "Most expensive product: Row(product='Laptop', price=1000)\n"
          ]
        }
      ]
    },
    {
      "cell_type": "markdown",
      "source": [
        "**4. Calculate the Average Quantity of Products Sold per Category**"
      ],
      "metadata": {
        "id": "IPQFEjnPMmEm"
      }
    },
    {
      "cell_type": "code",
      "source": [
        "from pyspark.sql.functions import col, sum, when, avg # Import the avg function\n",
        "\n",
        "average_quantity_by_category = df.groupBy(\"category\").agg(avg(\"quantity\").alias(\"average_quantity\"))\n",
        "average_quantity_by_category.show()"
      ],
      "metadata": {
        "colab": {
          "base_uri": "https://localhost:8080/"
        },
        "id": "7Zrju-N3Mhao",
        "outputId": "c9fb1a26-30e2-4856-e11d-0c4630f03286"
      },
      "execution_count": 20,
      "outputs": [
        {
          "output_type": "stream",
          "name": "stdout",
          "text": [
            "+--------------+----------------+\n",
            "|      category|average_quantity|\n",
            "+--------------+----------------+\n",
            "|       Fashion|             2.0|\n",
            "|   Electronics|            1.75|\n",
            "|         Books|             4.0|\n",
            "|Home Appliance|             1.0|\n",
            "+--------------+----------------+\n",
            "\n"
          ]
        }
      ]
    },
    {
      "cell_type": "markdown",
      "source": [
        "**5. Identify Customers Who Purchased More Than One Product**"
      ],
      "metadata": {
        "id": "adBOdlT4M768"
      }
    },
    {
      "cell_type": "code",
      "source": [
        "from pyspark.sql.functions import col, sum, when, avg, count # Import the count function\n",
        "\n",
        "\n",
        "customers_with_multiple_products = df.groupBy(\"customer_id\").agg(count(\"product\").alias(\"product_count\")).filter(col(\"product_count\") > 1)\n",
        "customers_with_multiple_products.show()"
      ],
      "metadata": {
        "colab": {
          "base_uri": "https://localhost:8080/"
        },
        "id": "Xw0dcOeaM0Md",
        "outputId": "eec50348-d005-480a-add2-333cc1afbe18"
      },
      "execution_count": 22,
      "outputs": [
        {
          "output_type": "stream",
          "name": "stdout",
          "text": [
            "+-----------+-------------+\n",
            "|customer_id|product_count|\n",
            "+-----------+-------------+\n",
            "|        101|            2|\n",
            "|        102|            2|\n",
            "+-----------+-------------+\n",
            "\n"
          ]
        }
      ]
    },
    {
      "cell_type": "markdown",
      "source": [
        "**6. Find the Top 3 Highest Revenue Transactions**"
      ],
      "metadata": {
        "id": "zfINQ2UPNPDg"
      }
    },
    {
      "cell_type": "code",
      "source": [
        "from pyspark.sql.functions import col, sum, when, avg, count\n",
        "\n",
        "# Calculate revenue\n",
        "df = df.withColumn(\"revenue\", col(\"price\") * col(\"quantity\") * (1 - col(\"discount_percentage\")))\n",
        "\n",
        "# Order by revenue and get the top 3 transactions\n",
        "top_revenue_transactions = df.orderBy(col(\"revenue\").desc()).limit(3)\n",
        "top_revenue_transactions.show()"
      ],
      "metadata": {
        "colab": {
          "base_uri": "https://localhost:8080/"
        },
        "id": "xzIH_wFqNEO-",
        "outputId": "f1f45d00-69b7-4cc5-bc69-1b617b1818c1"
      },
      "execution_count": 24,
      "outputs": [
        {
          "output_type": "stream",
          "name": "stdout",
          "text": [
            "+--------------+-----------+-------+--------------+-----+--------+-------------------+-------------------+-------+\n",
            "|transaction_id|customer_id|product|      category|price|quantity|discount_percentage|         transacti |revenue|\n",
            "+--------------+-----------+-------+--------------+-----+--------+-------------------+-------------------+-------+\n",
            "|             3|        103|  Shirt|       Fashion|   40|       3|                  0|2023-08-02 00:00:00|    120|\n",
            "|             8|        107|   Book|         Books|   20|       4|                  0|2023-08-05 00:00:00|     80|\n",
            "|             9|        108|Toaster|Home Appliance|   30|       1|                  5|2023-08-06 00:00:00|   -120|\n",
            "+--------------+-----------+-------+--------------+-----+--------+-------------------+-------------------+-------+\n",
            "\n"
          ]
        }
      ]
    },
    {
      "cell_type": "markdown",
      "source": [
        "**7. Calculate the Total Number of Transactions per Day**"
      ],
      "metadata": {
        "id": "tlH_HbgEOqPZ"
      }
    },
    {
      "cell_type": "code",
      "source": [
        "from pyspark.sql.functions import col, sum, when, avg, count\n",
        "\n",
        "# Calculate transactions per day from the Spark DataFrame 'df'\n",
        "transactions_per_day = df.groupBy(\"transaction_id\").agg(count(\"*\").alias(\"transaction_count\"))\n",
        "\n",
        "# Show the result\n",
        "transactions_per_day.show()"
      ],
      "metadata": {
        "colab": {
          "base_uri": "https://localhost:8080/"
        },
        "id": "zzYsUEjsNUkj",
        "outputId": "8f47ec0a-fc5f-4ae3-fe61-aadd75da0788"
      },
      "execution_count": 26,
      "outputs": [
        {
          "output_type": "stream",
          "name": "stdout",
          "text": [
            "+--------------+-----------------+\n",
            "|transaction_id|transaction_count|\n",
            "+--------------+-----------------+\n",
            "|             1|                1|\n",
            "|             6|                1|\n",
            "|             3|                1|\n",
            "|             5|                1|\n",
            "|             9|                1|\n",
            "|             4|                1|\n",
            "|             8|                1|\n",
            "|             7|                1|\n",
            "|            10|                1|\n",
            "|             2|                1|\n",
            "+--------------+-----------------+\n",
            "\n"
          ]
        }
      ]
    },
    {
      "cell_type": "markdown",
      "source": [
        "**8. Find the Customer Who Spent the Most Money**"
      ],
      "metadata": {
        "id": "EFwvXW2RPFkO"
      }
    },
    {
      "cell_type": "code",
      "source": [
        "customer_spending = df.groupBy(\"customer_id\").agg(sum(\"revenue\").alias(\"total_spent\")) # Replace 'actual_revenue' with 'revenue'\n",
        "top_spender = customer_spending.orderBy(col(\"total_spent\").desc()).first()\n",
        "print(\"Top spender:\", top_spender)"
      ],
      "metadata": {
        "colab": {
          "base_uri": "https://localhost:8080/"
        },
        "id": "O5DFd5_yO6Ec",
        "outputId": "a4d41317-c69f-40a6-907b-04abd2d2f727"
      },
      "execution_count": 28,
      "outputs": [
        {
          "output_type": "stream",
          "name": "stdout",
          "text": [
            "Top spender: Row(customer_id=103, total_spent=120)\n"
          ]
        }
      ]
    },
    {
      "cell_type": "markdown",
      "source": [
        "**9. Calculate the Average Discount Given per Product Category**"
      ],
      "metadata": {
        "id": "lWYdwlpUPjh2"
      }
    },
    {
      "cell_type": "code",
      "source": [
        "average_discount_by_category = df.groupBy(\"category\").agg(avg(\"discount_percentage\").alias(\"average_discount\"))\n",
        "average_discount_by_category.show()"
      ],
      "metadata": {
        "colab": {
          "base_uri": "https://localhost:8080/"
        },
        "id": "U0q7mxH2PQrk",
        "outputId": "d2334666-8c5d-4fbe-f8c8-28d192f3d08f"
      },
      "execution_count": 29,
      "outputs": [
        {
          "output_type": "stream",
          "name": "stdout",
          "text": [
            "+--------------+----------------+\n",
            "|      category|average_discount|\n",
            "+--------------+----------------+\n",
            "|       Fashion|            10.0|\n",
            "|   Electronics|            8.75|\n",
            "|         Books|             0.0|\n",
            "|Home Appliance|            15.0|\n",
            "+--------------+----------------+\n",
            "\n"
          ]
        }
      ]
    },
    {
      "cell_type": "markdown",
      "source": [
        "**10. Create a New Column for Final Price After Discount**"
      ],
      "metadata": {
        "id": "x10JSE3OPnxB"
      }
    },
    {
      "cell_type": "code",
      "source": [
        "df = df.withColumn(\"final_price\", col(\"price\") - (col(\"price\") * col(\"discount_percentage\") / 100))\n",
        "df.show()"
      ],
      "metadata": {
        "colab": {
          "base_uri": "https://localhost:8080/"
        },
        "id": "A1paNwv2Puix",
        "outputId": "a55e718b-699d-45e0-d376-f168705ddaf0"
      },
      "execution_count": 30,
      "outputs": [
        {
          "output_type": "stream",
          "name": "stdout",
          "text": [
            "+--------------+-----------+------------+--------------+-----+--------+-------------------+-------------------+-------+-----------+\n",
            "|transaction_id|customer_id|     product|      category|price|quantity|discount_percentage|         transacti |revenue|final_price|\n",
            "+--------------+-----------+------------+--------------+-----+--------+-------------------+-------------------+-------+-----------+\n",
            "|             1|        101|      Laptop|   Electronics| 1000|       1|                 10|2023-08-01 00:00:00|  -9000|      900.0|\n",
            "|             2|        102|  Smartphone|   Electronics|  700|       2|                  5|2023-08-01 00:00:00|  -5600|      665.0|\n",
            "|             3|        103|       Shirt|       Fashion|   40|       3|                  0|2023-08-02 00:00:00|    120|       40.0|\n",
            "|             4|        104|     Blender|Home Appliance|  150|       1|                 15|2023-08-03 00:00:00|  -2100|      127.5|\n",
            "|             5|        101|  Headphones|   Electronics|  100|       2|                 10|2023-08-03 00:00:00|  -1800|       90.0|\n",
            "|             6|        105|       Shoes|       Fashion|   60|       1|                 20|2023-08-04 00:00:00|  -1140|       48.0|\n",
            "|             7|        106|Refrigerator|Home Appliance|  800|       1|                 25|2023-08-05 00:00:00| -19200|      600.0|\n",
            "|             8|        107|        Book|         Books|   20|       4|                  0|2023-08-05 00:00:00|     80|       20.0|\n",
            "|             9|        108|     Toaster|Home Appliance|   30|       1|                  5|2023-08-06 00:00:00|   -120|       28.5|\n",
            "|            10|        102|      Tablet|   Electronics|  300|       2|                 10|2023-08-06 00:00:00|  -5400|      270.0|\n",
            "+--------------+-----------+------------+--------------+-----+--------+-------------------+-------------------+-------+-----------+\n",
            "\n"
          ]
        }
      ]
    },
    {
      "cell_type": "markdown",
      "source": [
        "# Banking Transactions"
      ],
      "metadata": {
        "id": "QVWtpxWXPy8f"
      }
    },
    {
      "cell_type": "code",
      "source": [
        "import pyspark\n",
        "from pyspark.sql import SparkSession\n",
        "from pyspark.sql.functions import col, sum, avg, when, count"
      ],
      "metadata": {
        "id": "kdUAUM_1PxBP"
      },
      "execution_count": 31,
      "outputs": []
    },
    {
      "cell_type": "code",
      "source": [
        "df = spark.read.csv(\"banking_transactions.csv\", header=True, inferSchema=True)\n",
        "df.show()"
      ],
      "metadata": {
        "colab": {
          "base_uri": "https://localhost:8080/"
        },
        "id": "T94_H_rpRewx",
        "outputId": "a22b1193-9d70-4593-cb01-a2f934f91751"
      },
      "execution_count": 33,
      "outputs": [
        {
          "output_type": "stream",
          "name": "stdout",
          "text": [
            "+--------------+-----------+----------------+------+----------------+\n",
            "|transaction_id|customer_id|transaction_type|amount|transaction_date|\n",
            "+--------------+-----------+----------------+------+----------------+\n",
            "|             1|        201|         Deposit|  5000|      2023-09-01|\n",
            "|             2|        202|      Withdrawal|  2000|      2023-09-01|\n",
            "|             3|        203|         Deposit|  3000|      2023-09-02|\n",
            "|             4|        201|      Withdrawal|  1500|      2023-09-02|\n",
            "|             5|        204|         Deposit| 10000|      2023-09-03|\n",
            "|             6|        205|      Withdrawal|   500|      2023-09-03|\n",
            "|             7|        202|         Deposit|  2500|      2023-09-04|\n",
            "|             8|        206|      Withdrawal|   700|      2023-09-04|\n",
            "|             9|        203|         Deposit|  4000|      2023-09-05|\n",
            "|            10|        204|      Withdrawal|  3000|     2023-09-05 |\n",
            "+--------------+-----------+----------------+------+----------------+\n",
            "\n"
          ]
        }
      ]
    },
    {
      "cell_type": "markdown",
      "source": [
        "**1. Calculate the Total Deposit and Withdrawal Amounts**"
      ],
      "metadata": {
        "id": "kkIZbbsPSACR"
      }
    },
    {
      "cell_type": "code",
      "source": [
        "total_amounts = df.groupBy(\"transaction_type\").agg(sum(\"amount\").alias(\"total_amount\"))\n",
        "total_amounts.show()"
      ],
      "metadata": {
        "colab": {
          "base_uri": "https://localhost:8080/"
        },
        "id": "kuI_XHKSR-Xs",
        "outputId": "f0e72169-db8e-40a1-a56e-377bacbeeb15"
      },
      "execution_count": 34,
      "outputs": [
        {
          "output_type": "stream",
          "name": "stdout",
          "text": [
            "+----------------+------------+\n",
            "|transaction_type|total_amount|\n",
            "+----------------+------------+\n",
            "|         Deposit|       24500|\n",
            "|      Withdrawal|        7700|\n",
            "+----------------+------------+\n",
            "\n"
          ]
        }
      ]
    },
    {
      "cell_type": "markdown",
      "source": [
        "**2. Filter Transactions Greater Than $3,000**"
      ],
      "metadata": {
        "id": "mL2wc59zSJtH"
      }
    },
    {
      "cell_type": "code",
      "source": [
        "filtered_transactions = df.filter(col(\"amount\") > 3000)\n",
        "filtered_transactions.show()"
      ],
      "metadata": {
        "colab": {
          "base_uri": "https://localhost:8080/"
        },
        "id": "ZU194-wtSFY7",
        "outputId": "de7d3fe0-4971-4415-e4c9-dc5e2d0880f6"
      },
      "execution_count": 35,
      "outputs": [
        {
          "output_type": "stream",
          "name": "stdout",
          "text": [
            "+--------------+-----------+----------------+------+----------------+\n",
            "|transaction_id|customer_id|transaction_type|amount|transaction_date|\n",
            "+--------------+-----------+----------------+------+----------------+\n",
            "|             1|        201|         Deposit|  5000|      2023-09-01|\n",
            "|             5|        204|         Deposit| 10000|      2023-09-03|\n",
            "|             9|        203|         Deposit|  4000|      2023-09-05|\n",
            "+--------------+-----------+----------------+------+----------------+\n",
            "\n"
          ]
        }
      ]
    },
    {
      "cell_type": "markdown",
      "source": [
        "**3. Find the Largest Deposit Made**"
      ],
      "metadata": {
        "id": "a49vhtQuSNXm"
      }
    },
    {
      "cell_type": "code",
      "source": [
        "largest_deposit = df.filter(col(\"transaction_type\") == \"Deposit\").orderBy(col(\"amount\").desc()).first()\n",
        "print(\"Largest Deposit:\", largest_deposit)\n"
      ],
      "metadata": {
        "colab": {
          "base_uri": "https://localhost:8080/"
        },
        "id": "90Pj-Ve_SOFv",
        "outputId": "9ed2deb9-8e55-468e-baa0-f3b7efa0be04"
      },
      "execution_count": 36,
      "outputs": [
        {
          "output_type": "stream",
          "name": "stdout",
          "text": [
            "Largest Deposit: Row(transaction_id=5, customer_id=204, transaction_type='Deposit', amount=10000, transaction_date='2023-09-03')\n"
          ]
        }
      ]
    },
    {
      "cell_type": "markdown",
      "source": [
        "**4. Calculate the Average Transaction Amount for Each Transaction Type**"
      ],
      "metadata": {
        "id": "7sNUIb6CSZL4"
      }
    },
    {
      "cell_type": "code",
      "source": [
        "average_amounts = df.groupBy(\"transaction_type\").agg(avg(\"amount\").alias(\"average_amount\"))\n",
        "average_amounts.show()"
      ],
      "metadata": {
        "colab": {
          "base_uri": "https://localhost:8080/"
        },
        "id": "LbnoF341SU9d",
        "outputId": "a5666390-db96-49e1-89f3-affdd2cd6bf1"
      },
      "execution_count": 37,
      "outputs": [
        {
          "output_type": "stream",
          "name": "stdout",
          "text": [
            "+----------------+--------------+\n",
            "|transaction_type|average_amount|\n",
            "+----------------+--------------+\n",
            "|         Deposit|        4900.0|\n",
            "|      Withdrawal|        1540.0|\n",
            "+----------------+--------------+\n",
            "\n"
          ]
        }
      ]
    },
    {
      "cell_type": "markdown",
      "source": [
        "**5. Find Customers Who Made Both Deposits and Withdrawals**"
      ],
      "metadata": {
        "id": "9LHXji_7Shv3"
      }
    },
    {
      "cell_type": "code",
      "source": [
        "from pyspark.sql.functions import col, countDistinct, when\n",
        "customers_with_both = df.groupBy(\"customer_id\").agg(\n",
        "    countDistinct(when(col(\"transaction_type\") == \"Deposit\", 1)).alias(\"deposit_count\"),\n",
        "    countDistinct(when(col(\"transaction_type\") == \"Withdrawal\", 1)).alias(\"withdrawal_count\")\n",
        ").filter((col(\"deposit_count\") > 0) & (col(\"withdrawal_count\") > 0))\n",
        "customers_with_both.show()\n",
        "\n"
      ],
      "metadata": {
        "colab": {
          "base_uri": "https://localhost:8080/"
        },
        "id": "LzphyJ37ShMz",
        "outputId": "0d20b1ce-6624-43fe-a5bc-c25659962ada"
      },
      "execution_count": 39,
      "outputs": [
        {
          "output_type": "stream",
          "name": "stdout",
          "text": [
            "+-----------+-------------+----------------+\n",
            "|customer_id|deposit_count|withdrawal_count|\n",
            "+-----------+-------------+----------------+\n",
            "|        202|            1|               1|\n",
            "|        204|            1|               1|\n",
            "|        201|            1|               1|\n",
            "+-----------+-------------+----------------+\n",
            "\n"
          ]
        }
      ]
    },
    {
      "cell_type": "markdown",
      "source": [
        "**6. Calculate the Total Amount of Transactions per Day**"
      ],
      "metadata": {
        "id": "tw6n3wGQSg2O"
      }
    },
    {
      "cell_type": "code",
      "source": [
        "total_amount_per_day = df.groupBy(\"transaction_date\").agg(sum(\"amount\").alias(\"total_amount\"))\n",
        "total_amount_per_day.show()\n",
        "\n"
      ],
      "metadata": {
        "colab": {
          "base_uri": "https://localhost:8080/"
        },
        "id": "M-CAQwn4Sk1K",
        "outputId": "bd385169-6599-4423-dea3-4d461faf4b0e"
      },
      "execution_count": 40,
      "outputs": [
        {
          "output_type": "stream",
          "name": "stdout",
          "text": [
            "+----------------+------------+\n",
            "|transaction_date|total_amount|\n",
            "+----------------+------------+\n",
            "|      2023-09-01|        7000|\n",
            "|      2023-09-02|        4500|\n",
            "|      2023-09-05|        4000|\n",
            "|     2023-09-05 |        3000|\n",
            "|      2023-09-04|        3200|\n",
            "|      2023-09-03|       10500|\n",
            "+----------------+------------+\n",
            "\n"
          ]
        }
      ]
    },
    {
      "cell_type": "markdown",
      "source": [
        "**7. Find the Customer with the Highest Total Withdrawal**"
      ],
      "metadata": {
        "id": "Mla5psF3TLzD"
      }
    },
    {
      "cell_type": "code",
      "source": [
        "\n",
        "highest_withdrawal_customer = df.filter(col(\"transaction_type\") == \"Withdrawal\").groupBy(\"customer_id\").agg(sum(\"amount\").alias(\"total_withdrawal\")).orderBy(col(\"total_withdrawal\").desc()).first()\n",
        "print(\"Customer with Highest Total Withdrawal:\", highest_withdrawal_customer)\n",
        "\n"
      ],
      "metadata": {
        "colab": {
          "base_uri": "https://localhost:8080/"
        },
        "id": "No2wqQ_eSmgU",
        "outputId": "a48d27eb-17c1-41f9-e9e7-e0ec1be732af"
      },
      "execution_count": 41,
      "outputs": [
        {
          "output_type": "stream",
          "name": "stdout",
          "text": [
            "Customer with Highest Total Withdrawal: Row(customer_id=204, total_withdrawal=3000)\n"
          ]
        }
      ]
    },
    {
      "cell_type": "markdown",
      "source": [
        "**8. Calculate the Number of Transactions for Each Customer**"
      ],
      "metadata": {
        "id": "6OVA4M-MTnPr"
      }
    },
    {
      "cell_type": "code",
      "source": [
        "\n",
        "transaction_count_per_customer = df.groupBy(\"customer_id\").agg(count(\"*\").alias(\"transaction_count\"))\n",
        "transaction_count_per_customer.show()\n",
        "\n"
      ],
      "metadata": {
        "colab": {
          "base_uri": "https://localhost:8080/"
        },
        "id": "qhcoKj5uSoNj",
        "outputId": "9e5cfbe5-9a61-4b9a-fc6e-e50401e33f50"
      },
      "execution_count": 42,
      "outputs": [
        {
          "output_type": "stream",
          "name": "stdout",
          "text": [
            "+-----------+-----------------+\n",
            "|customer_id|transaction_count|\n",
            "+-----------+-----------------+\n",
            "|        206|                1|\n",
            "|        205|                1|\n",
            "|        202|                2|\n",
            "|        203|                2|\n",
            "|        204|                2|\n",
            "|        201|                2|\n",
            "+-----------+-----------------+\n",
            "\n"
          ]
        }
      ]
    },
    {
      "cell_type": "markdown",
      "source": [
        "**9. Find All Transactions That Occurred on the Same Day as a Withdrawal Greater Than $1,000**"
      ],
      "metadata": {
        "id": "mAZ3oH9FTfQa"
      }
    },
    {
      "cell_type": "code",
      "source": [
        "withdrawal_greater_than_1000 = df.filter((col(\"transaction_type\") == \"Withdrawal\") & (col(\"amount\") > 1000))\n",
        "joined_df = df.join(withdrawal_greater_than_1000, df.transaction_date == withdrawal_greater_than_1000.transaction_date, \"inner\")\n",
        "joined_df.show()"
      ],
      "metadata": {
        "colab": {
          "base_uri": "https://localhost:8080/"
        },
        "id": "4ladpq_BSpiZ",
        "outputId": "0ccf70f8-4185-4d52-8812-92a5a2f4551e"
      },
      "execution_count": 44,
      "outputs": [
        {
          "output_type": "stream",
          "name": "stdout",
          "text": [
            "+--------------+-----------+----------------+------+----------------+--------------+-----------+----------------+------+----------------+\n",
            "|transaction_id|customer_id|transaction_type|amount|transaction_date|transaction_id|customer_id|transaction_type|amount|transaction_date|\n",
            "+--------------+-----------+----------------+------+----------------+--------------+-----------+----------------+------+----------------+\n",
            "|             1|        201|         Deposit|  5000|      2023-09-01|             2|        202|      Withdrawal|  2000|      2023-09-01|\n",
            "|             2|        202|      Withdrawal|  2000|      2023-09-01|             2|        202|      Withdrawal|  2000|      2023-09-01|\n",
            "|             3|        203|         Deposit|  3000|      2023-09-02|             4|        201|      Withdrawal|  1500|      2023-09-02|\n",
            "|             4|        201|      Withdrawal|  1500|      2023-09-02|             4|        201|      Withdrawal|  1500|      2023-09-02|\n",
            "|            10|        204|      Withdrawal|  3000|     2023-09-05 |            10|        204|      Withdrawal|  3000|     2023-09-05 |\n",
            "+--------------+-----------+----------------+------+----------------+--------------+-----------+----------------+------+----------------+\n",
            "\n"
          ]
        }
      ]
    },
    {
      "cell_type": "markdown",
      "source": [
        "**10. Create a New Column to Classify Transactions as \"High\" or \"Low\" Value**"
      ],
      "metadata": {
        "id": "bK4DMbW4TcMN"
      }
    },
    {
      "cell_type": "code",
      "source": [
        "df = df.withColumn(\"transaction_value\", when(col(\"amount\") > 5000, \"High\").otherwise(\"Low\"))\n",
        "df.show()"
      ],
      "metadata": {
        "colab": {
          "base_uri": "https://localhost:8080/"
        },
        "id": "_VDQW2GsSq-O",
        "outputId": "b1475e9c-d559-4b48-a81d-2a9f345947f2"
      },
      "execution_count": 45,
      "outputs": [
        {
          "output_type": "stream",
          "name": "stdout",
          "text": [
            "+--------------+-----------+----------------+------+----------------+-----------------+\n",
            "|transaction_id|customer_id|transaction_type|amount|transaction_date|transaction_value|\n",
            "+--------------+-----------+----------------+------+----------------+-----------------+\n",
            "|             1|        201|         Deposit|  5000|      2023-09-01|              Low|\n",
            "|             2|        202|      Withdrawal|  2000|      2023-09-01|              Low|\n",
            "|             3|        203|         Deposit|  3000|      2023-09-02|              Low|\n",
            "|             4|        201|      Withdrawal|  1500|      2023-09-02|              Low|\n",
            "|             5|        204|         Deposit| 10000|      2023-09-03|             High|\n",
            "|             6|        205|      Withdrawal|   500|      2023-09-03|              Low|\n",
            "|             7|        202|         Deposit|  2500|      2023-09-04|              Low|\n",
            "|             8|        206|      Withdrawal|   700|      2023-09-04|              Low|\n",
            "|             9|        203|         Deposit|  4000|      2023-09-05|              Low|\n",
            "|            10|        204|      Withdrawal|  3000|     2023-09-05 |              Low|\n",
            "+--------------+-----------+----------------+------+----------------+-----------------+\n",
            "\n"
          ]
        }
      ]
    },
    {
      "cell_type": "markdown",
      "source": [
        "# Health & Fitness Tracker Data"
      ],
      "metadata": {
        "id": "ZB8aLChvTxJL"
      }
    },
    {
      "cell_type": "code",
      "source": [
        "df = spark.read.csv(\"health_fitness_tracker_data.csv\", header=True, inferSchema=True)\n",
        "df.show()"
      ],
      "metadata": {
        "colab": {
          "base_uri": "https://localhost:8080/"
        },
        "id": "ngn432qPamAN",
        "outputId": "7a73baec-5fcc-4572-fda9-6f3c7fd9de2c"
      },
      "execution_count": 46,
      "outputs": [
        {
          "output_type": "stream",
          "name": "stdout",
          "text": [
            "+-------+----------+-----+---------------+--------------+------------+\n",
            "|user_id|      date|steps|calories_burned|hours_of_sleep|workout_type|\n",
            "+-------+----------+-----+---------------+--------------+------------+\n",
            "|      1|2023-09-01|12000|            500|           7.0|      Cardio|\n",
            "|      2|2023-09-01| 8000|            400|           6.5|    Strength|\n",
            "|      3|2023-09-01|15000|            650|           8.0|        Yoga|\n",
            "|      1|2023-09-02|10000|            450|           6.0|      Cardio|\n",
            "|      2|2023-09-02| 9500|            500|           7.0|      Cardio|\n",
            "|      3|2023-09-02|14000|            600|           7.5|    Strength|\n",
            "|      1|2023-09-03|13000|            550|           8.0|        Yoga|\n",
            "|      2|2023-09-03|12000|            520|           6.5|        Yoga|\n",
            "|      3|2023-09-03|16000|            700|           7.0|     Cardio |\n",
            "+-------+----------+-----+---------------+--------------+------------+\n",
            "\n"
          ]
        }
      ]
    },
    {
      "cell_type": "markdown",
      "source": [
        "**1. Find the Total Steps Taken by Each User**"
      ],
      "metadata": {
        "id": "uqHT27alT3Lq"
      }
    },
    {
      "cell_type": "code",
      "source": [
        "total_steps_per_user = df.groupBy(\"user_id\").agg(sum(\"steps\").alias(\"total_steps\"))\n",
        "total_steps_per_user.show()"
      ],
      "metadata": {
        "colab": {
          "base_uri": "https://localhost:8080/"
        },
        "id": "0-Mrr6I-auYF",
        "outputId": "3c9827fe-d523-4640-8789-3c38ff077775"
      },
      "execution_count": 47,
      "outputs": [
        {
          "output_type": "stream",
          "name": "stdout",
          "text": [
            "+-------+-----------+\n",
            "|user_id|total_steps|\n",
            "+-------+-----------+\n",
            "|      1|      35000|\n",
            "|      3|      45000|\n",
            "|      2|      29500|\n",
            "+-------+-----------+\n",
            "\n"
          ]
        }
      ]
    },
    {
      "cell_type": "markdown",
      "source": [
        "**2. Filter Days with More Than 10,000 Steps**"
      ],
      "metadata": {
        "id": "dics2FjlcVY1"
      }
    },
    {
      "cell_type": "code",
      "source": [
        "filtered_data = df.filter(col(\"steps\") > 10000)\n",
        "filtered_data.show()"
      ],
      "metadata": {
        "colab": {
          "base_uri": "https://localhost:8080/"
        },
        "id": "xBBzuBLra0z8",
        "outputId": "2b616c46-1666-40bb-b872-7ceddb1ebd7e"
      },
      "execution_count": 48,
      "outputs": [
        {
          "output_type": "stream",
          "name": "stdout",
          "text": [
            "+-------+----------+-----+---------------+--------------+------------+\n",
            "|user_id|      date|steps|calories_burned|hours_of_sleep|workout_type|\n",
            "+-------+----------+-----+---------------+--------------+------------+\n",
            "|      1|2023-09-01|12000|            500|           7.0|      Cardio|\n",
            "|      3|2023-09-01|15000|            650|           8.0|        Yoga|\n",
            "|      3|2023-09-02|14000|            600|           7.5|    Strength|\n",
            "|      1|2023-09-03|13000|            550|           8.0|        Yoga|\n",
            "|      2|2023-09-03|12000|            520|           6.5|        Yoga|\n",
            "|      3|2023-09-03|16000|            700|           7.0|     Cardio |\n",
            "+-------+----------+-----+---------------+--------------+------------+\n",
            "\n"
          ]
        }
      ]
    },
    {
      "cell_type": "markdown",
      "source": [
        "**3. Calculate the Average Calories Burned by Workout Type**"
      ],
      "metadata": {
        "id": "3oib3fS0cR6W"
      }
    },
    {
      "cell_type": "code",
      "source": [
        "average_calories_by_workout = df.groupBy(\"workout_type\").agg(avg(\"calories_burned\").alias(\"average_calories\"))\n",
        "average_calories_by_workout.show()"
      ],
      "metadata": {
        "colab": {
          "base_uri": "https://localhost:8080/"
        },
        "id": "4JTuIr54bHAz",
        "outputId": "7d810ed4-9fee-453a-cdac-ee167ecc41a0"
      },
      "execution_count": 49,
      "outputs": [
        {
          "output_type": "stream",
          "name": "stdout",
          "text": [
            "+------------+-----------------+\n",
            "|workout_type| average_calories|\n",
            "+------------+-----------------+\n",
            "|    Strength|            500.0|\n",
            "|        Yoga|573.3333333333334|\n",
            "|      Cardio|483.3333333333333|\n",
            "|     Cardio |            700.0|\n",
            "+------------+-----------------+\n",
            "\n"
          ]
        }
      ]
    },
    {
      "cell_type": "markdown",
      "source": [
        "**4. Identify the Day with the Most Steps for Each User**"
      ],
      "metadata": {
        "id": "6M3adyaccOmc"
      }
    },
    {
      "cell_type": "code",
      "source": [
        "average_calories_by_workout = df.groupBy(\"workout_type\").agg(avg(\"calories_burned\").alias(\"average_calories\"))\n",
        "average_calories_by_workout.show()"
      ],
      "metadata": {
        "colab": {
          "base_uri": "https://localhost:8080/"
        },
        "id": "6wMTsJqSbEqJ",
        "outputId": "b0decf61-1fcf-41ac-d166-daa0dbceb6d0"
      },
      "execution_count": 60,
      "outputs": [
        {
          "output_type": "stream",
          "name": "stdout",
          "text": [
            "+------------+-----------------+\n",
            "|workout_type| average_calories|\n",
            "+------------+-----------------+\n",
            "|    Strength|            500.0|\n",
            "|        Yoga|573.3333333333334|\n",
            "|      Cardio|483.3333333333333|\n",
            "|     Cardio |            700.0|\n",
            "+------------+-----------------+\n",
            "\n"
          ]
        }
      ]
    },
    {
      "cell_type": "markdown",
      "source": [
        "**5. Find Users Who Burned More Than 600 Calories on Any Day**"
      ],
      "metadata": {
        "id": "zyHDgHotcLGw"
      }
    },
    {
      "cell_type": "code",
      "source": [
        "users_burned_more_than_600 = df.filter(col(\"calories_burned\") > 600).select(\"user_id\").distinct()\n",
        "users_burned_more_than_600.show()"
      ],
      "metadata": {
        "colab": {
          "base_uri": "https://localhost:8080/"
        },
        "id": "tqpLF2DUa-gm",
        "outputId": "9c19bd62-dba2-4c8b-94fb-bc2f5df94c0f"
      },
      "execution_count": 54,
      "outputs": [
        {
          "output_type": "stream",
          "name": "stdout",
          "text": [
            "+-------+\n",
            "|user_id|\n",
            "+-------+\n",
            "|      3|\n",
            "+-------+\n",
            "\n"
          ]
        }
      ]
    },
    {
      "cell_type": "markdown",
      "source": [
        "**6. Calculate the Average Hours of Sleep per User**"
      ],
      "metadata": {
        "id": "KxJlfBvEcHpT"
      }
    },
    {
      "cell_type": "code",
      "source": [
        "average_sleep_per_user = df.groupBy(\"user_id\").agg(avg(\"hours_of_sleep\").alias(\"average_sleep\"))\n",
        "average_sleep_per_user.show()"
      ],
      "metadata": {
        "colab": {
          "base_uri": "https://localhost:8080/"
        },
        "id": "5JAIpuPaa8ks",
        "outputId": "6f1b1b10-b96a-48ef-f0a4-0decf9e6c702"
      },
      "execution_count": 55,
      "outputs": [
        {
          "output_type": "stream",
          "name": "stdout",
          "text": [
            "+-------+-----------------+\n",
            "|user_id|    average_sleep|\n",
            "+-------+-----------------+\n",
            "|      1|              7.0|\n",
            "|      3|              7.5|\n",
            "|      2|6.666666666666667|\n",
            "+-------+-----------------+\n",
            "\n"
          ]
        }
      ]
    },
    {
      "cell_type": "markdown",
      "source": [
        "**7. Find the Total Calories Burned per Day**"
      ],
      "metadata": {
        "id": "MA32djsjcAke"
      }
    },
    {
      "cell_type": "code",
      "source": [
        "total_calories_per_day = df.groupBy(\"date\").agg(sum(\"calories_burned\").alias(\"total_calories\"))\n",
        "total_calories_per_day.show()"
      ],
      "metadata": {
        "colab": {
          "base_uri": "https://localhost:8080/"
        },
        "id": "vhQtqnWma7HM",
        "outputId": "d147f1bd-6d9a-49ec-a145-5bc15fadc4c4"
      },
      "execution_count": 56,
      "outputs": [
        {
          "output_type": "stream",
          "name": "stdout",
          "text": [
            "+----------+--------------+\n",
            "|      date|total_calories|\n",
            "+----------+--------------+\n",
            "|2023-09-03|          1770|\n",
            "|2023-09-01|          1550|\n",
            "|2023-09-02|          1550|\n",
            "+----------+--------------+\n",
            "\n"
          ]
        }
      ]
    },
    {
      "cell_type": "markdown",
      "source": [
        "**8. Identify Users Who Did Different Types of Workouts**"
      ],
      "metadata": {
        "id": "y4zji76pb-wO"
      }
    },
    {
      "cell_type": "code",
      "source": [
        "users_with_multiple_workouts = df.groupBy(\"user_id\").agg(countDistinct(\"workout_type\").alias(\"workout_count\")).filter(col(\"workout_count\") > 1)\n",
        "users_with_multiple_workouts.show()"
      ],
      "metadata": {
        "colab": {
          "base_uri": "https://localhost:8080/"
        },
        "id": "0KOZz298a5xI",
        "outputId": "53585d50-f5c6-43d5-f52a-fdf147476bd0"
      },
      "execution_count": 57,
      "outputs": [
        {
          "output_type": "stream",
          "name": "stdout",
          "text": [
            "+-------+-------------+\n",
            "|user_id|workout_count|\n",
            "+-------+-------------+\n",
            "|      1|            2|\n",
            "|      3|            3|\n",
            "|      2|            3|\n",
            "+-------+-------------+\n",
            "\n"
          ]
        }
      ]
    },
    {
      "cell_type": "markdown",
      "source": [
        "**9. Calculate the Total Number of Workouts per User**"
      ],
      "metadata": {
        "id": "kSwopqsLb4uP"
      }
    },
    {
      "cell_type": "code",
      "source": [
        "workout_count_per_user = df.groupBy(\"user_id\").agg(count(\"*\").alias(\"workout_count\"))\n",
        "workout_count_per_user.show()"
      ],
      "metadata": {
        "colab": {
          "base_uri": "https://localhost:8080/"
        },
        "id": "hZed1QK5a4XP",
        "outputId": "2c09a99f-c4e8-40e3-d837-071e178ebc56"
      },
      "execution_count": 58,
      "outputs": [
        {
          "output_type": "stream",
          "name": "stdout",
          "text": [
            "+-------+-------------+\n",
            "|user_id|workout_count|\n",
            "+-------+-------------+\n",
            "|      1|            3|\n",
            "|      3|            3|\n",
            "|      2|            3|\n",
            "+-------+-------------+\n",
            "\n"
          ]
        }
      ]
    },
    {
      "cell_type": "markdown",
      "source": [
        "**10. Create a New Column for \"Active\" Days**"
      ],
      "metadata": {
        "id": "tN5nsEUzb25H"
      }
    },
    {
      "cell_type": "code",
      "source": [
        "df = df.withColumn(\"active_day\", when(col(\"steps\") > 10000, \"Active\").otherwise(\"Inactive\"))\n",
        "df.show()"
      ],
      "metadata": {
        "colab": {
          "base_uri": "https://localhost:8080/"
        },
        "id": "_rads2BMa2yA",
        "outputId": "207e9493-3b2c-4f51-d72e-3387f827053a"
      },
      "execution_count": 59,
      "outputs": [
        {
          "output_type": "stream",
          "name": "stdout",
          "text": [
            "+-------+----------+-----+---------------+--------------+------------+----------+\n",
            "|user_id|      date|steps|calories_burned|hours_of_sleep|workout_type|active_day|\n",
            "+-------+----------+-----+---------------+--------------+------------+----------+\n",
            "|      1|2023-09-01|12000|            500|           7.0|      Cardio|    Active|\n",
            "|      2|2023-09-01| 8000|            400|           6.5|    Strength|  Inactive|\n",
            "|      3|2023-09-01|15000|            650|           8.0|        Yoga|    Active|\n",
            "|      1|2023-09-02|10000|            450|           6.0|      Cardio|  Inactive|\n",
            "|      2|2023-09-02| 9500|            500|           7.0|      Cardio|  Inactive|\n",
            "|      3|2023-09-02|14000|            600|           7.5|    Strength|    Active|\n",
            "|      1|2023-09-03|13000|            550|           8.0|        Yoga|    Active|\n",
            "|      2|2023-09-03|12000|            520|           6.5|        Yoga|    Active|\n",
            "|      3|2023-09-03|16000|            700|           7.0|     Cardio |    Active|\n",
            "+-------+----------+-----+---------------+--------------+------------+----------+\n",
            "\n"
          ]
        }
      ]
    },
    {
      "cell_type": "markdown",
      "source": [
        "# Music Streaming Data"
      ],
      "metadata": {
        "id": "vxUWLZSAcdNB"
      }
    },
    {
      "cell_type": "code",
      "source": [
        "df = spark.read.csv(\"music_streaming_data.csv\", header=True, inferSchema=True)\n",
        "df.show()"
      ],
      "metadata": {
        "colab": {
          "base_uri": "https://localhost:8080/"
        },
        "id": "lFSxBVVHce_Y",
        "outputId": "8e2e5490-8344-4a35-de6a-7c3faa36c98a"
      },
      "execution_count": 61,
      "outputs": [
        {
          "output_type": "stream",
          "name": "stdout",
          "text": [
            "+-------+---------------+----------+----------------+-------------------+-----------+\n",
            "|user_id|     song_title|    artist|duration_seconds|     streaming_time|   location|\n",
            "+-------+---------------+----------+----------------+-------------------+-----------+\n",
            "|      1|Blinding Lights|The Weeknd|             200|2023-09-01 08:15:00|   New York|\n",
            "|      2|   Shape of You|Ed Sheeran|             240|2023-09-01 09:20:00|Los Angeles|\n",
            "|      3|     Levitating|  Dua Lipa|             180|2023-09-01 10:30:00|     London|\n",
            "|      1|        Starboy|The Weeknd|             220|2023-09-01 11:00:00|   New York|\n",
            "|      2|        Perfect|Ed Sheeran|             250|2023-09-01 12:15:00|Los Angeles|\n",
            "|      3|Don't Start Now|  Dua Lipa|             200|2023-09-02 08:10:00|     London|\n",
            "|      1|Save Your Tears|The Weeknd|             210|2023-09-02 09:00:00|   New York|\n",
            "|      2|    Galway Girl|Ed Sheeran|             190|2023-09-02 10:00:00|Los Angeles|\n",
            "|      3|      New Rules|  Dua Lipa|             230|2023-09-02 11:00:00|     London|\n",
            "+-------+---------------+----------+----------------+-------------------+-----------+\n",
            "\n"
          ]
        }
      ]
    },
    {
      "cell_type": "markdown",
      "source": [
        "**1. Calculate the Total Listening Time for Each User**"
      ],
      "metadata": {
        "id": "WUApR7UEdEUg"
      }
    },
    {
      "cell_type": "code",
      "source": [
        "total_listening_time = df.groupBy(\"user_id\").agg(sum(\"duration_seconds\").alias(\"total_listening_time\"))\n",
        "total_listening_time.show()\n"
      ],
      "metadata": {
        "colab": {
          "base_uri": "https://localhost:8080/"
        },
        "id": "jTFHGDNIdDFA",
        "outputId": "1fcc6795-f425-4c19-8ab8-dc81ba947024"
      },
      "execution_count": 62,
      "outputs": [
        {
          "output_type": "stream",
          "name": "stdout",
          "text": [
            "+-------+--------------------+\n",
            "|user_id|total_listening_time|\n",
            "+-------+--------------------+\n",
            "|      1|                 630|\n",
            "|      3|                 610|\n",
            "|      2|                 680|\n",
            "+-------+--------------------+\n",
            "\n"
          ]
        }
      ]
    },
    {
      "cell_type": "markdown",
      "source": [
        "**2. Filter Songs Streamed for More Than 200 Seconds**"
      ],
      "metadata": {
        "id": "QBfHUkewe0vg"
      }
    },
    {
      "cell_type": "code",
      "source": [
        "filtered_songs = df.filter(col(\"duration_seconds\") > 200)\n",
        "filtered_songs.show()"
      ],
      "metadata": {
        "colab": {
          "base_uri": "https://localhost:8080/"
        },
        "id": "kID2ao4_dKyw",
        "outputId": "c2ddc5b5-4ec4-4033-eef6-24ae07bc0c65"
      },
      "execution_count": 63,
      "outputs": [
        {
          "output_type": "stream",
          "name": "stdout",
          "text": [
            "+-------+---------------+----------+----------------+-------------------+-----------+\n",
            "|user_id|     song_title|    artist|duration_seconds|     streaming_time|   location|\n",
            "+-------+---------------+----------+----------------+-------------------+-----------+\n",
            "|      2|   Shape of You|Ed Sheeran|             240|2023-09-01 09:20:00|Los Angeles|\n",
            "|      1|        Starboy|The Weeknd|             220|2023-09-01 11:00:00|   New York|\n",
            "|      2|        Perfect|Ed Sheeran|             250|2023-09-01 12:15:00|Los Angeles|\n",
            "|      1|Save Your Tears|The Weeknd|             210|2023-09-02 09:00:00|   New York|\n",
            "|      3|      New Rules|  Dua Lipa|             230|2023-09-02 11:00:00|     London|\n",
            "+-------+---------------+----------+----------------+-------------------+-----------+\n",
            "\n"
          ]
        }
      ]
    },
    {
      "cell_type": "markdown",
      "source": [
        "**3. Find the Most Popular Artist (by Total Streams)**"
      ],
      "metadata": {
        "id": "SM7eVLuIexOH"
      }
    },
    {
      "cell_type": "code",
      "source": [
        "most_popular_artist = df.groupBy(\"artist\").agg(count(\"*\").alias(\"stream_count\")).orderBy(col(\"stream_count\").desc()).first()\n",
        "print(\"Most Popular Artist:\", most_popular_artist)"
      ],
      "metadata": {
        "colab": {
          "base_uri": "https://localhost:8080/"
        },
        "id": "_vPgjkbdd0cK",
        "outputId": "977c9adf-204a-450a-df4b-16c221d8e1c3"
      },
      "execution_count": 64,
      "outputs": [
        {
          "output_type": "stream",
          "name": "stdout",
          "text": [
            "Most Popular Artist: Row(artist='Dua Lipa', stream_count=3)\n"
          ]
        }
      ]
    },
    {
      "cell_type": "markdown",
      "source": [
        "**4. Identify the Song with the Longest Duration**"
      ],
      "metadata": {
        "id": "0ErO0lZKesX8"
      }
    },
    {
      "cell_type": "code",
      "source": [
        "longest_song = df.orderBy(col(\"duration_seconds\").desc()).select(\"song_title\", \"artist\", \"duration_seconds\").first()\n",
        "print(\"Longest Song:\", longest_song)"
      ],
      "metadata": {
        "colab": {
          "base_uri": "https://localhost:8080/"
        },
        "id": "bzqWx__Edv7o",
        "outputId": "85e9e2bf-36a0-4bdf-8e76-752668fc22ac"
      },
      "execution_count": 65,
      "outputs": [
        {
          "output_type": "stream",
          "name": "stdout",
          "text": [
            "Longest Song: Row(song_title='Perfect', artist='Ed Sheeran', duration_seconds=250)\n"
          ]
        }
      ]
    },
    {
      "cell_type": "markdown",
      "source": [
        "**5. Calculate the Average Song Duration by Artist**"
      ],
      "metadata": {
        "id": "LWRrBBKgeop9"
      }
    },
    {
      "cell_type": "code",
      "source": [
        "average_duration_by_artist = df.groupBy(\"artist\").agg(avg(\"duration_seconds\").alias(\"average_duration\"))\n",
        "average_duration_by_artist.show()"
      ],
      "metadata": {
        "colab": {
          "base_uri": "https://localhost:8080/"
        },
        "id": "EREUjq-6dsdZ",
        "outputId": "b7f8b985-d4fc-46ff-cb87-9fd4b54a1b7c"
      },
      "execution_count": 66,
      "outputs": [
        {
          "output_type": "stream",
          "name": "stdout",
          "text": [
            "+----------+------------------+\n",
            "|    artist|  average_duration|\n",
            "+----------+------------------+\n",
            "|  Dua Lipa|203.33333333333334|\n",
            "|Ed Sheeran|226.66666666666666|\n",
            "|The Weeknd|             210.0|\n",
            "+----------+------------------+\n",
            "\n"
          ]
        }
      ]
    },
    {
      "cell_type": "markdown",
      "source": [
        "**6. Find the Top 3 Most Streamed Songs per User**"
      ],
      "metadata": {
        "id": "x6WYmLPHejmu"
      }
    },
    {
      "cell_type": "code",
      "source": [
        "top_3_streamed_songs = df.groupBy(\"user_id\").agg(count(\"*\").alias(\"stream_count\")).orderBy(col(\"stream_count\").desc()).limit(3)\n",
        "top_3_streamed_songs.show()"
      ],
      "metadata": {
        "colab": {
          "base_uri": "https://localhost:8080/"
        },
        "id": "o4eJSlRedqtJ",
        "outputId": "b6b6cc8e-fb73-436e-e5c4-5796209393c8"
      },
      "execution_count": 67,
      "outputs": [
        {
          "output_type": "stream",
          "name": "stdout",
          "text": [
            "+-------+------------+\n",
            "|user_id|stream_count|\n",
            "+-------+------------+\n",
            "|      1|           3|\n",
            "|      3|           3|\n",
            "|      2|           3|\n",
            "+-------+------------+\n",
            "\n"
          ]
        }
      ]
    },
    {
      "cell_type": "markdown",
      "source": [
        "**7. Calculate the Total Number of Streams per Day**"
      ],
      "metadata": {
        "id": "fbtXlDuWeZB9"
      }
    },
    {
      "cell_type": "code",
      "source": [
        "from pyspark.sql.functions import col, to_date\n",
        "df = df.withColumn(\"streaming_date\", to_date(col(\"streaming_time\")))\n",
        "total_streams_per_day = df.groupBy(\"streaming_date\").agg(count(\"*\").alias(\"total_streams\"))\n",
        "total_streams_per_day.show()"
      ],
      "metadata": {
        "colab": {
          "base_uri": "https://localhost:8080/"
        },
        "id": "pUzQsfPvdpNh",
        "outputId": "1fed79dd-cd8a-4d24-cb99-2296e41b01b7"
      },
      "execution_count": 69,
      "outputs": [
        {
          "output_type": "stream",
          "name": "stdout",
          "text": [
            "+--------------+-------------+\n",
            "|streaming_date|total_streams|\n",
            "+--------------+-------------+\n",
            "|    2023-09-01|            5|\n",
            "|    2023-09-02|            4|\n",
            "+--------------+-------------+\n",
            "\n"
          ]
        }
      ]
    },
    {
      "cell_type": "markdown",
      "source": [
        "**8. Identify Users Who Streamed Songs from More Than One Artist**"
      ],
      "metadata": {
        "id": "pvxrVFSmeVa_"
      }
    },
    {
      "cell_type": "code",
      "source": [
        "users_with_multiple_artists = df.groupBy(\"user_id\").agg(countDistinct(\"artist\").alias(\"artist_count\")).filter(col(\"artist_count\") > 1)\n",
        "users_with_multiple_artists.show()"
      ],
      "metadata": {
        "colab": {
          "base_uri": "https://localhost:8080/"
        },
        "id": "HKpIMYfkdnLc",
        "outputId": "152e2172-8ac5-4798-fee6-fc117cc03d88"
      },
      "execution_count": 70,
      "outputs": [
        {
          "output_type": "stream",
          "name": "stdout",
          "text": [
            "+-------+------------+\n",
            "|user_id|artist_count|\n",
            "+-------+------------+\n",
            "+-------+------------+\n",
            "\n"
          ]
        }
      ]
    },
    {
      "cell_type": "markdown",
      "source": [
        "**9. Calculate the Total Streams for Each Location**"
      ],
      "metadata": {
        "id": "yMZTncOSeSti"
      }
    },
    {
      "cell_type": "code",
      "source": [
        "total_streams_per_location = df.groupBy(\"location\").agg(count(\"*\").alias(\"total_streams\"))\n",
        "total_streams_per_location.show()"
      ],
      "metadata": {
        "colab": {
          "base_uri": "https://localhost:8080/"
        },
        "id": "99R0Xw0gdjCv",
        "outputId": "3c5230f2-06be-4b06-d6fd-e6cb877d0284"
      },
      "execution_count": 71,
      "outputs": [
        {
          "output_type": "stream",
          "name": "stdout",
          "text": [
            "+-----------+-------------+\n",
            "|   location|total_streams|\n",
            "+-----------+-------------+\n",
            "|Los Angeles|            3|\n",
            "|     London|            3|\n",
            "|   New York|            3|\n",
            "+-----------+-------------+\n",
            "\n"
          ]
        }
      ]
    },
    {
      "cell_type": "markdown",
      "source": [
        "**10. Create a New Column to Classify Long and Short Songs**"
      ],
      "metadata": {
        "id": "UTVYlwhqdZRw"
      }
    },
    {
      "cell_type": "code",
      "source": [
        "df = df.withColumn(\"song_length\", when(col(\"duration_seconds\") > 200, \"Long\").otherwise(\"Short\"))\n",
        "df.show()"
      ],
      "metadata": {
        "colab": {
          "base_uri": "https://localhost:8080/"
        },
        "id": "HqmePB5YdaPn",
        "outputId": "ab871b3e-f9f2-4c2e-c339-4f1800075114"
      },
      "execution_count": 72,
      "outputs": [
        {
          "output_type": "stream",
          "name": "stdout",
          "text": [
            "+-------+---------------+----------+----------------+-------------------+-----------+--------------+-----------+\n",
            "|user_id|     song_title|    artist|duration_seconds|     streaming_time|   location|streaming_date|song_length|\n",
            "+-------+---------------+----------+----------------+-------------------+-----------+--------------+-----------+\n",
            "|      1|Blinding Lights|The Weeknd|             200|2023-09-01 08:15:00|   New York|    2023-09-01|      Short|\n",
            "|      2|   Shape of You|Ed Sheeran|             240|2023-09-01 09:20:00|Los Angeles|    2023-09-01|       Long|\n",
            "|      3|     Levitating|  Dua Lipa|             180|2023-09-01 10:30:00|     London|    2023-09-01|      Short|\n",
            "|      1|        Starboy|The Weeknd|             220|2023-09-01 11:00:00|   New York|    2023-09-01|       Long|\n",
            "|      2|        Perfect|Ed Sheeran|             250|2023-09-01 12:15:00|Los Angeles|    2023-09-01|       Long|\n",
            "|      3|Don't Start Now|  Dua Lipa|             200|2023-09-02 08:10:00|     London|    2023-09-02|      Short|\n",
            "|      1|Save Your Tears|The Weeknd|             210|2023-09-02 09:00:00|   New York|    2023-09-02|       Long|\n",
            "|      2|    Galway Girl|Ed Sheeran|             190|2023-09-02 10:00:00|Los Angeles|    2023-09-02|      Short|\n",
            "|      3|      New Rules|  Dua Lipa|             230|2023-09-02 11:00:00|     London|    2023-09-02|       Long|\n",
            "+-------+---------------+----------+----------------+-------------------+-----------+--------------+-----------+\n",
            "\n"
          ]
        }
      ]
    },
    {
      "cell_type": "markdown",
      "source": [
        "# Retail Store Sales Data\n"
      ],
      "metadata": {
        "id": "gy8VOHNne5Bl"
      }
    },
    {
      "cell_type": "code",
      "source": [
        "df = spark.read.csv(\"retail_store_sales_data.csv\", header=True, inferSchema=True)\n",
        "df.show()"
      ],
      "metadata": {
        "colab": {
          "base_uri": "https://localhost:8080/"
        },
        "id": "Rclgu3eGfACm",
        "outputId": "8335f1bb-32d9-4ac3-fdf0-fda87feb51a2"
      },
      "execution_count": 74,
      "outputs": [
        {
          "output_type": "stream",
          "name": "stdout",
          "text": [
            "+--------------+------------+-----------+-----+--------+----------+\n",
            "|transaction_id|product_name|   category|price|quantity|sales_date|\n",
            "+--------------+------------+-----------+-----+--------+----------+\n",
            "|             1|       Apple|  Groceries|  0.5|      10|2023-09-01|\n",
            "|             2|     T-shirt|   Clothing| 15.0|       2|2023-09-01|\n",
            "|             3|    Notebook| Stationery|  2.0|       5|2023-09-02|\n",
            "|             4|      Banana|  Groceries|  0.3|      12|2023-09-02|\n",
            "|             5|      Laptop|Electronics|800.0|       1|2023-09-03|\n",
            "|             6|       Pants|   Clothing| 25.0|       3|2023-09-03|\n",
            "|             7|  Headphones|Electronics|100.0|       2|2023-09-04|\n",
            "|             8|         Pen| Stationery|  1.0|      10|2023-09-04|\n",
            "|             9|      Orange|  Groceries|  0.6|       8|2023-09-05|\n",
            "|            10|    Sneakers|   Clothing| 50.0|       1|2023-09-05|\n",
            "+--------------+------------+-----------+-----+--------+----------+\n",
            "\n"
          ]
        }
      ]
    },
    {
      "cell_type": "markdown",
      "source": [
        "**1. Calculate the Total Revenue per Category**"
      ],
      "metadata": {
        "id": "OyrNDbpggUGe"
      }
    },
    {
      "cell_type": "code",
      "source": [
        "total_revenue_per_category = df.groupBy(\"category\").agg(sum(col(\"price\") * col(\"quantity\")).alias(\"total_revenue\"))\n",
        "total_revenue_per_category.show()"
      ],
      "metadata": {
        "colab": {
          "base_uri": "https://localhost:8080/"
        },
        "id": "TpYg1Qvjfrgu",
        "outputId": "7438f162-3f31-4a06-b28f-94c1e13dc445"
      },
      "execution_count": 75,
      "outputs": [
        {
          "output_type": "stream",
          "name": "stdout",
          "text": [
            "+-----------+------------------+\n",
            "|   category|     total_revenue|\n",
            "+-----------+------------------+\n",
            "| Stationery|              20.0|\n",
            "|  Groceries|13.399999999999999|\n",
            "|Electronics|            1000.0|\n",
            "|   Clothing|             155.0|\n",
            "+-----------+------------------+\n",
            "\n"
          ]
        }
      ]
    },
    {
      "cell_type": "markdown",
      "source": [
        "**2. Filter Transactions Where the Total Sales Amount is Greater Than $100**"
      ],
      "metadata": {
        "id": "-J-skMbdgX9b"
      }
    },
    {
      "cell_type": "code",
      "source": [
        "filtered_transactions = df.filter(col(\"price\") * col(\"quantity\") > 100)\n",
        "filtered_transactions.show()"
      ],
      "metadata": {
        "colab": {
          "base_uri": "https://localhost:8080/"
        },
        "id": "3duI_zQ4f_IF",
        "outputId": "1db77bbf-70ae-4adb-b43f-31e75c8681e1"
      },
      "execution_count": 76,
      "outputs": [
        {
          "output_type": "stream",
          "name": "stdout",
          "text": [
            "+--------------+------------+-----------+-----+--------+----------+\n",
            "|transaction_id|product_name|   category|price|quantity|sales_date|\n",
            "+--------------+------------+-----------+-----+--------+----------+\n",
            "|             5|      Laptop|Electronics|800.0|       1|2023-09-03|\n",
            "|             7|  Headphones|Electronics|100.0|       2|2023-09-04|\n",
            "+--------------+------------+-----------+-----+--------+----------+\n",
            "\n"
          ]
        }
      ]
    },
    {
      "cell_type": "markdown",
      "source": [
        "**3. Find the Most Sold Product**"
      ],
      "metadata": {
        "id": "goPf5s7ugcv-"
      }
    },
    {
      "cell_type": "code",
      "source": [
        "most_sold_product = df.groupBy(\"product_name\").agg(sum(\"quantity\").alias(\"total_quantity\")).orderBy(col(\"total_quantity\").desc()).first()\n",
        "print(\"Most Sold Product:\", most_sold_product)"
      ],
      "metadata": {
        "colab": {
          "base_uri": "https://localhost:8080/"
        },
        "id": "dW52p0z8f8NC",
        "outputId": "0b46ad89-61bf-4a87-ff45-b27d43bcc858"
      },
      "execution_count": 77,
      "outputs": [
        {
          "output_type": "stream",
          "name": "stdout",
          "text": [
            "Most Sold Product: Row(product_name='Banana', total_quantity=12)\n"
          ]
        }
      ]
    },
    {
      "cell_type": "markdown",
      "source": [
        "**4. Calculate the Average Price per Product Category**"
      ],
      "metadata": {
        "id": "G4GJ7W2UghTo"
      }
    },
    {
      "cell_type": "code",
      "source": [
        "average_price_per_category = df.groupBy(\"category\").agg(avg(\"price\").alias(\"average_price\"))\n",
        "average_price_per_category.show()"
      ],
      "metadata": {
        "colab": {
          "base_uri": "https://localhost:8080/"
        },
        "id": "LwzoHGNWf555",
        "outputId": "496cbda4-df22-4d94-9359-ca4536829e3f"
      },
      "execution_count": 78,
      "outputs": [
        {
          "output_type": "stream",
          "name": "stdout",
          "text": [
            "+-----------+------------------+\n",
            "|   category|     average_price|\n",
            "+-----------+------------------+\n",
            "| Stationery|               1.5|\n",
            "|  Groceries|0.4666666666666666|\n",
            "|Electronics|             450.0|\n",
            "|   Clothing|              30.0|\n",
            "+-----------+------------------+\n",
            "\n"
          ]
        }
      ]
    },
    {
      "cell_type": "markdown",
      "source": [
        "**5. Find the Top 3 Highest Grossing Products**"
      ],
      "metadata": {
        "id": "beRljDrOglOl"
      }
    },
    {
      "cell_type": "code",
      "source": [
        "top_3_grossing_products = df.groupBy(\"product_name\").agg(sum(col(\"price\") * col(\"quantity\")).alias(\"total_revenue\")).orderBy(col(\"total_revenue\").desc()).limit(3)\n",
        "top_3_grossing_products.show()"
      ],
      "metadata": {
        "colab": {
          "base_uri": "https://localhost:8080/"
        },
        "id": "bryEy5yCf4cn",
        "outputId": "79a269b6-f655-42ee-aebd-e69ed5650f53"
      },
      "execution_count": 79,
      "outputs": [
        {
          "output_type": "stream",
          "name": "stdout",
          "text": [
            "+------------+-------------+\n",
            "|product_name|total_revenue|\n",
            "+------------+-------------+\n",
            "|      Laptop|        800.0|\n",
            "|  Headphones|        200.0|\n",
            "|       Pants|         75.0|\n",
            "+------------+-------------+\n",
            "\n"
          ]
        }
      ]
    },
    {
      "cell_type": "markdown",
      "source": [
        "**6. Calculate the Total Number of Items Sold per Day**"
      ],
      "metadata": {
        "id": "ZaTCPT2wgpB_"
      }
    },
    {
      "cell_type": "code",
      "source": [
        "total_items_sold_per_day = df.groupBy(\"sales_date\").agg(sum(\"quantity\").alias(\"total_quantity\"))\n",
        "total_items_sold_per_day.show()\n"
      ],
      "metadata": {
        "colab": {
          "base_uri": "https://localhost:8080/"
        },
        "id": "SKUCVffef28P",
        "outputId": "a01ff076-267d-444a-9dbe-d40f3a22b3d8"
      },
      "execution_count": 80,
      "outputs": [
        {
          "output_type": "stream",
          "name": "stdout",
          "text": [
            "+----------+--------------+\n",
            "|sales_date|total_quantity|\n",
            "+----------+--------------+\n",
            "|2023-09-03|             4|\n",
            "|2023-09-01|            12|\n",
            "|2023-09-05|             9|\n",
            "|2023-09-02|            17|\n",
            "|2023-09-04|            12|\n",
            "+----------+--------------+\n",
            "\n"
          ]
        }
      ]
    },
    {
      "cell_type": "markdown",
      "source": [
        "**7. Identify the Product with the Lowest Price in Each Category**"
      ],
      "metadata": {
        "id": "_kt5jytugsec"
      }
    },
    {
      "cell_type": "code",
      "source": [
        "from pyspark.sql.functions import min, col\n",
        "lowest_price_product = df.groupBy(\"category\").agg(min(\"price\").alias(\"lowest_price\"))\n",
        "lowest_price_product.show()\n"
      ],
      "metadata": {
        "colab": {
          "base_uri": "https://localhost:8080/"
        },
        "id": "KLuqn9hZf1Wf",
        "outputId": "0a7cfc99-de9b-4762-adbb-38c65c9cd74b"
      },
      "execution_count": 82,
      "outputs": [
        {
          "output_type": "stream",
          "name": "stdout",
          "text": [
            "+-----------+------------+\n",
            "|   category|lowest_price|\n",
            "+-----------+------------+\n",
            "| Stationery|         1.0|\n",
            "|  Groceries|         0.3|\n",
            "|Electronics|       100.0|\n",
            "|   Clothing|        15.0|\n",
            "+-----------+------------+\n",
            "\n"
          ]
        }
      ]
    },
    {
      "cell_type": "markdown",
      "source": [
        "**8. Calculate the Total Revenue for Each Product**"
      ],
      "metadata": {
        "id": "gwigwMMVgwp_"
      }
    },
    {
      "cell_type": "code",
      "source": [
        "total_revenue_per_product = df.groupBy(\"product_name\").agg(sum(col(\"price\") * col(\"quantity\")).alias(\"total_revenue\"))\n",
        "total_revenue_per_product.show()"
      ],
      "metadata": {
        "colab": {
          "base_uri": "https://localhost:8080/"
        },
        "id": "TjbsKpvFfz6S",
        "outputId": "3008fb24-e231-477a-c1f3-b5dc1332f3ea"
      },
      "execution_count": 83,
      "outputs": [
        {
          "output_type": "stream",
          "name": "stdout",
          "text": [
            "+------------+------------------+\n",
            "|product_name|     total_revenue|\n",
            "+------------+------------------+\n",
            "|     T-shirt|              30.0|\n",
            "|    Sneakers|              50.0|\n",
            "|      Orange|               4.8|\n",
            "|      Banana|3.5999999999999996|\n",
            "|         Pen|              10.0|\n",
            "|       Pants|              75.0|\n",
            "|      Laptop|             800.0|\n",
            "|    Notebook|              10.0|\n",
            "|       Apple|               5.0|\n",
            "|  Headphones|             200.0|\n",
            "+------------+------------------+\n",
            "\n"
          ]
        }
      ]
    },
    {
      "cell_type": "markdown",
      "source": [
        "**9. Find the Total Sales per Day for Each Category**"
      ],
      "metadata": {
        "id": "z1bGA6L3gz6X"
      }
    },
    {
      "cell_type": "code",
      "source": [
        "total_sales_per_day_per_category = df.groupBy(\"sales_date\", \"category\").agg(sum(col(\"price\") * col(\"quantity\")).alias(\"total_sales\"))\n",
        "total_sales_per_day_per_category.show()"
      ],
      "metadata": {
        "colab": {
          "base_uri": "https://localhost:8080/"
        },
        "id": "si7GUNMmfyZz",
        "outputId": "d09bf14c-e0ed-4a20-80aa-c96f6e7ab79c"
      },
      "execution_count": 84,
      "outputs": [
        {
          "output_type": "stream",
          "name": "stdout",
          "text": [
            "+----------+-----------+------------------+\n",
            "|sales_date|   category|       total_sales|\n",
            "+----------+-----------+------------------+\n",
            "|2023-09-03|Electronics|             800.0|\n",
            "|2023-09-01|  Groceries|               5.0|\n",
            "|2023-09-01|   Clothing|              30.0|\n",
            "|2023-09-02| Stationery|              10.0|\n",
            "|2023-09-04| Stationery|              10.0|\n",
            "|2023-09-02|  Groceries|3.5999999999999996|\n",
            "|2023-09-05|  Groceries|               4.8|\n",
            "|2023-09-05|   Clothing|              50.0|\n",
            "|2023-09-03|   Clothing|              75.0|\n",
            "|2023-09-04|Electronics|             200.0|\n",
            "+----------+-----------+------------------+\n",
            "\n"
          ]
        }
      ]
    },
    {
      "cell_type": "markdown",
      "source": [
        "**10. Create a New Column for Discounted Price**"
      ],
      "metadata": {
        "id": "3KqbohUGg3tb"
      }
    },
    {
      "cell_type": "code",
      "source": [
        "df = df.withColumn(\"discounted_price\", col(\"price\") * 0.9)\n",
        "df.show()"
      ],
      "metadata": {
        "colab": {
          "base_uri": "https://localhost:8080/"
        },
        "id": "BiYNtme9fw4E",
        "outputId": "f0b30f8a-a177-46d5-8c49-ebca0192e0fd"
      },
      "execution_count": 85,
      "outputs": [
        {
          "output_type": "stream",
          "name": "stdout",
          "text": [
            "+--------------+------------+-----------+-----+--------+----------+----------------+\n",
            "|transaction_id|product_name|   category|price|quantity|sales_date|discounted_price|\n",
            "+--------------+------------+-----------+-----+--------+----------+----------------+\n",
            "|             1|       Apple|  Groceries|  0.5|      10|2023-09-01|            0.45|\n",
            "|             2|     T-shirt|   Clothing| 15.0|       2|2023-09-01|            13.5|\n",
            "|             3|    Notebook| Stationery|  2.0|       5|2023-09-02|             1.8|\n",
            "|             4|      Banana|  Groceries|  0.3|      12|2023-09-02|            0.27|\n",
            "|             5|      Laptop|Electronics|800.0|       1|2023-09-03|           720.0|\n",
            "|             6|       Pants|   Clothing| 25.0|       3|2023-09-03|            22.5|\n",
            "|             7|  Headphones|Electronics|100.0|       2|2023-09-04|            90.0|\n",
            "|             8|         Pen| Stationery|  1.0|      10|2023-09-04|             0.9|\n",
            "|             9|      Orange|  Groceries|  0.6|       8|2023-09-05|            0.54|\n",
            "|            10|    Sneakers|   Clothing| 50.0|       1|2023-09-05|            45.0|\n",
            "+--------------+------------+-----------+-----+--------+----------+----------------+\n",
            "\n"
          ]
        }
      ]
    }
  ]
}