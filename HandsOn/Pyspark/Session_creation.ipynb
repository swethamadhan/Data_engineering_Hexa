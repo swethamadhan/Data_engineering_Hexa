{
  "nbformat": 4,
  "nbformat_minor": 0,
  "metadata": {
    "colab": {
      "provenance": []
    },
    "kernelspec": {
      "name": "python3",
      "display_name": "Python 3"
    },
    "language_info": {
      "name": "python"
    }
  },
  "cells": [
    {
      "cell_type": "code",
      "execution_count": null,
      "metadata": {
        "colab": {
          "base_uri": "https://localhost:8080/"
        },
        "id": "IyHZBVFXH-VI",
        "outputId": "bd334a8f-6d7e-4d6a-b921-9935a7a98136"
      },
      "outputs": [
        {
          "output_type": "stream",
          "name": "stdout",
          "text": [
            "Collecting pyspark\n",
            "  Downloading pyspark-3.5.2.tar.gz (317.3 MB)\n",
            "\u001b[2K     \u001b[90m━━━━━━━━━━━━━━━━━━━━━━━━━━━━━━━━━━━━━━━━\u001b[0m \u001b[32m317.3/317.3 MB\u001b[0m \u001b[31m4.8 MB/s\u001b[0m eta \u001b[36m0:00:00\u001b[0m\n",
            "\u001b[?25h  Preparing metadata (setup.py) ... \u001b[?25l\u001b[?25hdone\n",
            "Requirement already satisfied: py4j==0.10.9.7 in /usr/local/lib/python3.10/dist-packages (from pyspark) (0.10.9.7)\n",
            "Building wheels for collected packages: pyspark\n",
            "  Building wheel for pyspark (setup.py) ... \u001b[?25l\u001b[?25hdone\n",
            "  Created wheel for pyspark: filename=pyspark-3.5.2-py2.py3-none-any.whl size=317812365 sha256=0c58e7a894ae937f8a8cb41bcd5ebed59deb74162ef429e287634319f0b495bb\n",
            "  Stored in directory: /root/.cache/pip/wheels/34/34/bd/03944534c44b677cd5859f248090daa9fb27b3c8f8e5f49574\n",
            "Successfully built pyspark\n",
            "Installing collected packages: pyspark\n",
            "Successfully installed pyspark-3.5.2\n"
          ]
        }
      ],
      "source": [
        "!pip install pyspark"
      ]
    },
    {
      "cell_type": "code",
      "source": [
        "from pyspark.sql import SparkSession\n",
        "from pyspark.sql.functions import col\n",
        "\n",
        "# Initialize SparkSession\n",
        "spark = SparkSession.builder \\\n",
        "    .appName(\"Customer Transactions Analysis\") \\\n",
        "    .getOrCreate()\n",
        "\n",
        "# Sample data for customers\n",
        "customers = [\n",
        "    (1, \"Ravi\", \"Mumbai\"),\n",
        "    (2, \"Priya\", \"Delhi\"),\n",
        "    (3, \"Vijay\", \"Bangalore\"),\n",
        "    (4, \"Anita\", \"Chennai\"),\n",
        "    (5, \"Baj\", \"Hyderabad\")\n",
        "]\n",
        "\n",
        "# Sample data for transactions\n",
        "transactions = [\n",
        "    (1, 1, 10000.50),\n",
        "    (2, 2, 20000.75),\n",
        "    (3, 1, 15000.25),\n",
        "    (4, 3, 30000.00),\n",
        "    (5, 2, 40000.50),\n",
        "    (6, 4, 25000.00),\n",
        "    (7, 5, 18000.75),\n",
        "    (8, 1, 5000.00)\n",
        "]\n",
        "\n",
        "# Define schema for DataFrames\n",
        "\n",
        "customer_columns = [\"CustomerID\", \"Name\", \"City\"]\n",
        "\n",
        "transaction_columns = [\"TransactionID\", \"CustomerID\", \"Amount\"]\n",
        "\n",
        "#Create DataFrames\n",
        "\n",
        "customer_df = spark.createDataFrame (customers, schema=customer_columns)\n",
        "\n",
        "transaction_df = spark.createDataFrame (transactions, schema=transaction_columns)\n",
        "\n",
        "# Show the DataFrames\n",
        "\n",
        "print(\"Customers DataFrame:\")\n",
        "\n",
        "customer_df.show()\n",
        "\n",
        "print(\"Transactions DataFrame:\")\n",
        "\n",
        "transaction_df.show()"
      ],
      "metadata": {
        "colab": {
          "base_uri": "https://localhost:8080/"
        },
        "id": "OH6BPzKzICFs",
        "outputId": "bac72205-8c0b-4769-e2b5-7462403ca55b"
      },
      "execution_count": null,
      "outputs": [
        {
          "output_type": "stream",
          "name": "stdout",
          "text": [
            "Customers DataFrame:\n",
            "+----------+-----+---------+\n",
            "|CustomerID| Name|     City|\n",
            "+----------+-----+---------+\n",
            "|         1| Ravi|   Mumbai|\n",
            "|         2|Priya|    Delhi|\n",
            "|         3|Vijay|Bangalore|\n",
            "|         4|Anita|  Chennai|\n",
            "|         5|  Baj|Hyderabad|\n",
            "+----------+-----+---------+\n",
            "\n",
            "Transactions DataFrame:\n",
            "+-------------+----------+--------+\n",
            "|TransactionID|CustomerID|  Amount|\n",
            "+-------------+----------+--------+\n",
            "|            1|         1| 10000.5|\n",
            "|            2|         2|20000.75|\n",
            "|            3|         1|15000.25|\n",
            "|            4|         3| 30000.0|\n",
            "|            5|         2| 40000.5|\n",
            "|            6|         4| 25000.0|\n",
            "|            7|         5|18000.75|\n",
            "|            8|         1|  5000.0|\n",
            "+-------------+----------+--------+\n",
            "\n"
          ]
        }
      ]
    },
    {
      "cell_type": "code",
      "source": [
        "#Join the DataFrames on CustomerID\n",
        "customer_transactions_df = customer_df.join(transaction_df, on=\"CustomerID\")\n",
        "print(\"Customer Transactions DataFrame:\")\n",
        "customer_transactions_df.show()\n",
        "\n",
        "# Calculate the total amount spent by each customer\n",
        "total_spent_df = customer_transactions_df.groupBy(\"Name\").sum(\"Amount\").withColumnRenamed(\"sum(Amount)\", \"TotalSpent\")\n",
        "\n",
        "print(\"Total Amount Spent by Each Customer:\")\n",
        "total_spent_df.show()\n",
        "\n",
        "# Find customers who have spent more than 30,000\n",
        "big_spenders_df = total_spent_df.filter(total_spent_df.TotalSpent > 30000)\n",
        "\n",
        "print(\"Customers Who Spent More Than 30,000:\")\n",
        "big_spenders_df.show()\n",
        "\n",
        "## Count the number of transactions per customer\n",
        "transactions_count_df = customer_transactions_df.groupBy(\"Name\").count().withColumnRenamed(\"count\",\n",
        "\"TransactionCount\")\n",
        "print(\"Number of Transactions Per Customer:\")\n",
        "transactions_count_df.show()\n",
        "\n",
        "## Sort customers by total amount spent in descending order\n",
        "sorted_spenders_df = total_spent_df.orderBy (col (\"TotalSpent\").desc())\n",
        "print(\"Customers Sorted by Total Spent (Descending):\")\n",
        "sorted_spenders_df.show()"
      ],
      "metadata": {
        "colab": {
          "base_uri": "https://localhost:8080/"
        },
        "id": "n004YSj-K6zw",
        "outputId": "d9418f9a-a92e-4309-aa1e-24e680f584ad"
      },
      "execution_count": null,
      "outputs": [
        {
          "output_type": "stream",
          "name": "stdout",
          "text": [
            "Customer Transactions DataFrame:\n",
            "+----------+-----+---------+-------------+--------+\n",
            "|CustomerID| Name|     City|TransactionID|  Amount|\n",
            "+----------+-----+---------+-------------+--------+\n",
            "|         1| Ravi|   Mumbai|            1| 10000.5|\n",
            "|         1| Ravi|   Mumbai|            3|15000.25|\n",
            "|         1| Ravi|   Mumbai|            8|  5000.0|\n",
            "|         2|Priya|    Delhi|            2|20000.75|\n",
            "|         2|Priya|    Delhi|            5| 40000.5|\n",
            "|         3|Vijay|Bangalore|            4| 30000.0|\n",
            "|         4|Anita|  Chennai|            6| 25000.0|\n",
            "|         5|  Baj|Hyderabad|            7|18000.75|\n",
            "+----------+-----+---------+-------------+--------+\n",
            "\n",
            "Total Amount Spent by Each Customer:\n",
            "+-----+----------+\n",
            "| Name|TotalSpent|\n",
            "+-----+----------+\n",
            "| Ravi|  30000.75|\n",
            "|  Baj|  18000.75|\n",
            "|Priya|  60001.25|\n",
            "|Vijay|   30000.0|\n",
            "|Anita|   25000.0|\n",
            "+-----+----------+\n",
            "\n",
            "Customers Who Spent More Than 30,000:\n",
            "+-----+----------+\n",
            "| Name|TotalSpent|\n",
            "+-----+----------+\n",
            "| Ravi|  30000.75|\n",
            "|Priya|  60001.25|\n",
            "+-----+----------+\n",
            "\n",
            "Number of Transactions Per Customer:\n",
            "+-----+----------------+\n",
            "| Name|TransactionCount|\n",
            "+-----+----------------+\n",
            "| Ravi|               3|\n",
            "|  Baj|               1|\n",
            "|Priya|               2|\n",
            "|Vijay|               1|\n",
            "|Anita|               1|\n",
            "+-----+----------------+\n",
            "\n",
            "Customers Sorted by Total Spent (Descending):\n",
            "+-----+----------+\n",
            "| Name|TotalSpent|\n",
            "+-----+----------+\n",
            "|Priya|  60001.25|\n",
            "| Ravi|  30000.75|\n",
            "|Vijay|   30000.0|\n",
            "|Anita|   25000.0|\n",
            "|  Baj|  18000.75|\n",
            "+-----+----------+\n",
            "\n"
          ]
        }
      ]
    }
  ]
}