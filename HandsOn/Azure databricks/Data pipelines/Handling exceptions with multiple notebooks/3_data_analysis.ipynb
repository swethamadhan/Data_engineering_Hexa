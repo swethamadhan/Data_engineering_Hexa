{
  "nbformat": 4,
  "nbformat_minor": 0,
  "metadata": {
    "colab": {
      "provenance": []
    },
    "kernelspec": {
      "name": "python3",
      "display_name": "Python 3"
    },
    "language_info": {
      "name": "python"
    }
  },
  "cells": [
    {
      "cell_type": "markdown",
      "source": [
        "connecting multiple files for exception\n",
        "\n",
        "load_missing_file --> retry_file_load --> data analysis"
      ],
      "metadata": {
        "id": "LNzc0GKqlSL5"
      }
    },
    {
      "cell_type": "code",
      "execution_count": null,
      "metadata": {
        "id": "pQMAk9c7V9R4"
      },
      "outputs": [],
      "source": [
        "#Define Delta table path\n",
        "delta_table_path = \"/delta/transformed_data\"\n",
        "\n",
        "\n",
        "# Check if the Delta table exists\n",
        "try:\n",
        "  spark.sql(f\"DESCRIBE HISTORY delta. (delta_table_path}\").show()\n",
        "  #If table exists, perform analysis\n",
        "  df spark.read.format(\"delta\").load(delta_table_path)\n",
        "  df.groupBy(\"Department\").avg(\"Salary\").show()\n",
        "  print(\"Data analysis completed successfully.\")\n",
        "except AnalysisException as e:\n",
        "  print(f\"Data not found or incomplete: {str(e)}. Skipping analysis.\")"
      ]
    }
  ]
}