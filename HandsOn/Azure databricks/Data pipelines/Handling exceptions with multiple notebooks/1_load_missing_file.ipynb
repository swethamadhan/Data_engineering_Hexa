{
  "nbformat": 4,
  "nbformat_minor": 0,
  "metadata": {
    "colab": {
      "provenance": []
    },
    "kernelspec": {
      "name": "python3",
      "display_name": "Python 3"
    },
    "language_info": {
      "name": "python"
    }
  },
  "cells": [
    {
      "cell_type": "markdown",
      "source": [
        "connecting multiple files for exception\n",
        "\n",
        "load_missing_file --> retry_file_load --> data analysis"
      ],
      "metadata": {
        "id": "n-63GxxHk7Ur"
      }
    },
    {
      "cell_type": "code",
      "execution_count": null,
      "metadata": {
        "id": "WnTF2uL8U4ae"
      },
      "outputs": [],
      "source": [
        "from pyspark.sql import SparkSession\n",
        "from pyspark.sql.utils\n",
        "import AnalysisException import os\n",
        "\n",
        "# Initialize Spark session\n",
        "spark = SparkSession.builder.appName(\"RobustDataLoading\").getOrCreate()\n",
        "\n",
        "# Define file path\n",
        "file_path = \"/dbfs/mnt/data/input_data.csv\"\n",
        "\n",
        "#Check if file exists\n",
        "if os.path.exists(file_path):\n",
        "  #Load the data\n",
        "  try:\n",
        "    df = spark.read.format(\"csv\").option(\"header\", \"true\").load(file_path)\n",
        "    print(\"Data loaded successfully.\")\n",
        "  except AnalysisException as e:\n",
        "    print(f\"Failed to load data: (str(e)}\")\n",
        "  else:\n",
        "   #Log missing file error\n",
        "   print(f\"File not found: (file_path)\")"
      ]
    }
  ]
}