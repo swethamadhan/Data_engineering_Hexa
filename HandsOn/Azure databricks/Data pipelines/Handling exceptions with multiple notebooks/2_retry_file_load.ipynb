{
  "nbformat": 4,
  "nbformat_minor": 0,
  "metadata": {
    "colab": {
      "provenance": []
    },
    "kernelspec": {
      "name": "python3",
      "display_name": "Python 3"
    },
    "language_info": {
      "name": "python"
    }
  },
  "cells": [
    {
      "cell_type": "markdown",
      "source": [
        "connecting multiple files for exception\n",
        "\n",
        "load_missing_file --> retry_file_load --> data analysis"
      ],
      "metadata": {
        "id": "7cYmPDVdlQWu"
      }
    },
    {
      "cell_type": "code",
      "execution_count": null,
      "metadata": {
        "id": "8PjZxa4TVlot"
      },
      "outputs": [],
      "source": [
        "from pyspark.sql.functions import col\n",
        "import time\n",
        "\n",
        "#Number of retries\n",
        "max_retries = 3\n",
        "retries = 0\n",
        "success = False\n",
        "\n",
        "# Define the transformation logic\n",
        "def transform_data():\n",
        "  df = spark.read.format(\"csv\").option(\"header\", \"true\").load(\"/dbfs/mnt/data/input_data.csv\")\n",
        "  df_transformed = df.withColumn(\"Salary\", col(\"Salary\").cast(\"double\") * 1.1)\n",
        "  df_transformed.write.format(\"delta\").mode(\"overwrite\").save(\"/delta/transformed_data\")\n",
        "  print(\"Data transformed successfully.\")\n",
        "\n",
        "# Retry loop\n",
        "while retries < max_retries and not success:\n",
        "  try:\n",
        "    transform_data()\n",
        "    success = True\n",
        "  except Exception as e:\n",
        "    retries += 1\n",
        "    print(f\"Transformation failed. Retry (retries}/{max_retries}\")\n",
        "    time.sleep(5)\n",
        "if not success:\n",
        "  print(\"Transformation failed after max retries.\")"
      ]
    }
  ]
}