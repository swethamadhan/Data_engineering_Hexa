{
  "nbformat": 4,
  "nbformat_minor": 0,
  "metadata": {
    "colab": {
      "provenance": []
    },
    "kernelspec": {
      "name": "python3",
      "display_name": "Python 3"
    },
    "language_info": {
      "name": "python"
    }
  },
  "cells": [
    {
      "cell_type": "markdown",
      "source": [
        "connecting  notebook in data bricks\n",
        "\n",
        "data_loading\n",
        "data_transformation\n",
        "data analysis\n",
        "\n",
        "each notebook is dependent on other notebook\n",
        "\n",
        "data loading --> data transformation --> data analysis\n",
        "\n",
        "data loading file is connected to transformation and transformation is connected to analysis file"
      ],
      "metadata": {
        "id": "f7zMqvMY8_iu"
      }
    },
    {
      "cell_type": "code",
      "execution_count": null,
      "metadata": {
        "id": "TkUChBuO8vIG"
      },
      "outputs": [],
      "source": [
        "from pyspark.sql.functions import col\n",
        "\n",
        "#Read from Delta table\n",
        "df = spark.read.format(\"delta\").load(\"/delta/sample_data\")\n",
        "\n",
        "#Apply transformation (increase salary by 10%)\n",
        "df_transformed df.withColumn(\"Salary\", col(\"Salary\") * 1.1)\n",
        "\n",
        "#Save the transformed data to Delta\n",
        "df_tradsformed.write.format(\"delta\").mode(\"overwrite\").save(\"/delta/transformed_data\")\n",
        "\n",
        "print(\"Data transformed and saved.\")"
      ]
    }
  ]
}