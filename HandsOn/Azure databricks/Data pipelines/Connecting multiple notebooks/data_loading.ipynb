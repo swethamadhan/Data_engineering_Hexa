{
  "nbformat": 4,
  "nbformat_minor": 0,
  "metadata": {
    "colab": {
      "provenance": []
    },
    "kernelspec": {
      "name": "python3",
      "display_name": "Python 3"
    },
    "language_info": {
      "name": "python"
    }
  },
  "cells": [
    {
      "cell_type": "markdown",
      "source": [
        "connecting  notebook in data bricks\n",
        "\n",
        "data_loading\n",
        "data_transformation\n",
        "data analysis\n",
        "\n",
        "each notebook is dependent on other notebook\n",
        "\n",
        "data loading --> data transformation --> data analysis\n",
        "\n",
        "data loading file is connected to transformation and transformation is connected to analysis file"
      ],
      "metadata": {
        "id": "kbuKB-8N823Y"
      }
    },
    {
      "cell_type": "code",
      "execution_count": null,
      "metadata": {
        "id": "Ra5Jmsgg8haK"
      },
      "outputs": [],
      "source": [
        "from pyspark.sql import Sparksession\n",
        "from pyspark.sql.functions import col\n",
        "\n",
        "# Initialize Spark Session\n",
        "spark = SparkSession.builder.appName(\"DataLoading\").getOrCreate()\n",
        "\n",
        "# Sample data\n",
        "data = [(1, \"Abdullah\", 1000), (2, \"Sharma\", 1500), (3, \"Suman\", 1200)] columns = [\"ID\", \"Name\", \"Salary\"]\n",
        "\n",
        "# Create DataFrame\n",
        "df = spark.createDataFrame (data, columns)\n",
        "\n",
        "# Write DataFrame to Delta table\n",
        "df.write.format(\"delta\").mode(\"overwrite\").save(\"/delta/sample_data\")\n",
        "\n",
        "print(\"Data loaded and saved as Delta table.\")"
      ]
    }
  ]
}