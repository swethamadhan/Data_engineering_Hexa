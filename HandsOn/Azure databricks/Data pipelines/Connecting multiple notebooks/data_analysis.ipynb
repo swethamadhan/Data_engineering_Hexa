{
  "nbformat": 4,
  "nbformat_minor": 0,
  "metadata": {
    "colab": {
      "provenance": []
    },
    "kernelspec": {
      "name": "python3",
      "display_name": "Python 3"
    },
    "language_info": {
      "name": "python"
    }
  },
  "cells": [
    {
      "cell_type": "markdown",
      "source": [
        "connecting  notebook in data bricks\n",
        "\n",
        "data_loading\n",
        "data_transformation\n",
        "data analysis\n",
        "\n",
        "each notebook is dependent on other notebook\n",
        "\n",
        "data loading --> data transformation --> data analysis\n",
        "\n",
        "data loading file is connected to transformation and transformation is connected to analysis file"
      ],
      "metadata": {
        "id": "jhiPAZuj9MYy"
      }
    },
    {
      "cell_type": "code",
      "execution_count": null,
      "metadata": {
        "id": "BqB36Da39Lpy"
      },
      "outputs": [],
      "source": [
        "#Read from transformed Delta table\n",
        "df spark.read.format(\"delta\").load(\"/delta/transformed_date\")\n",
        "\n",
        "#Perform analysis: Calculate the average salary\n",
        "df.groupBy().avg(\"Salary\").show()\n",
        "\n",
        "print(\"Data analysis complete.\")"
      ]
    }
  ]
}