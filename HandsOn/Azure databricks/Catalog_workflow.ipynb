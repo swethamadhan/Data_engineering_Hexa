{
  "nbformat": 4,
  "nbformat_minor": 0,
  "metadata": {
    "colab": {
      "provenance": []
    },
    "kernelspec": {
      "name": "python3",
      "display_name": "Python 3"
    },
    "language_info": {
      "name": "python"
    }
  },
  "cells": [
    {
      "cell_type": "markdown",
      "source": [
        "unity catalog"
      ],
      "metadata": {
        "id": "tAFIMeuoYNTd"
      }
    },
    {
      "cell_type": "code",
      "source": [
        "%sql\n",
        "-- Part 1: Setting Up the Environment\n",
        "\n",
        "-- Task 1: Create a Metastore\n",
        "\n",
        "-- Task 2: Create Department-Specific Catalogs\n",
        "\n",
        "CREATE CATALOG marketing_data;\n",
        "CREATE CATALOG engineering_data;\n",
        "CREATE CATALOG operations_data;\n",
        "\n",
        "-- Task 3: Create Schemas for Each Department\n",
        "\n",
        "-- Marketing\n",
        "CREATE SCHEMA marketing_data.ads_data;\n",
        "CREATE SCHEMA marketing_data.customer_data;\n",
        "\n",
        "-- Engineering\n",
        "CREATE SCHEMA engineering_data.projects;\n",
        "CREATE SCHEMA engineering_data.development_data;\n",
        "\n",
        "-- Operations\n",
        "CREATE SCHEMA operations_data.logistics;\n",
        "CREATE SCHEMA operations_data.supply_chain;\n",
        "\n"
      ],
      "metadata": {
        "colab": {
          "base_uri": "https://localhost:8080/",
          "height": 106
        },
        "id": "yut8PHefVsoa",
        "outputId": "4ff638a6-2b78-4760-e1c6-e03d909307a9"
      },
      "execution_count": 1,
      "outputs": [
        {
          "output_type": "error",
          "ename": "SyntaxError",
          "evalue": "invalid syntax (<ipython-input-1-506950c48334>, line 20)",
          "traceback": [
            "\u001b[0;36m  File \u001b[0;32m\"<ipython-input-1-506950c48334>\"\u001b[0;36m, line \u001b[0;32m20\u001b[0m\n\u001b[0;31m    CREATE CATALOG IF NOT EXISTS marketing;\u001b[0m\n\u001b[0m           ^\u001b[0m\n\u001b[0;31mSyntaxError\u001b[0m\u001b[0;31m:\u001b[0m invalid syntax\n"
          ]
        }
      ]
    },
    {
      "cell_type": "code",
      "source": [
        "%sql\n",
        "-- Part 2: Loading Data and Creating Tables\n",
        "\n",
        "-- Task 4: Prepare Datasets and Task 5: Create Tables from the Datasets\n",
        "\n",
        "-- Marketing ads_data\n",
        "CREATE TABLE marketing_data.ads_data.ads (\n",
        "  ad_id INT,\n",
        "  impressions INT,\n",
        "  clicks INT,\n",
        "  cost_per_click FLOAT\n",
        ");\n",
        "\n",
        "INSERT INTO marketing_data.ads_data.ads\n",
        "VALUES\n",
        "  (1, 1000, 50, 0.75),\n",
        "  (2, 1500, 75, 0.60),\n",
        "  (3, 2000, 90, 0.85);\n",
        "\n",
        "-- Engineering projects_data\n",
        "CREATE TABLE engineering_data.projects.projects_data (\n",
        "  project_id INT,\n",
        "  project_name STRING,\n",
        "  start_date DATE,\n",
        "  end_date DATE\n",
        ");\n",
        "\n",
        "INSERT INTO engineering_data.projects.projects_data\n",
        "VALUES\n",
        "  (101, 'Project Alpha', '2024-01-01', '2024-06-01'),\n",
        "  (102, 'Project Beta', '2024-02-01', '2024-07-01'),\n",
        "  (103, 'Project Gamma', '2024-03-01', '2024-08-01');\n",
        "\n",
        "-- Operations logistics_data\n",
        "CREATE TABLE operations_data.logistics.logistics_data(\n",
        "  shipment_id INT,\n",
        "  origin STRING,\n",
        "  destination STRING,\n",
        "  status STRING\n",
        ");\n",
        "\n",
        "INSERT INTO operations_data.logistics.logistics_data\n",
        "VALUES\n",
        "  (1001, 'New York', 'Los Angeles', 'In Transit'),\n",
        "  (1002, 'Chicago', 'Houston', 'Delivered'),\n",
        "  (1003, 'San Francisco', 'Seattle', 'Pending');"
      ],
      "metadata": {
        "id": "uHPhXcoJo5GI"
      },
      "execution_count": 2,
      "outputs": []
    },
    {
      "cell_type": "code",
      "source": [
        "%sql\n",
        "-- Part 3: Data Governance Capabilities\n",
        "-- Data Access Control\n",
        "\n",
        "-- Task 6: Create Roles and Grant Access\n",
        "\n",
        "GRANT USAGE ON CATALOG marketing_data TO `marketing_group`;\n",
        "GRANT SELECT ON SCHEMA marketing_data.ads_data TO `marketing_group`;\n",
        "GRANT SELECT ON TABLE marketing_data.ads_data.ads TO `marketing_group`;\n",
        "\n",
        "\n",
        "-- Task 7: Configure Fine-Grained Access Control\n",
        "\n",
        "-- users in the marketing department can only access marketing data\n",
        "GRANT SELECT ON TABLE marketing_data.ads_data.ads TO `user@example.com`;\n",
        "\n",
        "-- engineers can only access project data.\n",
        "REVOKE SELECT ON TABLE engineering_data.projects.projects_data FROM `user@example.com`;\n",
        "\n",
        "-- operations_role full access to logistics data\n",
        "GRANT ALL PRIVILEGES ON TABLE operations_data.logistics.logistics_data TO `user@example.com`\n",
        "\n"
      ],
      "metadata": {
        "id": "p19sfH30pRMQ"
      },
      "execution_count": null,
      "outputs": []
    },
    {
      "cell_type": "code",
      "source": [
        "%sql\n",
        "-- Data Discovery\n",
        "-- Task 10: Explore Metadata in Unity Catalog\n",
        "\n",
        "-- View the schema of a table\n",
        "DESCRIBE TABLE marketing_data.ads_data.ads;\n",
        "\n",
        "-- Get extended metadata about the table\n",
        "DESCRIBE EXTENDED engineering_data.projects.projects_data;\n",
        "\n",
        "-- View the number of rows and other statistics\n",
        "ANALYZE TABLE operations_data.logistics.logistics_data COMPUTE STATISTICS;\n",
        "\n",
        "\n",
        "-- description to a catalog\n",
        "COMMENT ON CATALOG marketing_data IS 'Catalog for marketing-related data.';\n",
        "\n",
        "-- Add a comment to the ads_data schema\n",
        "COMMENT ON SCHEMA marketing_data.ads_data IS 'This schema contains ads performance data for marketing.';\n",
        "\n",
        "-- description to a table\n",
        "COMMENT ON TABLE marketing_data.ads_data.ads IS 'This table stores ad performance data for marketing campaigns.';\n"
      ],
      "metadata": {
        "id": "eZDku54fv33V"
      },
      "execution_count": null,
      "outputs": []
    }
  ]
}