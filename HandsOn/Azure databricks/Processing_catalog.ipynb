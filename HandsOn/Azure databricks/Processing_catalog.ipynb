{
  "nbformat": 4,
  "nbformat_minor": 0,
  "metadata": {
    "colab": {
      "provenance": []
    },
    "kernelspec": {
      "name": "python3",
      "display_name": "Python 3"
    },
    "language_info": {
      "name": "python"
    }
  },
  "cells": [
    {
      "cell_type": "code",
      "source": [
        "%sql\n",
        "# Create a Unity Catalog database\n",
        "CREATE DATABASE IF NOT EXISTS catalog_example;\n",
        "\n",
        "# Use the database\n",
        "USE catalog_example;\n",
        "\n",
        "# Create a table using the nyctaxi data\n",
        "CREATE TABLE nyc_taxi_trips\n",
        "USING DELTA\n",
        "AS SELECT * FROM samples.nyctaxi.trips;\n",
        "\n",
        "#Show the created tables\n",
        "SHOW TABLES IN catalog_example;"
      ],
      "metadata": {
        "id": "JpAIhHRKcm9n"
      },
      "execution_count": null,
      "outputs": []
    },
    {
      "cell_type": "code",
      "source": [
        "#Switch to the catalog and create a database\n",
        "spark.sql(\"CREATE DATABASE IF NOT EXISTS catalog_example1\")\n",
        "spark.sql(\"USE catalog_example1\")\n",
        "\n",
        "#Create a new table using the nyctaxi data\n",
        "df spark.table(\"samples.nyctaxi.trips\")\n",
        "df.write.format(\"delta\").saveAsTable(\"catalog_example1.nyc_taxi_trips\")\n",
        "\n",
        "#Display the created tables\n",
        "spark.sql(\"SHOW TABLES\").show()"
      ],
      "metadata": {
        "id": "4NDs03mLc45Y"
      },
      "execution_count": null,
      "outputs": []
    },
    {
      "cell_type": "code",
      "source": [
        "%sql\n",
        "\n",
        "#select the first rows from the nyc_taxi_trips table\n",
        "\n",
        "select * from catalog_example1.nyc_taxi_trips limit 10"
      ],
      "metadata": {
        "id": "IA468RtLj1XV"
      },
      "execution_count": null,
      "outputs": []
    },
    {
      "cell_type": "code",
      "source": [
        "#read the data from unity catalog using pyspark\n",
        "df = spark.table(\"catalog_example1.nyc_taxi_trips\")\n",
        "df.show(10)"
      ],
      "metadata": {
        "id": "7PqPq7omj7z4"
      },
      "execution_count": null,
      "outputs": []
    },
    {
      "cell_type": "code",
      "source": [
        "%sql\n",
        "\n",
        "#grant read access to a speacific user or group\n",
        "grant select on catalog_example1.nyc_taxi_trips to 'dsfdsdf@gmail.com'\n",
        "\n",
        "#grant full access to a user\n",
        "grant all privileges on catalog_example1.nyc_taxi_trips to 'dsfdsdf@gmail.com'"
      ],
      "metadata": {
        "id": "NJpjnz3Bkd9g"
      },
      "execution_count": null,
      "outputs": []
    },
    {
      "cell_type": "code",
      "source": [],
      "metadata": {
        "id": "JSQHa_HvmMRo"
      },
      "execution_count": null,
      "outputs": []
    }
  ]
}