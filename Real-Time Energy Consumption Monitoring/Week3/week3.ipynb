{
  "nbformat": 4,
  "nbformat_minor": 0,
  "metadata": {
    "colab": {
      "provenance": []
    },
    "kernelspec": {
      "name": "python3",
      "display_name": "Python 3"
    },
    "language_info": {
      "name": "python"
    }
  },
  "cells": [
    {
      "cell_type": "code",
      "execution_count": null,
      "metadata": {
        "colab": {
          "base_uri": "https://localhost:8080/"
        },
        "id": "LxkRW8E7s0OL",
        "outputId": "8505fdc6-0eda-4606-fd4c-3546b906a536"
      },
      "outputs": [
        {
          "output_type": "stream",
          "name": "stdout",
          "text": [
            "Collecting pyspark\n",
            "  Downloading pyspark-3.5.3.tar.gz (317.3 MB)\n",
            "\u001b[2K     \u001b[90m━━━━━━━━━━━━━━━━━━━━━━━━━━━━━━━━━━━━━━━━\u001b[0m \u001b[32m317.3/317.3 MB\u001b[0m \u001b[31m4.1 MB/s\u001b[0m eta \u001b[36m0:00:00\u001b[0m\n",
            "\u001b[?25h  Preparing metadata (setup.py) ... \u001b[?25l\u001b[?25hdone\n",
            "Requirement already satisfied: py4j==0.10.9.7 in /usr/local/lib/python3.10/dist-packages (from pyspark) (0.10.9.7)\n",
            "Building wheels for collected packages: pyspark\n",
            "  Building wheel for pyspark (setup.py) ... \u001b[?25l\u001b[?25hdone\n",
            "  Created wheel for pyspark: filename=pyspark-3.5.3-py2.py3-none-any.whl size=317840625 sha256=a31b1328b576d2e3fff103e234b0dbec670a5683eaa1c209b1950fb499dd9b74\n",
            "  Stored in directory: /root/.cache/pip/wheels/1b/3a/92/28b93e2fbfdbb07509ca4d6f50c5e407f48dce4ddbda69a4ab\n",
            "Successfully built pyspark\n",
            "Installing collected packages: pyspark\n",
            "Successfully installed pyspark-3.5.3\n"
          ]
        }
      ],
      "source": [
        "!pip install pyspark"
      ]
    },
    {
      "cell_type": "code",
      "source": [
        "from pyspark.sql import SparkSession\n",
        "from pyspark.sql.functions import col, avg, to_timestamp\n",
        "\n",
        "# Create Spark session\n",
        "spark = SparkSession.builder \\\n",
        "    .appName(\"EnergyConsumptionMonitoring\") \\\n",
        "    .getOrCreate()"
      ],
      "metadata": {
        "id": "EdLAKZx_tKg9"
      },
      "execution_count": null,
      "outputs": []
    },
    {
      "cell_type": "code",
      "source": [
        "# Load CSV data\n",
        "csv_file_path = '/content/energy_data.csv'\n",
        "energy_data = spark.read.csv(csv_file_path, header=True, inferSchema=True)\n",
        "\n",
        "\n",
        "energy_data.show(truncate=False)\n"
      ],
      "metadata": {
        "colab": {
          "base_uri": "https://localhost:8080/"
        },
        "id": "cnrB_xPItRx3",
        "outputId": "211a5f26-e784-4c4e-f45a-75fc715fa50c"
      },
      "execution_count": null,
      "outputs": [
        {
          "output_type": "stream",
          "name": "stdout",
          "text": [
            "+-------+---------+-------------------+---------------+-----------+\n",
            "|user_id|device_id|reading_time       |energy_consumed|device_type|\n",
            "+-------+---------+-------------------+---------------+-----------+\n",
            "|101    |abc123   |2023-09-01 08:15:00|15.2           |smart_meter|\n",
            "|102    |def456   |2023-09-01 09:30:00|20.5           |smart_meter|\n",
            "|101    |abc123   |2023-09-02 08:10:00|14.8           |smart_meter|\n",
            "|103    |ghi789   |2023-09-02 07:50:00|18.3           |thermostat |\n",
            "|104    |jkl012   |2023-09-03 10:00:00|22.0           |solar_panel|\n",
            "|102    |def456   |2023-09-03 11:30:00|19.6           |smart_meter|\n",
            "+-------+---------+-------------------+---------------+-----------+\n",
            "\n"
          ]
        }
      ]
    },
    {
      "cell_type": "code",
      "source": [
        "# Convert reading_time to TimestampType\n",
        "energy_data = energy_data.withColumn(\"reading_time\", to_timestamp(col(\"reading_time\")))\n",
        "\n",
        "# Calculate the overall average energy consumption\n",
        "overall_average_consumption = energy_data.agg(avg(\"energy_consumed\").alias(\"overall_average\")).first()['overall_average']\n",
        "print(\"Overall Average Energy Consumption:\", overall_average_consumption)\n",
        "\n",
        "# Detect anomalies: identify readings that deviate significantly from the overall average\n",
        "# Check for values greater than 1.1 times the average or less than 0.9 times the average\n",
        "anomalies = energy_data.filter((col(\"energy_consumed\") > overall_average_consumption * 1.1) |\n",
        "                                (col(\"energy_consumed\") < overall_average_consumption * 0.9))\n",
        "\n",
        "anomalies.show(truncate=False)\n",
        "\n",
        "# save the anomalies to a new CSV file\n",
        "output_file_path = 'anomalies_output.csv'\n",
        "anomalies.write.csv(output_file_path, header=True)\n",
        "\n",
        "print(\"Anomalies detected and saved to:\", output_file_path)\n",
        "\n",
        "\n",
        "anomalies_df = spark.read.csv('anomalies_output.csv', header=True, inferSchema=True)\n",
        "anomalies_df.show(truncate=False)\n"
      ],
      "metadata": {
        "colab": {
          "base_uri": "https://localhost:8080/"
        },
        "id": "1lZue2dptVD8",
        "outputId": "72853abe-5a7d-4b50-a15b-917ea7520512"
      },
      "execution_count": null,
      "outputs": [
        {
          "output_type": "stream",
          "name": "stdout",
          "text": [
            "Overall Average Energy Consumption: 18.400000000000002\n",
            "+-------+---------+-------------------+---------------+-----------+\n",
            "|user_id|device_id|reading_time       |energy_consumed|device_type|\n",
            "+-------+---------+-------------------+---------------+-----------+\n",
            "|101    |abc123   |2023-09-01 08:15:00|15.2           |smart_meter|\n",
            "|102    |def456   |2023-09-01 09:30:00|20.5           |smart_meter|\n",
            "|101    |abc123   |2023-09-02 08:10:00|14.8           |smart_meter|\n",
            "|104    |jkl012   |2023-09-03 10:00:00|22.0           |solar_panel|\n",
            "+-------+---------+-------------------+---------------+-----------+\n",
            "\n",
            "Anomalies detected and saved to: anomalies_output.csv\n",
            "+-------+---------+-------------------+---------------+-----------+\n",
            "|user_id|device_id|reading_time       |energy_consumed|device_type|\n",
            "+-------+---------+-------------------+---------------+-----------+\n",
            "|101    |abc123   |2023-09-01 08:15:00|15.2           |smart_meter|\n",
            "|102    |def456   |2023-09-01 09:30:00|20.5           |smart_meter|\n",
            "|101    |abc123   |2023-09-02 08:10:00|14.8           |smart_meter|\n",
            "|104    |jkl012   |2023-09-03 10:00:00|22.0           |solar_panel|\n",
            "+-------+---------+-------------------+---------------+-----------+\n",
            "\n"
          ]
        }
      ]
    }
  ]
}